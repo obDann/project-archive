{
 "cells": [
  {
   "cell_type": "markdown",
   "metadata": {},
   "source": [
    "## Module Initialization"
   ]
  },
  {
   "cell_type": "code",
   "execution_count": 249,
   "metadata": {
    "collapsed": true
   },
   "outputs": [],
   "source": [
    "# import the necessary packages/modules\n",
    "import pandas as pd\n",
    "import numpy as np\n",
    "import matplotlib.pyplot as plt\n",
    "from IPython.display import display, HTML"
   ]
  },
  {
   "cell_type": "markdown",
   "metadata": {},
   "source": [
    "### Importing Data"
   ]
  },
  {
   "cell_type": "code",
   "execution_count": 250,
   "metadata": {},
   "outputs": [
    {
     "data": {
      "text/html": [
       "<div>\n",
       "<style>\n",
       "    .dataframe thead tr:only-child th {\n",
       "        text-align: right;\n",
       "    }\n",
       "\n",
       "    .dataframe thead th {\n",
       "        text-align: left;\n",
       "    }\n",
       "\n",
       "    .dataframe tbody tr th {\n",
       "        vertical-align: top;\n",
       "    }\n",
       "</style>\n",
       "<table border=\"1\" class=\"dataframe\">\n",
       "  <thead>\n",
       "    <tr style=\"text-align: right;\">\n",
       "      <th></th>\n",
       "      <th>Time</th>\n",
       "      <th>Day</th>\n",
       "      <th>Station</th>\n",
       "      <th>Code</th>\n",
       "      <th>Min Delay</th>\n",
       "      <th>Min Gap</th>\n",
       "      <th>Bound</th>\n",
       "      <th>Line</th>\n",
       "      <th>Vehicle</th>\n",
       "    </tr>\n",
       "    <tr>\n",
       "      <th>Date</th>\n",
       "      <th></th>\n",
       "      <th></th>\n",
       "      <th></th>\n",
       "      <th></th>\n",
       "      <th></th>\n",
       "      <th></th>\n",
       "      <th></th>\n",
       "      <th></th>\n",
       "      <th></th>\n",
       "    </tr>\n",
       "  </thead>\n",
       "  <tbody>\n",
       "    <tr>\n",
       "      <th>2018-01-01</th>\n",
       "      <td>00:29</td>\n",
       "      <td>Monday</td>\n",
       "      <td>SHEPPARD WEST STATION</td>\n",
       "      <td>MUATC</td>\n",
       "      <td>10</td>\n",
       "      <td>15</td>\n",
       "      <td>N</td>\n",
       "      <td>YU</td>\n",
       "      <td>5986</td>\n",
       "    </tr>\n",
       "    <tr>\n",
       "      <th>2018-01-01</th>\n",
       "      <td>01:07</td>\n",
       "      <td>Monday</td>\n",
       "      <td>DUNDAS STATION</td>\n",
       "      <td>MUNCA</td>\n",
       "      <td>0</td>\n",
       "      <td>0</td>\n",
       "      <td>NaN</td>\n",
       "      <td>YU</td>\n",
       "      <td>0</td>\n",
       "    </tr>\n",
       "    <tr>\n",
       "      <th>2018-01-01</th>\n",
       "      <td>01:22</td>\n",
       "      <td>Monday</td>\n",
       "      <td>MUSEUM STATION</td>\n",
       "      <td>MUSC</td>\n",
       "      <td>0</td>\n",
       "      <td>0</td>\n",
       "      <td>N</td>\n",
       "      <td>YU</td>\n",
       "      <td>5751</td>\n",
       "    </tr>\n",
       "    <tr>\n",
       "      <th>2018-01-01</th>\n",
       "      <td>01:28</td>\n",
       "      <td>Monday</td>\n",
       "      <td>BAY LOWER</td>\n",
       "      <td>EUOE</td>\n",
       "      <td>0</td>\n",
       "      <td>0</td>\n",
       "      <td>NaN</td>\n",
       "      <td>BD</td>\n",
       "      <td>5222</td>\n",
       "    </tr>\n",
       "    <tr>\n",
       "      <th>2018-01-01</th>\n",
       "      <td>01:39</td>\n",
       "      <td>Monday</td>\n",
       "      <td>MUSEUM STATION</td>\n",
       "      <td>MUO</td>\n",
       "      <td>6</td>\n",
       "      <td>11</td>\n",
       "      <td>S</td>\n",
       "      <td>YU</td>\n",
       "      <td>5781</td>\n",
       "    </tr>\n",
       "    <tr>\n",
       "      <th>2018-01-01</th>\n",
       "      <td>02:00</td>\n",
       "      <td>Monday</td>\n",
       "      <td>BLOOR DANFORTH SUBWAY</td>\n",
       "      <td>MUGD</td>\n",
       "      <td>0</td>\n",
       "      <td>0</td>\n",
       "      <td>NaN</td>\n",
       "      <td>BD</td>\n",
       "      <td>0</td>\n",
       "    </tr>\n",
       "    <tr>\n",
       "      <th>2018-01-01</th>\n",
       "      <td>02:09</td>\n",
       "      <td>Monday</td>\n",
       "      <td>KIPLING STATION</td>\n",
       "      <td>MUSAN</td>\n",
       "      <td>3</td>\n",
       "      <td>7</td>\n",
       "      <td>E</td>\n",
       "      <td>BD</td>\n",
       "      <td>5261</td>\n",
       "    </tr>\n",
       "    <tr>\n",
       "      <th>2018-01-01</th>\n",
       "      <td>02:32</td>\n",
       "      <td>Monday</td>\n",
       "      <td>UNION STATION</td>\n",
       "      <td>MUIS</td>\n",
       "      <td>0</td>\n",
       "      <td>0</td>\n",
       "      <td>NaN</td>\n",
       "      <td>YU</td>\n",
       "      <td>0</td>\n",
       "    </tr>\n",
       "    <tr>\n",
       "      <th>2018-01-01</th>\n",
       "      <td>02:42</td>\n",
       "      <td>Monday</td>\n",
       "      <td>COLLEGE STATION</td>\n",
       "      <td>SUDP</td>\n",
       "      <td>7</td>\n",
       "      <td>12</td>\n",
       "      <td>N</td>\n",
       "      <td>YU</td>\n",
       "      <td>5696</td>\n",
       "    </tr>\n",
       "    <tr>\n",
       "      <th>2018-01-01</th>\n",
       "      <td>02:48</td>\n",
       "      <td>Monday</td>\n",
       "      <td>KIPLING STATION</td>\n",
       "      <td>SUDP</td>\n",
       "      <td>0</td>\n",
       "      <td>0</td>\n",
       "      <td>NaN</td>\n",
       "      <td>BD</td>\n",
       "      <td>0</td>\n",
       "    </tr>\n",
       "  </tbody>\n",
       "</table>\n",
       "</div>"
      ],
      "text/plain": [
       "             Time     Day                Station   Code  Min Delay  Min Gap  \\\n",
       "Date                                                                          \n",
       "2018-01-01  00:29  Monday  SHEPPARD WEST STATION  MUATC         10       15   \n",
       "2018-01-01  01:07  Monday         DUNDAS STATION  MUNCA          0        0   \n",
       "2018-01-01  01:22  Monday         MUSEUM STATION   MUSC          0        0   \n",
       "2018-01-01  01:28  Monday              BAY LOWER   EUOE          0        0   \n",
       "2018-01-01  01:39  Monday         MUSEUM STATION    MUO          6       11   \n",
       "2018-01-01  02:00  Monday  BLOOR DANFORTH SUBWAY   MUGD          0        0   \n",
       "2018-01-01  02:09  Monday        KIPLING STATION  MUSAN          3        7   \n",
       "2018-01-01  02:32  Monday          UNION STATION   MUIS          0        0   \n",
       "2018-01-01  02:42  Monday        COLLEGE STATION   SUDP          7       12   \n",
       "2018-01-01  02:48  Monday        KIPLING STATION   SUDP          0        0   \n",
       "\n",
       "           Bound Line  Vehicle  \n",
       "Date                            \n",
       "2018-01-01     N   YU     5986  \n",
       "2018-01-01   NaN   YU        0  \n",
       "2018-01-01     N   YU     5751  \n",
       "2018-01-01   NaN   BD     5222  \n",
       "2018-01-01     S   YU     5781  \n",
       "2018-01-01   NaN   BD        0  \n",
       "2018-01-01     E   BD     5261  \n",
       "2018-01-01   NaN   YU        0  \n",
       "2018-01-01     N   YU     5696  \n",
       "2018-01-01   NaN   BD        0  "
      ]
     },
     "execution_count": 250,
     "metadata": {},
     "output_type": "execute_result"
    }
   ],
   "source": [
    "# use the original data\n",
    "df_ttc_original = pd.read_csv('Subway_SRT_Logs_January 2018.csv', index_col=0, header=0)\n",
    "# Look at the top 10 pieces of data\n",
    "df_ttc_original.head(10)"
   ]
  },
  {
   "cell_type": "markdown",
   "metadata": {},
   "source": [
    "### Initializing Data Analysis"
   ]
  },
  {
   "cell_type": "code",
   "execution_count": 251,
   "metadata": {},
   "outputs": [
    {
     "name": "stdout",
     "output_type": "stream",
     "text": [
      "Occurrences of null data for each column:\n",
      "Time           0\n",
      "Day            0\n",
      "Station        0\n",
      "Code           0\n",
      "Min Delay      0\n",
      "Min Gap        0\n",
      "Bound        393\n",
      "Line          10\n",
      "Vehicle        0\n",
      "dtype: int64\n"
     ]
    }
   ],
   "source": [
    "# Let's determine which columns have missing data\n",
    "# so that we come to a decision of deletion or imputation\n",
    "print('Occurrences of null data for each column:')\n",
    "the_nulls = pd.isnull(df_ttc_original).sum()\n",
    "print(the_nulls)"
   ]
  },
  {
   "cell_type": "markdown",
   "metadata": {},
   "source": [
    "We see that the NULL values occur at the columns 'Bound' and 'Line'. However, in reference to the previous cell, there are multiple cases of 0 being labelled within the Vehicle number, which may be considered as a NULL"
   ]
  },
  {
   "cell_type": "code",
   "execution_count": 252,
   "metadata": {},
   "outputs": [
    {
     "data": {
      "text/plain": [
       "Vehicle\n",
       "0    456\n",
       "Name: Time, dtype: int64"
      ]
     },
     "execution_count": 252,
     "metadata": {},
     "output_type": "execute_result"
    }
   ],
   "source": [
    "df_ttc_renew_vehicles = df_ttc_original.groupby('Vehicle').count()\n",
    "df_ttc_renew_vehicles['Time'].head(1)"
   ]
  },
  {
   "cell_type": "code",
   "execution_count": 253,
   "metadata": {},
   "outputs": [
    {
     "name": "stdout",
     "output_type": "stream",
     "text": [
      "In this data set, there are 1873 rows\n"
     ]
    }
   ],
   "source": [
    "# determining the number of rows there are\n",
    "rows = df_ttc_original.shape[0]\n",
    "print(\"In this data set, there are \" + str(rows) + \" rows\")"
   ]
  },
  {
   "cell_type": "markdown",
   "metadata": {},
   "source": [
    "Considering the impact if we were to just obliviously delete all rows will nulls, the data deleted would represent a significant amount of the data reported in our csv file (representing at least 456 rows). What we can also do is use describe to see what can be considered as \"measurable\""
   ]
  },
  {
   "cell_type": "code",
   "execution_count": 254,
   "metadata": {},
   "outputs": [
    {
     "data": {
      "text/html": [
       "<div>\n",
       "<style>\n",
       "    .dataframe thead tr:only-child th {\n",
       "        text-align: right;\n",
       "    }\n",
       "\n",
       "    .dataframe thead th {\n",
       "        text-align: left;\n",
       "    }\n",
       "\n",
       "    .dataframe tbody tr th {\n",
       "        vertical-align: top;\n",
       "    }\n",
       "</style>\n",
       "<table border=\"1\" class=\"dataframe\">\n",
       "  <thead>\n",
       "    <tr style=\"text-align: right;\">\n",
       "      <th></th>\n",
       "      <th>Min Delay</th>\n",
       "      <th>Min Gap</th>\n",
       "      <th>Vehicle</th>\n",
       "    </tr>\n",
       "  </thead>\n",
       "  <tbody>\n",
       "    <tr>\n",
       "      <th>count</th>\n",
       "      <td>1873.000000</td>\n",
       "      <td>1873.000000</td>\n",
       "      <td>1873.000000</td>\n",
       "    </tr>\n",
       "    <tr>\n",
       "      <th>mean</th>\n",
       "      <td>2.791244</td>\n",
       "      <td>3.980246</td>\n",
       "      <td>4073.530166</td>\n",
       "    </tr>\n",
       "    <tr>\n",
       "      <th>std</th>\n",
       "      <td>9.385311</td>\n",
       "      <td>10.218298</td>\n",
       "      <td>2376.690666</td>\n",
       "    </tr>\n",
       "    <tr>\n",
       "      <th>min</th>\n",
       "      <td>0.000000</td>\n",
       "      <td>0.000000</td>\n",
       "      <td>0.000000</td>\n",
       "    </tr>\n",
       "    <tr>\n",
       "      <th>25%</th>\n",
       "      <td>0.000000</td>\n",
       "      <td>0.000000</td>\n",
       "      <td>3004.000000</td>\n",
       "    </tr>\n",
       "    <tr>\n",
       "      <th>50%</th>\n",
       "      <td>0.000000</td>\n",
       "      <td>0.000000</td>\n",
       "      <td>5249.000000</td>\n",
       "    </tr>\n",
       "    <tr>\n",
       "      <th>75%</th>\n",
       "      <td>3.000000</td>\n",
       "      <td>7.000000</td>\n",
       "      <td>5646.000000</td>\n",
       "    </tr>\n",
       "    <tr>\n",
       "      <th>max</th>\n",
       "      <td>248.000000</td>\n",
       "      <td>253.000000</td>\n",
       "      <td>8713.000000</td>\n",
       "    </tr>\n",
       "  </tbody>\n",
       "</table>\n",
       "</div>"
      ],
      "text/plain": [
       "         Min Delay      Min Gap      Vehicle\n",
       "count  1873.000000  1873.000000  1873.000000\n",
       "mean      2.791244     3.980246  4073.530166\n",
       "std       9.385311    10.218298  2376.690666\n",
       "min       0.000000     0.000000     0.000000\n",
       "25%       0.000000     0.000000  3004.000000\n",
       "50%       0.000000     0.000000  5249.000000\n",
       "75%       3.000000     7.000000  5646.000000\n",
       "max     248.000000   253.000000  8713.000000"
      ]
     },
     "execution_count": 254,
     "metadata": {},
     "output_type": "execute_result"
    }
   ],
   "source": [
    "df_ttc_original.describe()"
   ]
  },
  {
   "cell_type": "markdown",
   "metadata": {},
   "source": [
    "Given the circumstances, where the only two \"measurable\" columns (based on their data types) aren't the columns with NULL values, we don't have to impute/delete anything just yet, but only for questions in regarding to bounds, lines, and vehicles"
   ]
  },
  {
   "cell_type": "markdown",
   "metadata": {},
   "source": [
    "## Question 1: During which periods of the day do the delays occur more often?"
   ]
  },
  {
   "cell_type": "code",
   "execution_count": 255,
   "metadata": {},
   "outputs": [
    {
     "name": "stderr",
     "output_type": "stream",
     "text": [
      "C:\\Users\\Dann Justin\\Anaconda3\\lib\\site-packages\\pandas\\core\\indexing.py:337: SettingWithCopyWarning: \n",
      "A value is trying to be set on a copy of a slice from a DataFrame.\n",
      "Try using .loc[row_indexer,col_indexer] = value instead\n",
      "\n",
      "See the caveats in the documentation: http://pandas.pydata.org/pandas-docs/stable/indexing.html#indexing-view-versus-copy\n",
      "  self.obj[key] = _infer_fill_value(value)\n",
      "C:\\Users\\Dann Justin\\Anaconda3\\lib\\site-packages\\pandas\\core\\indexing.py:517: SettingWithCopyWarning: \n",
      "A value is trying to be set on a copy of a slice from a DataFrame.\n",
      "Try using .loc[row_indexer,col_indexer] = value instead\n",
      "\n",
      "See the caveats in the documentation: http://pandas.pydata.org/pandas-docs/stable/indexing.html#indexing-view-versus-copy\n",
      "  self.obj[item] = s\n"
     ]
    },
    {
     "data": {
      "text/html": [
       "<div>\n",
       "<style>\n",
       "    .dataframe thead tr:only-child th {\n",
       "        text-align: right;\n",
       "    }\n",
       "\n",
       "    .dataframe thead th {\n",
       "        text-align: left;\n",
       "    }\n",
       "\n",
       "    .dataframe tbody tr th {\n",
       "        vertical-align: top;\n",
       "    }\n",
       "</style>\n",
       "<table border=\"1\" class=\"dataframe\">\n",
       "  <thead>\n",
       "    <tr style=\"text-align: right;\">\n",
       "      <th></th>\n",
       "      <th>Time</th>\n",
       "      <th>Day</th>\n",
       "      <th>Station</th>\n",
       "      <th>Code</th>\n",
       "      <th>Min Delay</th>\n",
       "      <th>Min Gap</th>\n",
       "      <th>Bound</th>\n",
       "      <th>Line</th>\n",
       "      <th>Vehicle</th>\n",
       "      <th>Hour</th>\n",
       "    </tr>\n",
       "    <tr>\n",
       "      <th>Date</th>\n",
       "      <th></th>\n",
       "      <th></th>\n",
       "      <th></th>\n",
       "      <th></th>\n",
       "      <th></th>\n",
       "      <th></th>\n",
       "      <th></th>\n",
       "      <th></th>\n",
       "      <th></th>\n",
       "      <th></th>\n",
       "    </tr>\n",
       "  </thead>\n",
       "  <tbody>\n",
       "    <tr>\n",
       "      <th>2018-01-01</th>\n",
       "      <td>00:29</td>\n",
       "      <td>Monday</td>\n",
       "      <td>SHEPPARD WEST STATION</td>\n",
       "      <td>MUATC</td>\n",
       "      <td>10</td>\n",
       "      <td>15</td>\n",
       "      <td>N</td>\n",
       "      <td>YU</td>\n",
       "      <td>5986</td>\n",
       "      <td>0</td>\n",
       "    </tr>\n",
       "    <tr>\n",
       "      <th>2018-01-01</th>\n",
       "      <td>01:07</td>\n",
       "      <td>Monday</td>\n",
       "      <td>DUNDAS STATION</td>\n",
       "      <td>MUNCA</td>\n",
       "      <td>0</td>\n",
       "      <td>0</td>\n",
       "      <td>NaN</td>\n",
       "      <td>YU</td>\n",
       "      <td>0</td>\n",
       "      <td>1</td>\n",
       "    </tr>\n",
       "    <tr>\n",
       "      <th>2018-01-01</th>\n",
       "      <td>01:22</td>\n",
       "      <td>Monday</td>\n",
       "      <td>MUSEUM STATION</td>\n",
       "      <td>MUSC</td>\n",
       "      <td>0</td>\n",
       "      <td>0</td>\n",
       "      <td>N</td>\n",
       "      <td>YU</td>\n",
       "      <td>5751</td>\n",
       "      <td>1</td>\n",
       "    </tr>\n",
       "    <tr>\n",
       "      <th>2018-01-01</th>\n",
       "      <td>01:28</td>\n",
       "      <td>Monday</td>\n",
       "      <td>BAY LOWER</td>\n",
       "      <td>EUOE</td>\n",
       "      <td>0</td>\n",
       "      <td>0</td>\n",
       "      <td>NaN</td>\n",
       "      <td>BD</td>\n",
       "      <td>5222</td>\n",
       "      <td>1</td>\n",
       "    </tr>\n",
       "    <tr>\n",
       "      <th>2018-01-01</th>\n",
       "      <td>01:39</td>\n",
       "      <td>Monday</td>\n",
       "      <td>MUSEUM STATION</td>\n",
       "      <td>MUO</td>\n",
       "      <td>6</td>\n",
       "      <td>11</td>\n",
       "      <td>S</td>\n",
       "      <td>YU</td>\n",
       "      <td>5781</td>\n",
       "      <td>1</td>\n",
       "    </tr>\n",
       "  </tbody>\n",
       "</table>\n",
       "</div>"
      ],
      "text/plain": [
       "             Time     Day                Station   Code  Min Delay  Min Gap  \\\n",
       "Date                                                                          \n",
       "2018-01-01  00:29  Monday  SHEPPARD WEST STATION  MUATC         10       15   \n",
       "2018-01-01  01:07  Monday         DUNDAS STATION  MUNCA          0        0   \n",
       "2018-01-01  01:22  Monday         MUSEUM STATION   MUSC          0        0   \n",
       "2018-01-01  01:28  Monday              BAY LOWER   EUOE          0        0   \n",
       "2018-01-01  01:39  Monday         MUSEUM STATION    MUO          6       11   \n",
       "\n",
       "           Bound Line  Vehicle  Hour  \n",
       "Date                                  \n",
       "2018-01-01     N   YU     5986     0  \n",
       "2018-01-01   NaN   YU        0     1  \n",
       "2018-01-01     N   YU     5751     1  \n",
       "2018-01-01   NaN   BD     5222     1  \n",
       "2018-01-01     S   YU     5781     1  "
      ]
     },
     "execution_count": 255,
     "metadata": {},
     "output_type": "execute_result"
    }
   ],
   "source": [
    "# Special thanks to the announcements (Yichen) for the code below.\n",
    "# this cell provides our original dataframe with an extra column\n",
    "# called 'Hour'. This is used for question 1.\n",
    "\n",
    "import datetime\n",
    "def obtainHourOfDay(timestr): \n",
    "    datetime_obj = datetime.datetime.strptime(timestr, '%H:%M') \n",
    "    return datetime_obj.hour\n",
    "\n",
    "# we'll make a copy of the original data in case of mutability\n",
    "df_q1 = df_ttc_original[:]\n",
    "# then we apply the function to get the specified hour\n",
    "df_q1.loc[:,'Hour'] = df_q1['Time'].apply(obtainHourOfDay) \n",
    "df_q1.head()"
   ]
  },
  {
   "cell_type": "markdown",
   "metadata": {},
   "source": [
    "### Broader view: Based on Morning, Afternoon and Night"
   ]
  },
  {
   "cell_type": "code",
   "execution_count": 256,
   "metadata": {},
   "outputs": [
    {
     "name": "stdout",
     "output_type": "stream",
     "text": [
      "This is the top of the data after adding a new column:\n"
     ]
    },
    {
     "name": "stderr",
     "output_type": "stream",
     "text": [
      "C:\\Users\\Dann Justin\\Anaconda3\\lib\\site-packages\\pandas\\core\\indexing.py:337: SettingWithCopyWarning: \n",
      "A value is trying to be set on a copy of a slice from a DataFrame.\n",
      "Try using .loc[row_indexer,col_indexer] = value instead\n",
      "\n",
      "See the caveats in the documentation: http://pandas.pydata.org/pandas-docs/stable/indexing.html#indexing-view-versus-copy\n",
      "  self.obj[key] = _infer_fill_value(value)\n",
      "C:\\Users\\Dann Justin\\Anaconda3\\lib\\site-packages\\pandas\\core\\indexing.py:517: SettingWithCopyWarning: \n",
      "A value is trying to be set on a copy of a slice from a DataFrame.\n",
      "Try using .loc[row_indexer,col_indexer] = value instead\n",
      "\n",
      "See the caveats in the documentation: http://pandas.pydata.org/pandas-docs/stable/indexing.html#indexing-view-versus-copy\n",
      "  self.obj[item] = s\n"
     ]
    },
    {
     "data": {
      "text/html": [
       "<div>\n",
       "<style>\n",
       "    .dataframe thead tr:only-child th {\n",
       "        text-align: right;\n",
       "    }\n",
       "\n",
       "    .dataframe thead th {\n",
       "        text-align: left;\n",
       "    }\n",
       "\n",
       "    .dataframe tbody tr th {\n",
       "        vertical-align: top;\n",
       "    }\n",
       "</style>\n",
       "<table border=\"1\" class=\"dataframe\">\n",
       "  <thead>\n",
       "    <tr style=\"text-align: right;\">\n",
       "      <th></th>\n",
       "      <th>Time</th>\n",
       "      <th>Day</th>\n",
       "      <th>Station</th>\n",
       "      <th>Code</th>\n",
       "      <th>Min Delay</th>\n",
       "      <th>Min Gap</th>\n",
       "      <th>Bound</th>\n",
       "      <th>Line</th>\n",
       "      <th>Vehicle</th>\n",
       "      <th>Hour</th>\n",
       "      <th>Time of Day</th>\n",
       "    </tr>\n",
       "    <tr>\n",
       "      <th>Date</th>\n",
       "      <th></th>\n",
       "      <th></th>\n",
       "      <th></th>\n",
       "      <th></th>\n",
       "      <th></th>\n",
       "      <th></th>\n",
       "      <th></th>\n",
       "      <th></th>\n",
       "      <th></th>\n",
       "      <th></th>\n",
       "      <th></th>\n",
       "    </tr>\n",
       "  </thead>\n",
       "  <tbody>\n",
       "    <tr>\n",
       "      <th>2018-01-01</th>\n",
       "      <td>00:29</td>\n",
       "      <td>Monday</td>\n",
       "      <td>SHEPPARD WEST STATION</td>\n",
       "      <td>MUATC</td>\n",
       "      <td>10</td>\n",
       "      <td>15</td>\n",
       "      <td>N</td>\n",
       "      <td>YU</td>\n",
       "      <td>5986</td>\n",
       "      <td>0</td>\n",
       "      <td>Morning</td>\n",
       "    </tr>\n",
       "    <tr>\n",
       "      <th>2018-01-01</th>\n",
       "      <td>01:07</td>\n",
       "      <td>Monday</td>\n",
       "      <td>DUNDAS STATION</td>\n",
       "      <td>MUNCA</td>\n",
       "      <td>0</td>\n",
       "      <td>0</td>\n",
       "      <td>NaN</td>\n",
       "      <td>YU</td>\n",
       "      <td>0</td>\n",
       "      <td>1</td>\n",
       "      <td>Morning</td>\n",
       "    </tr>\n",
       "    <tr>\n",
       "      <th>2018-01-01</th>\n",
       "      <td>01:22</td>\n",
       "      <td>Monday</td>\n",
       "      <td>MUSEUM STATION</td>\n",
       "      <td>MUSC</td>\n",
       "      <td>0</td>\n",
       "      <td>0</td>\n",
       "      <td>N</td>\n",
       "      <td>YU</td>\n",
       "      <td>5751</td>\n",
       "      <td>1</td>\n",
       "      <td>Morning</td>\n",
       "    </tr>\n",
       "  </tbody>\n",
       "</table>\n",
       "</div>"
      ],
      "text/plain": [
       "             Time     Day                Station   Code  Min Delay  Min Gap  \\\n",
       "Date                                                                          \n",
       "2018-01-01  00:29  Monday  SHEPPARD WEST STATION  MUATC         10       15   \n",
       "2018-01-01  01:07  Monday         DUNDAS STATION  MUNCA          0        0   \n",
       "2018-01-01  01:22  Monday         MUSEUM STATION   MUSC          0        0   \n",
       "\n",
       "           Bound Line  Vehicle  Hour Time of Day  \n",
       "Date                                              \n",
       "2018-01-01     N   YU     5986     0     Morning  \n",
       "2018-01-01   NaN   YU        0     1     Morning  \n",
       "2018-01-01     N   YU     5751     1     Morning  "
      ]
     },
     "metadata": {},
     "output_type": "display_data"
    },
    {
     "name": "stdout",
     "output_type": "stream",
     "text": [
      "THis is the bottom of the data after adding a new column:\n"
     ]
    },
    {
     "data": {
      "text/html": [
       "<div>\n",
       "<style>\n",
       "    .dataframe thead tr:only-child th {\n",
       "        text-align: right;\n",
       "    }\n",
       "\n",
       "    .dataframe thead th {\n",
       "        text-align: left;\n",
       "    }\n",
       "\n",
       "    .dataframe tbody tr th {\n",
       "        vertical-align: top;\n",
       "    }\n",
       "</style>\n",
       "<table border=\"1\" class=\"dataframe\">\n",
       "  <thead>\n",
       "    <tr style=\"text-align: right;\">\n",
       "      <th></th>\n",
       "      <th>Time</th>\n",
       "      <th>Day</th>\n",
       "      <th>Station</th>\n",
       "      <th>Code</th>\n",
       "      <th>Min Delay</th>\n",
       "      <th>Min Gap</th>\n",
       "      <th>Bound</th>\n",
       "      <th>Line</th>\n",
       "      <th>Vehicle</th>\n",
       "      <th>Hour</th>\n",
       "      <th>Time of Day</th>\n",
       "    </tr>\n",
       "    <tr>\n",
       "      <th>Date</th>\n",
       "      <th></th>\n",
       "      <th></th>\n",
       "      <th></th>\n",
       "      <th></th>\n",
       "      <th></th>\n",
       "      <th></th>\n",
       "      <th></th>\n",
       "      <th></th>\n",
       "      <th></th>\n",
       "      <th></th>\n",
       "      <th></th>\n",
       "    </tr>\n",
       "  </thead>\n",
       "  <tbody>\n",
       "    <tr>\n",
       "      <th>2018-01-31</th>\n",
       "      <td>22:39</td>\n",
       "      <td>Wednesday</td>\n",
       "      <td>UNION STATION</td>\n",
       "      <td>SUO</td>\n",
       "      <td>0</td>\n",
       "      <td>0</td>\n",
       "      <td>N</td>\n",
       "      <td>YU</td>\n",
       "      <td>5696</td>\n",
       "      <td>22</td>\n",
       "      <td>Night</td>\n",
       "    </tr>\n",
       "    <tr>\n",
       "      <th>2018-01-31</th>\n",
       "      <td>23:04</td>\n",
       "      <td>Wednesday</td>\n",
       "      <td>COLLEGE STATION</td>\n",
       "      <td>MUSAN</td>\n",
       "      <td>3</td>\n",
       "      <td>6</td>\n",
       "      <td>S</td>\n",
       "      <td>YU</td>\n",
       "      <td>5416</td>\n",
       "      <td>23</td>\n",
       "      <td>Night</td>\n",
       "    </tr>\n",
       "    <tr>\n",
       "      <th>2018-01-31</th>\n",
       "      <td>23:35</td>\n",
       "      <td>Wednesday</td>\n",
       "      <td>YONGE UNIVERSITY LINE</td>\n",
       "      <td>MUGD</td>\n",
       "      <td>0</td>\n",
       "      <td>0</td>\n",
       "      <td>NaN</td>\n",
       "      <td>YU</td>\n",
       "      <td>0</td>\n",
       "      <td>23</td>\n",
       "      <td>Night</td>\n",
       "    </tr>\n",
       "  </tbody>\n",
       "</table>\n",
       "</div>"
      ],
      "text/plain": [
       "             Time        Day                Station   Code  Min Delay  \\\n",
       "Date                                                                    \n",
       "2018-01-31  22:39  Wednesday          UNION STATION    SUO          0   \n",
       "2018-01-31  23:04  Wednesday        COLLEGE STATION  MUSAN          3   \n",
       "2018-01-31  23:35  Wednesday  YONGE UNIVERSITY LINE   MUGD          0   \n",
       "\n",
       "            Min Gap Bound Line  Vehicle  Hour Time of Day  \n",
       "Date                                                       \n",
       "2018-01-31        0     N   YU     5696    22       Night  \n",
       "2018-01-31        6     S   YU     5416    23       Night  \n",
       "2018-01-31        0   NaN   YU        0    23       Night  "
      ]
     },
     "metadata": {},
     "output_type": "display_data"
    },
    {
     "data": {
      "image/png": "[encoded data removed]",
      "text/plain": [
       "<matplotlib.figure.Figure at 0x1fe37cc2b38>"
      ]
     },
     "metadata": {},
     "output_type": "display_data"
    }
   ],
   "source": [
    "# the diffculty of this question is capturing what\n",
    "# time intervals would be considered 'Morning'/'Afternoon'/'Night'\n",
    "# so this will be subjective and will not be the default bin placement\n",
    "# i.e. pd.cut(df_q1['Hour'] 3, labels = [\"Morning\", \"Afternoon\", \"Night\"])\n",
    "\n",
    "# If we were to use the function above then\n",
    "#     24/3 = 8 per interval\n",
    "#     12:00am to 8:00am is morning\n",
    "#     8:00am to 4:00pm is afternoon\n",
    "#     4:00pm to 12:00pm is night\n",
    "# which may be odd considering the literal meaning of \"after noon\"\n",
    "\n",
    "\n",
    "# Rather, we can change this to\n",
    "#     12:00am to 12:00pm is morning,\n",
    "#     12:00pm to 7:00pm is afternoon,\n",
    "#     7:00pm to 12:00am is night\n",
    "\n",
    "our_range = [0, 12, 19, 25]\n",
    "our_buckets = [\"Morning\", \"Afternoon\", \"Night\"]\n",
    "# use \"cut\" to get to label our buckets\n",
    "new_col = pd.cut(df_q1['Hour'], our_range, right=False, labels=our_buckets)\n",
    "# insert the new column to our DataFrame\n",
    "df_q1.loc[:, \"Time of Day\"] = new_col\n",
    "print('This is the top of the data after adding a new column:')\n",
    "display(df_q1.head(3))\n",
    "print('THis is the bottom of the data after adding a new column:')\n",
    "display(df_q1.tail(3))\n",
    "\n",
    "# We would now like to group by the time of day, but we want to know how often\n",
    "# the delay occurs, asked in the question\n",
    "# so we use the count function after the the group by function\n",
    "df_broad = df_q1.groupby('Time of Day').count()\n",
    "\n",
    "# we can aribtrarily get any column because we just need frequency of delays\n",
    "# for our plot graph\n",
    "df_broad['Time'].plot.bar()\n",
    "# label properly\n",
    "plt.ylabel(\"Frequency of Delays\")\n",
    "plt.xlabel(\"Time of Day\")\n",
    "plt.title(\"Frequency of delays and Time of Day\")\n",
    "plt.show()"
   ]
  },
  {
   "cell_type": "markdown",
   "metadata": {},
   "source": [
    "### Closer View: Per Hour"
   ]
  },
  {
   "cell_type": "code",
   "execution_count": 257,
   "metadata": {},
   "outputs": [
    {
     "name": "stderr",
     "output_type": "stream",
     "text": [
      "C:\\Users\\Dann Justin\\Anaconda3\\lib\\site-packages\\pandas\\core\\indexing.py:517: SettingWithCopyWarning: \n",
      "A value is trying to be set on a copy of a slice from a DataFrame.\n",
      "Try using .loc[row_indexer,col_indexer] = value instead\n",
      "\n",
      "See the caveats in the documentation: http://pandas.pydata.org/pandas-docs/stable/indexing.html#indexing-view-versus-copy\n",
      "  self.obj[item] = s\n"
     ]
    },
    {
     "data": {
      "image/png": "[encoded data removed]",
      "text/plain": [
       "<matplotlib.figure.Figure at 0x1fe366aad68>"
      ]
     },
     "metadata": {},
     "output_type": "display_data"
    }
   ],
   "source": [
    "# We can now group the data, based on the 24 hour clock as mentioned in the metadata\n",
    "hour_range = range(0, 25)  # we go up to 25 so that there exists a bucket for 23 to 0\n",
    "# then we cut the data\n",
    "the_buckets = pd.cut(df_q1['Hour'], hour_range, right=False)\n",
    "\n",
    "# we can now place our data into \"buckets\" by overwriting the \"Time of Day\" column\n",
    "df_q1.loc[:, \"Time of Day\"] = the_buckets\n",
    "# we can group all of them by the time of day, specifically by frequency\n",
    "# as asked by the question\n",
    "df_closer = df_q1.groupby(\"Time of Day\").count()\n",
    "\n",
    "# we can now pick an arbitrary column and make our plot\n",
    "df_closer[\"Time\"].plot.bar()\n",
    "plt.ylabel(\"Frequency of Delays\")\n",
    "plt.xlabel(\"Specified Hours\")\n",
    "plt.title(\"Frequency of Delays and Time of Day (January 2018)\")\n",
    "plt.show()"
   ]
  },
  {
   "cell_type": "code",
   "execution_count": 258,
   "metadata": {},
   "outputs": [
    {
     "data": {
      "image/png": "[encoded data removed]",
      "text/plain": [
       "<matplotlib.figure.Figure at 0x1fe366efcc0>"
      ]
     },
     "metadata": {},
     "output_type": "display_data"
    }
   ],
   "source": [
    "# Alternatively, we can use a histogram to see all of this.\n",
    "df_q1[\"Hour\"].plot.hist(bins=24)\n",
    "plt.ylabel(\"Frequency of Delays\")\n",
    "plt.xlabel(\"Specified Hours\")\n",
    "plt.title(\"Frequency of Delays and Time of Day (January 2018)\")\n",
    "plt.show()"
   ]
  },
  {
   "cell_type": "markdown",
   "metadata": {},
   "source": [
    "# Question 2: Is there a correlation between the time of day and the total delay time?"
   ]
  },
  {
   "cell_type": "code",
   "execution_count": 259,
   "metadata": {
    "collapsed": true
   },
   "outputs": [],
   "source": [
    "def scatter_plot_me(df_general, y_axis, x_label, y_label):\n",
    "    '''\n",
    "    (DataFrame, str, str) -> None\n",
    "\n",
    "    Displays a scatter plot of the data shown with the line\n",
    "    of best fit. The x axis is presumed to be the index,\n",
    "    the y axis is the column name of the specified dataframe.\n",
    "    '''\n",
    "    \n",
    "    # get the index's values, and have them as x\n",
    "    x = df_general.index.values\n",
    "    y = df_general[y_axis]\n",
    "    \n",
    "    plt.scatter(x, y, color = \"blue\")\n",
    "    plt.xlabel(x_label)\n",
    "    plt.ylabel(y_label)\n",
    "    title = x_label + \" and \" + y_label\n",
    "    plt.title(title)\n",
    "    plt.plot(np.unique(x), np.poly1d(np.polyfit(x, y, 1))(np.unique(x)), color = \"orange\")\n",
    "    plt.show()"
   ]
  },
  {
   "cell_type": "markdown",
   "metadata": {},
   "source": [
    "### Overall"
   ]
  },
  {
   "cell_type": "code",
   "execution_count": 260,
   "metadata": {},
   "outputs": [
    {
     "data": {
      "image/png": "[encoded data removed]",
      "text/plain": [
       "<matplotlib.figure.Figure at 0x1fe36583b70>"
      ]
     },
     "metadata": {},
     "output_type": "display_data"
    },
    {
     "name": "stdout",
     "output_type": "stream",
     "text": [
      "Pearson Correlation coefficient:\n"
     ]
    },
    {
     "data": {
      "text/html": [
       "<div>\n",
       "<style>\n",
       "    .dataframe thead tr:only-child th {\n",
       "        text-align: right;\n",
       "    }\n",
       "\n",
       "    .dataframe thead th {\n",
       "        text-align: left;\n",
       "    }\n",
       "\n",
       "    .dataframe tbody tr th {\n",
       "        vertical-align: top;\n",
       "    }\n",
       "</style>\n",
       "<table border=\"1\" class=\"dataframe\">\n",
       "  <thead>\n",
       "    <tr style=\"text-align: right;\">\n",
       "      <th></th>\n",
       "      <th>Hour of Day</th>\n",
       "      <th>Min Delay</th>\n",
       "    </tr>\n",
       "  </thead>\n",
       "  <tbody>\n",
       "    <tr>\n",
       "      <th>Hour of Day</th>\n",
       "      <td>1.000000</td>\n",
       "      <td>0.265789</td>\n",
       "    </tr>\n",
       "    <tr>\n",
       "      <th>Min Delay</th>\n",
       "      <td>0.265789</td>\n",
       "      <td>1.000000</td>\n",
       "    </tr>\n",
       "  </tbody>\n",
       "</table>\n",
       "</div>"
      ],
      "text/plain": [
       "             Hour of Day  Min Delay\n",
       "Hour of Day     1.000000   0.265789\n",
       "Min Delay       0.265789   1.000000"
      ]
     },
     "execution_count": 260,
     "metadata": {},
     "output_type": "execute_result"
    }
   ],
   "source": [
    "# We will be using question 1's dataframe since all other\n",
    "# questions will not be considering time of day\n",
    "\n",
    "# First we want to set the index to \"Hour\" so that we have\n",
    "# an initial x axis\n",
    "df_q2 = df_q1.groupby(\"Hour\")\n",
    "# AND we want a y axis for the total delay time, so we \n",
    "# use the sum function\n",
    "df_q2 = df_q2.sum()\n",
    "\n",
    "\n",
    "\n",
    "# What we would like to do is to draw a scatter plot\n",
    "# to see if there are any outliers between Hour and\n",
    "# total delay time\n",
    "scatter_plot_me(df_q2, \"Min Delay\", \"Hour\", \"Total Delay\")\n",
    "# it's rather difficult to see if there are outliers\n",
    "# since it looks like it goes up twice (between 0 and 10,\n",
    "# and 11 to 17). Also, removing data may not be plausible\n",
    "# as we only have a specific amount of 24 points \n",
    "\n",
    "# In document insert intuitions of the elasticity of\n",
    "# the line of best fit\n",
    "\n",
    "# Now we use pearson's correlation coefficient on q1's dataframe\n",
    "print(\"Pearson Correlation coefficient:\")\n",
    "#df_q1[[\"Hour\", \"Min Delay\"]].corr('pearson')\n",
    "# thus, this shows little to no correlation using a linear\n",
    "# regression method... but it looks more like a sin function\n",
    "\n",
    "# to identify the correlation between time of day and\n",
    "# sum of delays, we have to use the pearson correlation\n",
    "\n",
    "# However, I can't find a way to use the the index\n",
    "# as a comparison column, so I will add the \n",
    "# indexed columns as a new column\n",
    "df_q2.loc[:, \"Hour of Day\"] = df_q2.index.values\n",
    "\n",
    "# Now we would like to find the correlation between\n",
    "# hour of day and the sum of delays\n",
    "df_q2[[\"Hour of Day\", \"Min Delay\"]].corr(\"pearson\")"
   ]
  },
  {
   "cell_type": "markdown",
   "metadata": {},
   "source": [
    "To our suspicion what we can do is divide the time into three parts: Morning Afternoon and Night.\n",
    "For our criteria:\n",
    "12:00am to 12:00pm is morning\n",
    "12:00pm to 7:00pm is afternoon\n",
    "7:00pm to 12:00am is night"
   ]
  },
  {
   "cell_type": "markdown",
   "metadata": {},
   "source": [
    "### In mornings"
   ]
  },
  {
   "cell_type": "code",
   "execution_count": 261,
   "metadata": {},
   "outputs": [
    {
     "name": "stdout",
     "output_type": "stream",
     "text": [
      "There are 895 rows used\n"
     ]
    },
    {
     "data": {
      "image/png": "[encoded data removed]",
      "text/plain": [
       "<matplotlib.figure.Figure at 0x1fe3791e7b8>"
      ]
     },
     "metadata": {},
     "output_type": "display_data"
    },
    {
     "name": "stdout",
     "output_type": "stream",
     "text": [
      "The correlation coefficient in mornings:\n"
     ]
    },
    {
     "data": {
      "text/html": [
       "<div>\n",
       "<style>\n",
       "    .dataframe thead tr:only-child th {\n",
       "        text-align: right;\n",
       "    }\n",
       "\n",
       "    .dataframe thead th {\n",
       "        text-align: left;\n",
       "    }\n",
       "\n",
       "    .dataframe tbody tr th {\n",
       "        vertical-align: top;\n",
       "    }\n",
       "</style>\n",
       "<table border=\"1\" class=\"dataframe\">\n",
       "  <thead>\n",
       "    <tr style=\"text-align: right;\">\n",
       "      <th></th>\n",
       "      <th>Hour of Day</th>\n",
       "      <th>Min Delay</th>\n",
       "    </tr>\n",
       "  </thead>\n",
       "  <tbody>\n",
       "    <tr>\n",
       "      <th>Hour of Day</th>\n",
       "      <td>1.000000</td>\n",
       "      <td>0.484116</td>\n",
       "    </tr>\n",
       "    <tr>\n",
       "      <th>Min Delay</th>\n",
       "      <td>0.484116</td>\n",
       "      <td>1.000000</td>\n",
       "    </tr>\n",
       "  </tbody>\n",
       "</table>\n",
       "</div>"
      ],
      "text/plain": [
       "             Hour of Day  Min Delay\n",
       "Hour of Day     1.000000   0.484116\n",
       "Min Delay       0.484116   1.000000"
      ]
     },
     "execution_count": 261,
     "metadata": {},
     "output_type": "execute_result"
    }
   ],
   "source": [
    "# Based on our criteria, we want the hours of\n",
    "# morning to be from 12:00am to 12:00pm\n",
    "df_morning = df_q1[df_q1[\"Hour\"] < 12]\n",
    "print(\"There are \" + str(df_morning.shape[0]) + \" rows used\")\n",
    "# Now we would like to group this by the hour\n",
    "df_morning = df_morning.groupby(\"Hour\")\n",
    "# and, as specified, the total amount of delay\n",
    "df_morning = df_morning.sum()\n",
    "\n",
    "# Now we would like to make a scatter plot out of the morning data\n",
    "scatter_plot_me(df_morning, \"Min Delay\", \"Hour\", \"Total Delay\")\n",
    "\n",
    "# and output the correlation coefficient\n",
    "print(\"The correlation coefficient in mornings:\")\n",
    "# can't use the index to find the correlation between sums, so we\n",
    "# add the indexed column as a new column\n",
    "df_morning.loc[:, \"Hour of Day\"] = df_morning.index.values\n",
    "\n",
    "# now we can use pearson's correlation\n",
    "df_morning[[\"Hour of Day\", \"Min Delay\"]].corr(\"pearson\")"
   ]
  },
  {
   "cell_type": "markdown",
   "metadata": {},
   "source": [
    "### In Afternoons"
   ]
  },
  {
   "cell_type": "code",
   "execution_count": 262,
   "metadata": {},
   "outputs": [
    {
     "name": "stdout",
     "output_type": "stream",
     "text": [
      "There are 537 rows used\n"
     ]
    },
    {
     "data": {
      "image/png": "[encoded data removed]",
      "text/plain": [
       "<matplotlib.figure.Figure at 0x1fe37a999b0>"
      ]
     },
     "metadata": {},
     "output_type": "display_data"
    },
    {
     "name": "stdout",
     "output_type": "stream",
     "text": [
      "The correlation coefficient in afternoons:\n"
     ]
    },
    {
     "data": {
      "text/html": [
       "<div>\n",
       "<style>\n",
       "    .dataframe thead tr:only-child th {\n",
       "        text-align: right;\n",
       "    }\n",
       "\n",
       "    .dataframe thead th {\n",
       "        text-align: left;\n",
       "    }\n",
       "\n",
       "    .dataframe tbody tr th {\n",
       "        vertical-align: top;\n",
       "    }\n",
       "</style>\n",
       "<table border=\"1\" class=\"dataframe\">\n",
       "  <thead>\n",
       "    <tr style=\"text-align: right;\">\n",
       "      <th></th>\n",
       "      <th>Hour of Day</th>\n",
       "      <th>Min Delay</th>\n",
       "    </tr>\n",
       "  </thead>\n",
       "  <tbody>\n",
       "    <tr>\n",
       "      <th>Hour of Day</th>\n",
       "      <td>1.000000</td>\n",
       "      <td>0.823086</td>\n",
       "    </tr>\n",
       "    <tr>\n",
       "      <th>Min Delay</th>\n",
       "      <td>0.823086</td>\n",
       "      <td>1.000000</td>\n",
       "    </tr>\n",
       "  </tbody>\n",
       "</table>\n",
       "</div>"
      ],
      "text/plain": [
       "             Hour of Day  Min Delay\n",
       "Hour of Day     1.000000   0.823086\n",
       "Min Delay       0.823086   1.000000"
      ]
     },
     "execution_count": 262,
     "metadata": {},
     "output_type": "execute_result"
    }
   ],
   "source": [
    "# Based on our criteria, we want the hours of\n",
    "# afternoon to be from 12:00pm to 7:00pm\n",
    "df_afternoon = df_q1[df_q1[\"Hour\"] > 12]\n",
    "df_afternoon = df_afternoon[df_afternoon[\"Hour\"] < 19]\n",
    "print(\"There are \" + str(df_afternoon.shape[0]) + \" rows used\")\n",
    "# Now we would like to group this by the hour\n",
    "df_afternoon = df_afternoon.groupby(\"Hour\")\n",
    "# and, as specified, the total amount of delay\n",
    "df_afternoon = df_afternoon.sum()\n",
    "\n",
    "# Now we would like to make a scatter plot out of the morning data\n",
    "scatter_plot_me(df_afternoon, \"Min Delay\", \"Hour\", \"Total Delay\")\n",
    "\n",
    "# and output the correlation coefficient\n",
    "print(\"The correlation coefficient in afternoons:\")\n",
    "# can't use the index to find the correlation between sums, so we\n",
    "# add the indexed column as a new column\n",
    "df_afternoon.loc[:, \"Hour of Day\"] = df_afternoon.index.values\n",
    "\n",
    "# now we can use pearson's correlation\n",
    "df_afternoon[[\"Hour of Day\", \"Min Delay\"]].corr(\"pearson\")"
   ]
  },
  {
   "cell_type": "markdown",
   "metadata": {},
   "source": [
    "### At Night"
   ]
  },
  {
   "cell_type": "code",
   "execution_count": 263,
   "metadata": {},
   "outputs": [
    {
     "name": "stdout",
     "output_type": "stream",
     "text": [
      "There are 281 rows used\n"
     ]
    },
    {
     "data": {
      "image/png": "[encoded data removed]",
      "text/plain": [
       "<matplotlib.figure.Figure at 0x1fe37a566a0>"
      ]
     },
     "metadata": {},
     "output_type": "display_data"
    },
    {
     "name": "stdout",
     "output_type": "stream",
     "text": [
      "The correlation coefficient at night:\n"
     ]
    },
    {
     "data": {
      "text/html": [
       "<div>\n",
       "<style>\n",
       "    .dataframe thead tr:only-child th {\n",
       "        text-align: right;\n",
       "    }\n",
       "\n",
       "    .dataframe thead th {\n",
       "        text-align: left;\n",
       "    }\n",
       "\n",
       "    .dataframe tbody tr th {\n",
       "        vertical-align: top;\n",
       "    }\n",
       "</style>\n",
       "<table border=\"1\" class=\"dataframe\">\n",
       "  <thead>\n",
       "    <tr style=\"text-align: right;\">\n",
       "      <th></th>\n",
       "      <th>Hour of Day</th>\n",
       "      <th>Min Delay</th>\n",
       "    </tr>\n",
       "  </thead>\n",
       "  <tbody>\n",
       "    <tr>\n",
       "      <th>Hour of Day</th>\n",
       "      <td>1.000000</td>\n",
       "      <td>-0.507179</td>\n",
       "    </tr>\n",
       "    <tr>\n",
       "      <th>Min Delay</th>\n",
       "      <td>-0.507179</td>\n",
       "      <td>1.000000</td>\n",
       "    </tr>\n",
       "  </tbody>\n",
       "</table>\n",
       "</div>"
      ],
      "text/plain": [
       "             Hour of Day  Min Delay\n",
       "Hour of Day     1.000000  -0.507179\n",
       "Min Delay      -0.507179   1.000000"
      ]
     },
     "execution_count": 263,
     "metadata": {},
     "output_type": "execute_result"
    }
   ],
   "source": [
    "# Based on our criteria, we want the hours of\n",
    "# afternoon to be from 7:00pm to 12:00am\n",
    "df_night = df_q1[df_q1[\"Hour\"] > 19]\n",
    "print(\"There are \" + str(df_night.shape[0]) + \" rows used\")\n",
    "# Now we would like to group this by the hour\n",
    "df_night = df_night.groupby(\"Hour\")\n",
    "# and, as specified, the total amount of delay\n",
    "df_night = df_night.sum()\n",
    "\n",
    "# Now we would like to make a scatter plot out of the morning data\n",
    "scatter_plot_me(df_night, \"Min Delay\", \"Hour\", \"Total Delay\")\n",
    "\n",
    "# and output the correlation coefficient\n",
    "print(\"The correlation coefficient at night:\")\n",
    "# can't use the index to find the correlation between sums, so we\n",
    "# add the indexed column as a new column\n",
    "df_night.loc[:, \"Hour of Day\"] = df_night.index.values\n",
    "\n",
    "# now we can use pearson's correlation\n",
    "df_night[[\"Hour of Day\", \"Min Delay\"]].corr(\"pearson\")"
   ]
  },
  {
   "cell_type": "markdown",
   "metadata": {},
   "source": [
    "# Question 3: What are the 10 stations that suffer the most delays? Consider both the total number of delay occurrences and the length of delays as criteria."
   ]
  },
  {
   "cell_type": "code",
   "execution_count": 264,
   "metadata": {
    "collapsed": true
   },
   "outputs": [],
   "source": [
    "# Make two dataframes\n",
    "\n",
    "# One is going to be based on the number of delays\n",
    "# One is going to be based on the total amount of time\n",
    "\n",
    "\n",
    "# first we want to group the data by the station specified\n",
    "gb_q3 = df_ttc_original[:].groupby(\"Station\")\n",
    "# we want to use the sum function to display the total length of delays\n",
    "df_q3 = gb_q3.sum()\n",
    "# and we want to use the count function for another data frame to get\n",
    "# the number of occurrences for delays\n",
    "df_q3_freq = gb_q3.count()\n",
    "# we only need one column from the frequency dataframe to get the number\n",
    "# of occurrences, using df_q3 as our base dataframe\n",
    "df_q3.loc[:, \"Delay Frequency\"] = df_q3_freq[\"Time\"]\n",
    "\n",
    "# Now we have all the data needed for this question, however we can add\n",
    "# an average number of delays as an extra criterion\n",
    "df_q3.loc[:, \"Average time per delay\"] = df_q3[\"Min Delay\"] / df_q3[\"Delay Frequency\"]"
   ]
  },
  {
   "cell_type": "markdown",
   "metadata": {},
   "source": [
    "### By the total number of delay occurrences"
   ]
  },
  {
   "cell_type": "code",
   "execution_count": 265,
   "metadata": {},
   "outputs": [
    {
     "data": {
      "text/html": [
       "<div>\n",
       "<style>\n",
       "    .dataframe thead tr:only-child th {\n",
       "        text-align: right;\n",
       "    }\n",
       "\n",
       "    .dataframe thead th {\n",
       "        text-align: left;\n",
       "    }\n",
       "\n",
       "    .dataframe tbody tr th {\n",
       "        vertical-align: top;\n",
       "    }\n",
       "</style>\n",
       "<table border=\"1\" class=\"dataframe\">\n",
       "  <thead>\n",
       "    <tr style=\"text-align: right;\">\n",
       "      <th></th>\n",
       "      <th>Delay Frequency</th>\n",
       "    </tr>\n",
       "    <tr>\n",
       "      <th>Station</th>\n",
       "      <th></th>\n",
       "    </tr>\n",
       "  </thead>\n",
       "  <tbody>\n",
       "    <tr>\n",
       "      <th>KENNEDY BD STATION</th>\n",
       "      <td>89</td>\n",
       "    </tr>\n",
       "    <tr>\n",
       "      <th>KIPLING STATION</th>\n",
       "      <td>88</td>\n",
       "    </tr>\n",
       "    <tr>\n",
       "      <th>YONGE UNIVERSITY LINE</th>\n",
       "      <td>73</td>\n",
       "    </tr>\n",
       "    <tr>\n",
       "      <th>FINCH STATION</th>\n",
       "      <td>65</td>\n",
       "    </tr>\n",
       "    <tr>\n",
       "      <th>WILSON STATION</th>\n",
       "      <td>58</td>\n",
       "    </tr>\n",
       "    <tr>\n",
       "      <th>VICTORIA PARK STATION</th>\n",
       "      <td>53</td>\n",
       "    </tr>\n",
       "    <tr>\n",
       "      <th>WARDEN STATION</th>\n",
       "      <td>51</td>\n",
       "    </tr>\n",
       "    <tr>\n",
       "      <th>SHEPPARD WEST STATION</th>\n",
       "      <td>44</td>\n",
       "    </tr>\n",
       "    <tr>\n",
       "      <th>ISLINGTON STATION</th>\n",
       "      <td>43</td>\n",
       "    </tr>\n",
       "    <tr>\n",
       "      <th>EGLINTON STATION</th>\n",
       "      <td>41</td>\n",
       "    </tr>\n",
       "  </tbody>\n",
       "</table>\n",
       "</div>"
      ],
      "text/plain": [
       "                       Delay Frequency\n",
       "Station                               \n",
       "KENNEDY BD STATION                  89\n",
       "KIPLING STATION                     88\n",
       "YONGE UNIVERSITY LINE               73\n",
       "FINCH STATION                       65\n",
       "WILSON STATION                      58\n",
       "VICTORIA PARK STATION               53\n",
       "WARDEN STATION                      51\n",
       "SHEPPARD WEST STATION               44\n",
       "ISLINGTON STATION                   43\n",
       "EGLINTON STATION                    41"
      ]
     },
     "metadata": {},
     "output_type": "display_data"
    },
    {
     "data": {
      "image/png": "[encoded data removed]",
      "text/plain": [
       "<matplotlib.figure.Figure at 0x1fe379dfcf8>"
      ]
     },
     "metadata": {},
     "output_type": "display_data"
    }
   ],
   "source": [
    "# we want to order this by the delay frequency\n",
    "# and we want to order it from least to greatest\n",
    "df_q3_freq = df_q3.sort_values(by=\"Delay Frequency\", ascending=False)\n",
    "# we specifically want the top 10 stations with the\n",
    "# greatest amount of delay frequencies\n",
    "df_q3_freq = df_q3_freq.head(10)\n",
    "# show the top 10 stations\n",
    "display(pd.DataFrame(df_q3_freq[\"Delay Frequency\"]))\n",
    "\n",
    "# Now we would like to use a bar graph to demonstrate\n",
    "# the number of delays in a visual scale\n",
    "df_q3_freq[\"Delay Frequency\"].plot.bar()\n",
    "plt.ylabel(\"Delay Frequency\")\n",
    "plt.xlabel(\"Station\")\n",
    "plt.title(\"Number of occurrences per station in January\")\n",
    "plt.show()"
   ]
  },
  {
   "cell_type": "markdown",
   "metadata": {},
   "source": [
    "### By the total number of delayed time"
   ]
  },
  {
   "cell_type": "code",
   "execution_count": 266,
   "metadata": {},
   "outputs": [
    {
     "data": {
      "text/html": [
       "<div>\n",
       "<style>\n",
       "    .dataframe thead tr:only-child th {\n",
       "        text-align: right;\n",
       "    }\n",
       "\n",
       "    .dataframe thead th {\n",
       "        text-align: left;\n",
       "    }\n",
       "\n",
       "    .dataframe tbody tr th {\n",
       "        vertical-align: top;\n",
       "    }\n",
       "</style>\n",
       "<table border=\"1\" class=\"dataframe\">\n",
       "  <thead>\n",
       "    <tr style=\"text-align: right;\">\n",
       "      <th></th>\n",
       "      <th>Min Delay</th>\n",
       "    </tr>\n",
       "    <tr>\n",
       "      <th>Station</th>\n",
       "      <th></th>\n",
       "    </tr>\n",
       "  </thead>\n",
       "  <tbody>\n",
       "    <tr>\n",
       "      <th>VAUGHAN MC STATION</th>\n",
       "      <td>280</td>\n",
       "    </tr>\n",
       "    <tr>\n",
       "      <th>UNION STATION</th>\n",
       "      <td>273</td>\n",
       "    </tr>\n",
       "    <tr>\n",
       "      <th>WILSON STATION</th>\n",
       "      <td>220</td>\n",
       "    </tr>\n",
       "    <tr>\n",
       "      <th>WARDEN STATION</th>\n",
       "      <td>212</td>\n",
       "    </tr>\n",
       "    <tr>\n",
       "      <th>SHEPPARD WEST STATION</th>\n",
       "      <td>193</td>\n",
       "    </tr>\n",
       "    <tr>\n",
       "      <th>KENNEDY SRT STATION</th>\n",
       "      <td>182</td>\n",
       "    </tr>\n",
       "    <tr>\n",
       "      <th>VICTORIA PARK STATION</th>\n",
       "      <td>163</td>\n",
       "    </tr>\n",
       "    <tr>\n",
       "      <th>LAWRENCE EAST TO ELLES</th>\n",
       "      <td>148</td>\n",
       "    </tr>\n",
       "    <tr>\n",
       "      <th>BLOOR DANFORTH SUBWAY</th>\n",
       "      <td>131</td>\n",
       "    </tr>\n",
       "    <tr>\n",
       "      <th>EGLINTON STATION</th>\n",
       "      <td>129</td>\n",
       "    </tr>\n",
       "  </tbody>\n",
       "</table>\n",
       "</div>"
      ],
      "text/plain": [
       "                        Min Delay\n",
       "Station                          \n",
       "VAUGHAN MC STATION            280\n",
       "UNION STATION                 273\n",
       "WILSON STATION                220\n",
       "WARDEN STATION                212\n",
       "SHEPPARD WEST STATION         193\n",
       "KENNEDY SRT STATION           182\n",
       "VICTORIA PARK STATION         163\n",
       "LAWRENCE EAST TO ELLES        148\n",
       "BLOOR DANFORTH SUBWAY         131\n",
       "EGLINTON STATION              129"
      ]
     },
     "metadata": {},
     "output_type": "display_data"
    },
    {
     "data": {
      "image/png": "[encoded data removed]",
      "text/plain": [
       "<matplotlib.figure.Figure at 0x1fe365861d0>"
      ]
     },
     "metadata": {},
     "output_type": "display_data"
    }
   ],
   "source": [
    "# we want to order this by the delay time\n",
    "# and we want to order it from least to greatest\n",
    "df_q3_time = df_q3.sort_values(by=\"Min Delay\", ascending=False)\n",
    "# we specifically want the top 10 stations with the\n",
    "# greatest amount of delay time\n",
    "df_q3_time = df_q3_time.head(10)\n",
    "# show the top 10 stations\n",
    "display(pd.DataFrame(df_q3_time[\"Min Delay\"]))\n",
    "\n",
    "# Now we would like to use a bar graph to demonstrate\n",
    "# the number of delays in a visual scale\n",
    "df_q3_time[\"Min Delay\"].plot.bar()\n",
    "plt.ylabel(\"Total amount of time\")\n",
    "plt.xlabel(\"Station\")\n",
    "plt.title(\"Total amount of delayed time per station in January\")\n",
    "plt.show()"
   ]
  },
  {
   "cell_type": "markdown",
   "metadata": {},
   "source": [
    "### By Average time delayed"
   ]
  },
  {
   "cell_type": "code",
   "execution_count": 267,
   "metadata": {},
   "outputs": [
    {
     "data": {
      "text/html": [
       "<div>\n",
       "<style>\n",
       "    .dataframe thead tr:only-child th {\n",
       "        text-align: right;\n",
       "    }\n",
       "\n",
       "    .dataframe thead th {\n",
       "        text-align: left;\n",
       "    }\n",
       "\n",
       "    .dataframe tbody tr th {\n",
       "        vertical-align: top;\n",
       "    }\n",
       "</style>\n",
       "<table border=\"1\" class=\"dataframe\">\n",
       "  <thead>\n",
       "    <tr style=\"text-align: right;\">\n",
       "      <th></th>\n",
       "      <th>Average time per delay</th>\n",
       "    </tr>\n",
       "    <tr>\n",
       "      <th>Station</th>\n",
       "      <th></th>\n",
       "    </tr>\n",
       "  </thead>\n",
       "  <tbody>\n",
       "    <tr>\n",
       "      <th>LAWRENCE EAST TO ELLES</th>\n",
       "      <td>148.000000</td>\n",
       "    </tr>\n",
       "    <tr>\n",
       "      <th>UNION STATION</th>\n",
       "      <td>13.000000</td>\n",
       "    </tr>\n",
       "    <tr>\n",
       "      <th>KENNEDY SRT STATION</th>\n",
       "      <td>11.375000</td>\n",
       "    </tr>\n",
       "    <tr>\n",
       "      <th>VAUGHAN MC STATION</th>\n",
       "      <td>8.750000</td>\n",
       "    </tr>\n",
       "    <tr>\n",
       "      <th>ST ANDREW STATION</th>\n",
       "      <td>5.812500</td>\n",
       "    </tr>\n",
       "    <tr>\n",
       "      <th>MIDLAND STATION</th>\n",
       "      <td>5.750000</td>\n",
       "    </tr>\n",
       "    <tr>\n",
       "      <th>MCCOWAN STATION</th>\n",
       "      <td>5.700000</td>\n",
       "    </tr>\n",
       "    <tr>\n",
       "      <th>SCARB CTR STATION</th>\n",
       "      <td>5.333333</td>\n",
       "    </tr>\n",
       "    <tr>\n",
       "      <th>DOWNSVIEW PARK STATION</th>\n",
       "      <td>5.285714</td>\n",
       "    </tr>\n",
       "    <tr>\n",
       "      <th>EGLINTON WEST TO VMC</th>\n",
       "      <td>5.000000</td>\n",
       "    </tr>\n",
       "  </tbody>\n",
       "</table>\n",
       "</div>"
      ],
      "text/plain": [
       "                        Average time per delay\n",
       "Station                                       \n",
       "LAWRENCE EAST TO ELLES              148.000000\n",
       "UNION STATION                        13.000000\n",
       "KENNEDY SRT STATION                  11.375000\n",
       "VAUGHAN MC STATION                    8.750000\n",
       "ST ANDREW STATION                     5.812500\n",
       "MIDLAND STATION                       5.750000\n",
       "MCCOWAN STATION                       5.700000\n",
       "SCARB CTR STATION                     5.333333\n",
       "DOWNSVIEW PARK STATION                5.285714\n",
       "EGLINTON WEST TO VMC                  5.000000"
      ]
     },
     "metadata": {},
     "output_type": "display_data"
    },
    {
     "data": {
      "image/png": "[encoded data removed]",
      "text/plain": [
       "<matplotlib.figure.Figure at 0x1fe379a5c18>"
      ]
     },
     "metadata": {},
     "output_type": "display_data"
    },
    {
     "name": "stdout",
     "output_type": "stream",
     "text": [
      "Lawrence East to Ellesmere looks like an outlier\n",
      "We shall see all entries of Lawrence east to Ellesemere with our original data:\n"
     ]
    },
    {
     "data": {
      "text/html": [
       "<div>\n",
       "<style>\n",
       "    .dataframe thead tr:only-child th {\n",
       "        text-align: right;\n",
       "    }\n",
       "\n",
       "    .dataframe thead th {\n",
       "        text-align: left;\n",
       "    }\n",
       "\n",
       "    .dataframe tbody tr th {\n",
       "        vertical-align: top;\n",
       "    }\n",
       "</style>\n",
       "<table border=\"1\" class=\"dataframe\">\n",
       "  <thead>\n",
       "    <tr style=\"text-align: right;\">\n",
       "      <th></th>\n",
       "      <th>Time</th>\n",
       "      <th>Day</th>\n",
       "      <th>Station</th>\n",
       "      <th>Code</th>\n",
       "      <th>Min Delay</th>\n",
       "      <th>Min Gap</th>\n",
       "      <th>Bound</th>\n",
       "      <th>Line</th>\n",
       "      <th>Vehicle</th>\n",
       "    </tr>\n",
       "    <tr>\n",
       "      <th>Date</th>\n",
       "      <th></th>\n",
       "      <th></th>\n",
       "      <th></th>\n",
       "      <th></th>\n",
       "      <th></th>\n",
       "      <th></th>\n",
       "      <th></th>\n",
       "      <th></th>\n",
       "      <th></th>\n",
       "    </tr>\n",
       "  </thead>\n",
       "  <tbody>\n",
       "    <tr>\n",
       "      <th>2018-01-16</th>\n",
       "      <td>21:21</td>\n",
       "      <td>Tuesday</td>\n",
       "      <td>LAWRENCE EAST TO ELLES</td>\n",
       "      <td>PRW</td>\n",
       "      <td>148</td>\n",
       "      <td>153</td>\n",
       "      <td>N</td>\n",
       "      <td>SRT</td>\n",
       "      <td>3013</td>\n",
       "    </tr>\n",
       "  </tbody>\n",
       "</table>\n",
       "</div>"
      ],
      "text/plain": [
       "             Time      Day                 Station Code  Min Delay  Min Gap  \\\n",
       "Date                                                                          \n",
       "2018-01-16  21:21  Tuesday  LAWRENCE EAST TO ELLES  PRW        148      153   \n",
       "\n",
       "           Bound Line  Vehicle  \n",
       "Date                            \n",
       "2018-01-16     N  SRT     3013  "
      ]
     },
     "execution_count": 267,
     "metadata": {},
     "output_type": "execute_result"
    }
   ],
   "source": [
    "# we want to order this by the average delay time\n",
    "# and we want to order it from least to greatest\n",
    "df_q3_avg = df_q3.sort_values(by=\"Average time per delay\", ascending=False)\n",
    "# we specifically want the top 10 stations with the\n",
    "# greatest amount of the average delay time\n",
    "df_q3_avg_1 = df_q3_avg.head(10)\n",
    "# show the top 10 stations\n",
    "display(pd.DataFrame(df_q3_avg_1[\"Average time per delay\"]))\n",
    "\n",
    "# Now we would like to use a bar graph to demonstrate\n",
    "# the number of delays in a visual scale\n",
    "df_q3_avg_1[\"Average time per delay\"].plot.bar()\n",
    "plt.ylabel(\"Average amount of time\")\n",
    "plt.xlabel(\"Station\")\n",
    "plt.title(\"Average amount of delayed time per station in January\")\n",
    "plt.show()\n",
    "\n",
    "print(\"Lawrence East to Ellesmere looks like an outlier\")\n",
    "print(\"We shall see all entries of Lawrence east to Ellesemere with our original data:\")\n",
    "df_ttc_original[df_ttc_original[\"Station\"] == \"LAWRENCE EAST TO ELLES\"]"
   ]
  },
  {
   "cell_type": "markdown",
   "metadata": {},
   "source": [
    "We can reuse our data, and remove lawrence east to ellesmere as an outlier since it is only one entry that does not occur in a consistent basis"
   ]
  },
  {
   "cell_type": "code",
   "execution_count": 268,
   "metadata": {},
   "outputs": [
    {
     "data": {
      "text/html": [
       "<div>\n",
       "<style>\n",
       "    .dataframe thead tr:only-child th {\n",
       "        text-align: right;\n",
       "    }\n",
       "\n",
       "    .dataframe thead th {\n",
       "        text-align: left;\n",
       "    }\n",
       "\n",
       "    .dataframe tbody tr th {\n",
       "        vertical-align: top;\n",
       "    }\n",
       "</style>\n",
       "<table border=\"1\" class=\"dataframe\">\n",
       "  <thead>\n",
       "    <tr style=\"text-align: right;\">\n",
       "      <th></th>\n",
       "      <th>Min Delay</th>\n",
       "      <th>Delay Frequency</th>\n",
       "      <th>Average time per delay</th>\n",
       "    </tr>\n",
       "    <tr>\n",
       "      <th>Station</th>\n",
       "      <th></th>\n",
       "      <th></th>\n",
       "      <th></th>\n",
       "    </tr>\n",
       "  </thead>\n",
       "  <tbody>\n",
       "    <tr>\n",
       "      <th>UNION STATION</th>\n",
       "      <td>273</td>\n",
       "      <td>21</td>\n",
       "      <td>13.000000</td>\n",
       "    </tr>\n",
       "    <tr>\n",
       "      <th>KENNEDY SRT STATION</th>\n",
       "      <td>182</td>\n",
       "      <td>16</td>\n",
       "      <td>11.375000</td>\n",
       "    </tr>\n",
       "    <tr>\n",
       "      <th>VAUGHAN MC STATION</th>\n",
       "      <td>280</td>\n",
       "      <td>32</td>\n",
       "      <td>8.750000</td>\n",
       "    </tr>\n",
       "    <tr>\n",
       "      <th>ST ANDREW STATION</th>\n",
       "      <td>93</td>\n",
       "      <td>16</td>\n",
       "      <td>5.812500</td>\n",
       "    </tr>\n",
       "    <tr>\n",
       "      <th>MIDLAND STATION</th>\n",
       "      <td>23</td>\n",
       "      <td>4</td>\n",
       "      <td>5.750000</td>\n",
       "    </tr>\n",
       "    <tr>\n",
       "      <th>MCCOWAN STATION</th>\n",
       "      <td>114</td>\n",
       "      <td>20</td>\n",
       "      <td>5.700000</td>\n",
       "    </tr>\n",
       "    <tr>\n",
       "      <th>SCARB CTR STATION</th>\n",
       "      <td>64</td>\n",
       "      <td>12</td>\n",
       "      <td>5.333333</td>\n",
       "    </tr>\n",
       "    <tr>\n",
       "      <th>DOWNSVIEW PARK STATION</th>\n",
       "      <td>37</td>\n",
       "      <td>7</td>\n",
       "      <td>5.285714</td>\n",
       "    </tr>\n",
       "    <tr>\n",
       "      <th>EGLINTON WEST TO VMC</th>\n",
       "      <td>5</td>\n",
       "      <td>1</td>\n",
       "      <td>5.000000</td>\n",
       "    </tr>\n",
       "    <tr>\n",
       "      <th>MCCOWAN YARD</th>\n",
       "      <td>5</td>\n",
       "      <td>1</td>\n",
       "      <td>5.000000</td>\n",
       "    </tr>\n",
       "  </tbody>\n",
       "</table>\n",
       "</div>"
      ],
      "text/plain": [
       "                        Min Delay  Delay Frequency  Average time per delay\n",
       "Station                                                                   \n",
       "UNION STATION                 273               21               13.000000\n",
       "KENNEDY SRT STATION           182               16               11.375000\n",
       "VAUGHAN MC STATION            280               32                8.750000\n",
       "ST ANDREW STATION              93               16                5.812500\n",
       "MIDLAND STATION                23                4                5.750000\n",
       "MCCOWAN STATION               114               20                5.700000\n",
       "SCARB CTR STATION              64               12                5.333333\n",
       "DOWNSVIEW PARK STATION         37                7                5.285714\n",
       "EGLINTON WEST TO VMC            5                1                5.000000\n",
       "MCCOWAN YARD                    5                1                5.000000"
      ]
     },
     "metadata": {},
     "output_type": "display_data"
    },
    {
     "data": {
      "image/png": "[encoded data removed]",
      "text/plain": [
       "<matplotlib.figure.Figure at 0x1fe3615a5c0>"
      ]
     },
     "metadata": {},
     "output_type": "display_data"
    }
   ],
   "source": [
    "df_q3_avg_2 = df_q3_avg.head(11)\n",
    "# we can remove lawrence east using iloc\n",
    "df_q3_avg_2 = df_q3_avg_2.iloc[1:]\n",
    "\n",
    "# view the data\n",
    "display(pd.DataFrame(df_q3_avg_2[[\"Min Delay\", \"Delay Frequency\", \"Average time per delay\"]]))\n",
    "\n",
    "# and now we can replot the data\n",
    "df_q3_avg_2[\"Average time per delay\"].plot.bar()\n",
    "plt.ylabel(\"Average amount of time\")\n",
    "plt.xlabel(\"Station\")\n",
    "plt.title(\"Average amount of delayed time per station in January\")\n",
    "plt.show()"
   ]
  },
  {
   "cell_type": "markdown",
   "metadata": {},
   "source": [
    "# Question 4: What are the top 10 reasons for delays?"
   ]
  },
  {
   "cell_type": "code",
   "execution_count": 269,
   "metadata": {},
   "outputs": [
    {
     "name": "stdout",
     "output_type": "stream",
     "text": [
      "The top 10 reasons for delays are shown below with their total minute delay:\n"
     ]
    },
    {
     "data": {
      "text/html": [
       "<div>\n",
       "<style>\n",
       "    .dataframe thead tr:only-child th {\n",
       "        text-align: right;\n",
       "    }\n",
       "\n",
       "    .dataframe thead th {\n",
       "        text-align: left;\n",
       "    }\n",
       "\n",
       "    .dataframe tbody tr th {\n",
       "        vertical-align: top;\n",
       "    }\n",
       "</style>\n",
       "<table border=\"1\" class=\"dataframe\">\n",
       "  <thead>\n",
       "    <tr style=\"text-align: right;\">\n",
       "      <th></th>\n",
       "      <th>Min Delay</th>\n",
       "    </tr>\n",
       "    <tr>\n",
       "      <th>Code</th>\n",
       "      <th></th>\n",
       "    </tr>\n",
       "  </thead>\n",
       "  <tbody>\n",
       "    <tr>\n",
       "      <th>MUI</th>\n",
       "      <td>392</td>\n",
       "    </tr>\n",
       "    <tr>\n",
       "      <th>SUDP</th>\n",
       "      <td>389</td>\n",
       "    </tr>\n",
       "    <tr>\n",
       "      <th>PUTR</th>\n",
       "      <td>262</td>\n",
       "    </tr>\n",
       "    <tr>\n",
       "      <th>MUIR</th>\n",
       "      <td>231</td>\n",
       "    </tr>\n",
       "    <tr>\n",
       "      <th>MUPLB</th>\n",
       "      <td>216</td>\n",
       "    </tr>\n",
       "    <tr>\n",
       "      <th>MUATC</th>\n",
       "      <td>211</td>\n",
       "    </tr>\n",
       "    <tr>\n",
       "      <th>EUDO</th>\n",
       "      <td>179</td>\n",
       "    </tr>\n",
       "    <tr>\n",
       "      <th>PRW</th>\n",
       "      <td>148</td>\n",
       "    </tr>\n",
       "    <tr>\n",
       "      <th>SUAP</th>\n",
       "      <td>142</td>\n",
       "    </tr>\n",
       "    <tr>\n",
       "      <th>MUFM</th>\n",
       "      <td>135</td>\n",
       "    </tr>\n",
       "  </tbody>\n",
       "</table>\n",
       "</div>"
      ],
      "text/plain": [
       "       Min Delay\n",
       "Code            \n",
       "MUI          392\n",
       "SUDP         389\n",
       "PUTR         262\n",
       "MUIR         231\n",
       "MUPLB        216\n",
       "MUATC        211\n",
       "EUDO         179\n",
       "PRW          148\n",
       "SUAP         142\n",
       "MUFM         135"
      ]
     },
     "metadata": {},
     "output_type": "display_data"
    },
    {
     "name": "stdout",
     "output_type": "stream",
     "text": [
      "Here is a graphical perspective of the data above:\n"
     ]
    },
    {
     "data": {
      "image/png": "[encoded data removed]",
      "text/plain": [
       "<matplotlib.figure.Figure at 0x1fe37bdd4a8>"
      ]
     },
     "metadata": {},
     "output_type": "display_data"
    }
   ],
   "source": [
    "# First we will copy the original dataframe\n",
    "df_q4 = df_ttc_original[:]\n",
    "# What we would like to do is group the data by the delay code (as they are reasons)\n",
    "# but more specifically by sums to determine the total amount of the delay\n",
    "df_code_delays = df_q4.groupby(\"Code\").sum()\n",
    "# now we want to sort our data from greatest to least\n",
    "df_code_delays = df_code_delays.sort_values(\"Min Delay\", ascending=False)\n",
    "\n",
    "# we specifically only want the top 10 minute delays\n",
    "# indicated by our question\n",
    "df_code_delays = pd.DataFrame(df_code_delays[\"Min Delay\"].head(10))\n",
    "# For this python file, we'll just shown our data\n",
    "print(\"The top 10 reasons for delays are shown below with their total minute delay:\")\n",
    "display(df_code_delays)\n",
    "\n",
    "\n",
    "print(\"Here is a graphical perspective of the data above:\")\n",
    "# Now we can plot our data as a bar graph\n",
    "df_code_delays.plot.bar()\n",
    "plt.ylabel(\"Delay (in Minutes)\")\n",
    "plt.xlabel(\"Code for Delay\")\n",
    "plt.title(\"Reasons for TTC Delays (January 2018)\")\n",
    "plt.show()"
   ]
  },
  {
   "cell_type": "markdown",
   "metadata": {},
   "source": [
    "# Question 5: How many times per day did a delay occur in January? What is the average delay time per day?"
   ]
  },
  {
   "cell_type": "code",
   "execution_count": 270,
   "metadata": {},
   "outputs": [
    {
     "name": "stdout",
     "output_type": "stream",
     "text": [
      "The following data consists of the average delay time and the frequency of delays per day in January:\n"
     ]
    },
    {
     "data": {
      "text/html": [
       "<div>\n",
       "<style>\n",
       "    .dataframe thead tr:only-child th {\n",
       "        text-align: right;\n",
       "    }\n",
       "\n",
       "    .dataframe thead th {\n",
       "        text-align: left;\n",
       "    }\n",
       "\n",
       "    .dataframe tbody tr th {\n",
       "        vertical-align: top;\n",
       "    }\n",
       "</style>\n",
       "<table border=\"1\" class=\"dataframe\">\n",
       "  <thead>\n",
       "    <tr style=\"text-align: right;\">\n",
       "      <th></th>\n",
       "      <th>Min Delay</th>\n",
       "      <th>Min Gap</th>\n",
       "      <th>Vehicle</th>\n",
       "      <th>Frequency of delays</th>\n",
       "    </tr>\n",
       "    <tr>\n",
       "      <th>Date</th>\n",
       "      <th></th>\n",
       "      <th></th>\n",
       "      <th></th>\n",
       "      <th></th>\n",
       "    </tr>\n",
       "  </thead>\n",
       "  <tbody>\n",
       "    <tr>\n",
       "      <th>2018-01-01</th>\n",
       "      <td>4.103448</td>\n",
       "      <td>6.224138</td>\n",
       "      <td>3666.362069</td>\n",
       "      <td>58</td>\n",
       "    </tr>\n",
       "    <tr>\n",
       "      <th>2018-01-02</th>\n",
       "      <td>2.373333</td>\n",
       "      <td>3.346667</td>\n",
       "      <td>3550.040000</td>\n",
       "      <td>75</td>\n",
       "    </tr>\n",
       "    <tr>\n",
       "      <th>2018-01-03</th>\n",
       "      <td>2.358209</td>\n",
       "      <td>4.014925</td>\n",
       "      <td>4135.776119</td>\n",
       "      <td>67</td>\n",
       "    </tr>\n",
       "    <tr>\n",
       "      <th>2018-01-04</th>\n",
       "      <td>3.333333</td>\n",
       "      <td>4.301587</td>\n",
       "      <td>3315.285714</td>\n",
       "      <td>63</td>\n",
       "    </tr>\n",
       "    <tr>\n",
       "      <th>2018-01-05</th>\n",
       "      <td>2.474359</td>\n",
       "      <td>3.794872</td>\n",
       "      <td>4024.410256</td>\n",
       "      <td>78</td>\n",
       "    </tr>\n",
       "    <tr>\n",
       "      <th>2018-01-06</th>\n",
       "      <td>2.489362</td>\n",
       "      <td>4.659574</td>\n",
       "      <td>3981.936170</td>\n",
       "      <td>47</td>\n",
       "    </tr>\n",
       "    <tr>\n",
       "      <th>2018-01-07</th>\n",
       "      <td>2.060606</td>\n",
       "      <td>3.303030</td>\n",
       "      <td>4076.818182</td>\n",
       "      <td>33</td>\n",
       "    </tr>\n",
       "    <tr>\n",
       "      <th>2018-01-08</th>\n",
       "      <td>4.045455</td>\n",
       "      <td>4.852273</td>\n",
       "      <td>4315.659091</td>\n",
       "      <td>88</td>\n",
       "    </tr>\n",
       "    <tr>\n",
       "      <th>2018-01-09</th>\n",
       "      <td>2.333333</td>\n",
       "      <td>2.575758</td>\n",
       "      <td>4165.969697</td>\n",
       "      <td>66</td>\n",
       "    </tr>\n",
       "    <tr>\n",
       "      <th>2018-01-10</th>\n",
       "      <td>3.465517</td>\n",
       "      <td>4.551724</td>\n",
       "      <td>4217.982759</td>\n",
       "      <td>58</td>\n",
       "    </tr>\n",
       "    <tr>\n",
       "      <th>2018-01-11</th>\n",
       "      <td>1.905405</td>\n",
       "      <td>2.729730</td>\n",
       "      <td>3942.297297</td>\n",
       "      <td>74</td>\n",
       "    </tr>\n",
       "    <tr>\n",
       "      <th>2018-01-12</th>\n",
       "      <td>2.563218</td>\n",
       "      <td>3.505747</td>\n",
       "      <td>4217.356322</td>\n",
       "      <td>87</td>\n",
       "    </tr>\n",
       "    <tr>\n",
       "      <th>2018-01-13</th>\n",
       "      <td>10.333333</td>\n",
       "      <td>12.636364</td>\n",
       "      <td>4188.212121</td>\n",
       "      <td>33</td>\n",
       "    </tr>\n",
       "    <tr>\n",
       "      <th>2018-01-14</th>\n",
       "      <td>2.147059</td>\n",
       "      <td>3.294118</td>\n",
       "      <td>4054.823529</td>\n",
       "      <td>34</td>\n",
       "    </tr>\n",
       "    <tr>\n",
       "      <th>2018-01-15</th>\n",
       "      <td>1.444444</td>\n",
       "      <td>2.285714</td>\n",
       "      <td>3757.523810</td>\n",
       "      <td>63</td>\n",
       "    </tr>\n",
       "    <tr>\n",
       "      <th>2018-01-16</th>\n",
       "      <td>4.128571</td>\n",
       "      <td>5.200000</td>\n",
       "      <td>3969.700000</td>\n",
       "      <td>70</td>\n",
       "    </tr>\n",
       "    <tr>\n",
       "      <th>2018-01-17</th>\n",
       "      <td>1.728395</td>\n",
       "      <td>2.814815</td>\n",
       "      <td>3962.604938</td>\n",
       "      <td>81</td>\n",
       "    </tr>\n",
       "    <tr>\n",
       "      <th>2018-01-18</th>\n",
       "      <td>1.612903</td>\n",
       "      <td>2.403226</td>\n",
       "      <td>4042.274194</td>\n",
       "      <td>62</td>\n",
       "    </tr>\n",
       "    <tr>\n",
       "      <th>2018-01-19</th>\n",
       "      <td>3.189189</td>\n",
       "      <td>4.540541</td>\n",
       "      <td>3889.418919</td>\n",
       "      <td>74</td>\n",
       "    </tr>\n",
       "    <tr>\n",
       "      <th>2018-01-20</th>\n",
       "      <td>3.725490</td>\n",
       "      <td>5.725490</td>\n",
       "      <td>4310.431373</td>\n",
       "      <td>51</td>\n",
       "    </tr>\n",
       "    <tr>\n",
       "      <th>2018-01-21</th>\n",
       "      <td>1.566667</td>\n",
       "      <td>2.833333</td>\n",
       "      <td>4276.533333</td>\n",
       "      <td>30</td>\n",
       "    </tr>\n",
       "    <tr>\n",
       "      <th>2018-01-22</th>\n",
       "      <td>2.196429</td>\n",
       "      <td>3.196429</td>\n",
       "      <td>3963.750000</td>\n",
       "      <td>56</td>\n",
       "    </tr>\n",
       "    <tr>\n",
       "      <th>2018-01-23</th>\n",
       "      <td>2.468354</td>\n",
       "      <td>3.746835</td>\n",
       "      <td>4187.151899</td>\n",
       "      <td>79</td>\n",
       "    </tr>\n",
       "    <tr>\n",
       "      <th>2018-01-24</th>\n",
       "      <td>2.077922</td>\n",
       "      <td>2.896104</td>\n",
       "      <td>4378.558442</td>\n",
       "      <td>77</td>\n",
       "    </tr>\n",
       "    <tr>\n",
       "      <th>2018-01-25</th>\n",
       "      <td>2.733333</td>\n",
       "      <td>4.200000</td>\n",
       "      <td>4348.816667</td>\n",
       "      <td>60</td>\n",
       "    </tr>\n",
       "    <tr>\n",
       "      <th>2018-01-26</th>\n",
       "      <td>1.959184</td>\n",
       "      <td>3.387755</td>\n",
       "      <td>4362.510204</td>\n",
       "      <td>49</td>\n",
       "    </tr>\n",
       "    <tr>\n",
       "      <th>2018-01-27</th>\n",
       "      <td>4.688889</td>\n",
       "      <td>6.244444</td>\n",
       "      <td>4225.511111</td>\n",
       "      <td>45</td>\n",
       "    </tr>\n",
       "    <tr>\n",
       "      <th>2018-01-28</th>\n",
       "      <td>1.500000</td>\n",
       "      <td>3.045455</td>\n",
       "      <td>3575.454545</td>\n",
       "      <td>22</td>\n",
       "    </tr>\n",
       "    <tr>\n",
       "      <th>2018-01-29</th>\n",
       "      <td>2.660000</td>\n",
       "      <td>3.860000</td>\n",
       "      <td>4457.780000</td>\n",
       "      <td>50</td>\n",
       "    </tr>\n",
       "    <tr>\n",
       "      <th>2018-01-30</th>\n",
       "      <td>3.074074</td>\n",
       "      <td>4.506173</td>\n",
       "      <td>4429.271605</td>\n",
       "      <td>81</td>\n",
       "    </tr>\n",
       "    <tr>\n",
       "      <th>2018-01-31</th>\n",
       "      <td>1.935484</td>\n",
       "      <td>2.612903</td>\n",
       "      <td>4160.903226</td>\n",
       "      <td>62</td>\n",
       "    </tr>\n",
       "  </tbody>\n",
       "</table>\n",
       "</div>"
      ],
      "text/plain": [
       "            Min Delay    Min Gap      Vehicle  Frequency of delays\n",
       "Date                                                              \n",
       "2018-01-01   4.103448   6.224138  3666.362069                   58\n",
       "2018-01-02   2.373333   3.346667  3550.040000                   75\n",
       "2018-01-03   2.358209   4.014925  4135.776119                   67\n",
       "2018-01-04   3.333333   4.301587  3315.285714                   63\n",
       "2018-01-05   2.474359   3.794872  4024.410256                   78\n",
       "2018-01-06   2.489362   4.659574  3981.936170                   47\n",
       "2018-01-07   2.060606   3.303030  4076.818182                   33\n",
       "2018-01-08   4.045455   4.852273  4315.659091                   88\n",
       "2018-01-09   2.333333   2.575758  4165.969697                   66\n",
       "2018-01-10   3.465517   4.551724  4217.982759                   58\n",
       "2018-01-11   1.905405   2.729730  3942.297297                   74\n",
       "2018-01-12   2.563218   3.505747  4217.356322                   87\n",
       "2018-01-13  10.333333  12.636364  4188.212121                   33\n",
       "2018-01-14   2.147059   3.294118  4054.823529                   34\n",
       "2018-01-15   1.444444   2.285714  3757.523810                   63\n",
       "2018-01-16   4.128571   5.200000  3969.700000                   70\n",
       "2018-01-17   1.728395   2.814815  3962.604938                   81\n",
       "2018-01-18   1.612903   2.403226  4042.274194                   62\n",
       "2018-01-19   3.189189   4.540541  3889.418919                   74\n",
       "2018-01-20   3.725490   5.725490  4310.431373                   51\n",
       "2018-01-21   1.566667   2.833333  4276.533333                   30\n",
       "2018-01-22   2.196429   3.196429  3963.750000                   56\n",
       "2018-01-23   2.468354   3.746835  4187.151899                   79\n",
       "2018-01-24   2.077922   2.896104  4378.558442                   77\n",
       "2018-01-25   2.733333   4.200000  4348.816667                   60\n",
       "2018-01-26   1.959184   3.387755  4362.510204                   49\n",
       "2018-01-27   4.688889   6.244444  4225.511111                   45\n",
       "2018-01-28   1.500000   3.045455  3575.454545                   22\n",
       "2018-01-29   2.660000   3.860000  4457.780000                   50\n",
       "2018-01-30   3.074074   4.506173  4429.271605                   81\n",
       "2018-01-31   1.935484   2.612903  4160.903226                   62"
      ]
     },
     "metadata": {},
     "output_type": "display_data"
    },
    {
     "name": "stdout",
     "output_type": "stream",
     "text": [
      "From this data, we can use the describe method, but specifically on the number of delays shown below:\n"
     ]
    },
    {
     "data": {
      "text/plain": [
       "count    31.000000\n",
       "mean     60.419355\n",
       "std      17.691381\n",
       "min      22.000000\n",
       "25%      49.500000\n",
       "50%      62.000000\n",
       "75%      74.500000\n",
       "max      88.000000\n",
       "Name: Frequency of delays, dtype: float64"
      ]
     },
     "metadata": {},
     "output_type": "display_data"
    },
    {
     "name": "stdout",
     "output_type": "stream",
     "text": [
      "On an 'ordinary' day, there will be approximately 60 delays\n"
     ]
    }
   ],
   "source": [
    "# Find the average amount of times per day it can happen on a weekday, and a weekend\n",
    "# likewise, we want to find the average amount of time per day\n",
    "\n",
    "# first we want to include a new column called \"Weight\" so that we would accurately\n",
    "# know the number of delays per day in January\n",
    "# copy the data\n",
    "df_q5 = df_ttc_original[:]\n",
    "\n",
    "# What we want to do is get the average amount of delay time \n",
    "df_q5_init = df_q5.groupby(\"Date\")\n",
    "# to do this, we will be using the mean function, and this will be our\n",
    "# base\n",
    "df_q5 = df_q5_init.mean()\n",
    "# what we want is the frequency of each day, so we will be using the count\n",
    "# function and adding an arbitrary column (that does not have nulls) to our \n",
    "# base dataframe\n",
    "df_q5_counts = df_q5_init.count()\n",
    "df_q5.loc[:, \"Frequency of delays\"] = df_q5_counts[\"Time\"]\n",
    "\n",
    "print(\"The following data consists of the average delay time and the frequency of delays per day in January:\")\n",
    "display(df_q5)\n",
    "\n",
    "\n",
    "print(\"From this data, we can use the describe method, but specifically on the number of delays shown below:\")\n",
    "display(df_q5[\"Frequency of delays\"].describe())\n",
    "\n",
    "print(\"On an 'ordinary' day, there will be approximately 60 delays\")"
   ]
  },
  {
   "cell_type": "markdown",
   "metadata": {},
   "source": [
    "From the original data, we will use the describe method to find the average number of minutes per delay. The dataframe used above is not used because it assumes that the weight is equal among 31 days "
   ]
  },
  {
   "cell_type": "code",
   "execution_count": 271,
   "metadata": {},
   "outputs": [
    {
     "data": {
      "text/html": [
       "<div>\n",
       "<style>\n",
       "    .dataframe thead tr:only-child th {\n",
       "        text-align: right;\n",
       "    }\n",
       "\n",
       "    .dataframe thead th {\n",
       "        text-align: left;\n",
       "    }\n",
       "\n",
       "    .dataframe tbody tr th {\n",
       "        vertical-align: top;\n",
       "    }\n",
       "</style>\n",
       "<table border=\"1\" class=\"dataframe\">\n",
       "  <thead>\n",
       "    <tr style=\"text-align: right;\">\n",
       "      <th></th>\n",
       "      <th>Min Delay</th>\n",
       "      <th>Min Gap</th>\n",
       "      <th>Vehicle</th>\n",
       "    </tr>\n",
       "  </thead>\n",
       "  <tbody>\n",
       "    <tr>\n",
       "      <th>count</th>\n",
       "      <td>1873.000000</td>\n",
       "      <td>1873.000000</td>\n",
       "      <td>1873.000000</td>\n",
       "    </tr>\n",
       "    <tr>\n",
       "      <th>mean</th>\n",
       "      <td>2.791244</td>\n",
       "      <td>3.980246</td>\n",
       "      <td>4073.530166</td>\n",
       "    </tr>\n",
       "    <tr>\n",
       "      <th>std</th>\n",
       "      <td>9.385311</td>\n",
       "      <td>10.218298</td>\n",
       "      <td>2376.690666</td>\n",
       "    </tr>\n",
       "    <tr>\n",
       "      <th>min</th>\n",
       "      <td>0.000000</td>\n",
       "      <td>0.000000</td>\n",
       "      <td>0.000000</td>\n",
       "    </tr>\n",
       "    <tr>\n",
       "      <th>25%</th>\n",
       "      <td>0.000000</td>\n",
       "      <td>0.000000</td>\n",
       "      <td>3004.000000</td>\n",
       "    </tr>\n",
       "    <tr>\n",
       "      <th>50%</th>\n",
       "      <td>0.000000</td>\n",
       "      <td>0.000000</td>\n",
       "      <td>5249.000000</td>\n",
       "    </tr>\n",
       "    <tr>\n",
       "      <th>75%</th>\n",
       "      <td>3.000000</td>\n",
       "      <td>7.000000</td>\n",
       "      <td>5646.000000</td>\n",
       "    </tr>\n",
       "    <tr>\n",
       "      <th>max</th>\n",
       "      <td>248.000000</td>\n",
       "      <td>253.000000</td>\n",
       "      <td>8713.000000</td>\n",
       "    </tr>\n",
       "  </tbody>\n",
       "</table>\n",
       "</div>"
      ],
      "text/plain": [
       "         Min Delay      Min Gap      Vehicle\n",
       "count  1873.000000  1873.000000  1873.000000\n",
       "mean      2.791244     3.980246  4073.530166\n",
       "std       9.385311    10.218298  2376.690666\n",
       "min       0.000000     0.000000     0.000000\n",
       "25%       0.000000     0.000000  3004.000000\n",
       "50%       0.000000     0.000000  5249.000000\n",
       "75%       3.000000     7.000000  5646.000000\n",
       "max     248.000000   253.000000  8713.000000"
      ]
     },
     "execution_count": 271,
     "metadata": {},
     "output_type": "execute_result"
    }
   ],
   "source": [
    "df_ttc_original.describe()"
   ]
  },
  {
   "cell_type": "markdown",
   "metadata": {},
   "source": [
    "And we see that the average delay takes about 2.8 minutes. An arising question with the original dataframe shown is to determine if there is a correlation between the frequency of delays and the average time per delay. (i.e. does the average time of delays go to extremes when there is a low frequency?)"
   ]
  },
  {
   "cell_type": "code",
   "execution_count": 272,
   "metadata": {},
   "outputs": [
    {
     "data": {
      "image/png": "[encoded data removed]",
      "text/plain": [
       "<matplotlib.figure.Figure at 0x1fe37d1c898>"
      ]
     },
     "metadata": {},
     "output_type": "display_data"
    }
   ],
   "source": [
    "# this may be a case where if there are more delays, it's more distributed around toronto, \n",
    "# making it expectedly convenient for people of toronto to know?\n",
    "x = df_q5[\"Frequency of delays\"]\n",
    "y = df_q5[\"Min Delay\"]\n",
    "\n",
    "# we can create a scatter plot\n",
    "plt.scatter(df_q5[\"Frequency of delays\"], df_q5[\"Min Delay\"])\n",
    "plt.title(\"Average delay and the frequency of delays\")\n",
    "plt.xlabel(\"Frequency of delays\")\n",
    "plt.ylabel(\"Average Delay\")\n",
    "plt.plot(np.unique(x), np.poly1d(np.polyfit(x, y, 1))(np.unique(x)), color = \"orange\")\n",
    "plt.show()"
   ]
  },
  {
   "cell_type": "markdown",
   "metadata": {},
   "source": [
    "We see that there is an outlier, so we will remove it"
   ]
  },
  {
   "cell_type": "code",
   "execution_count": 273,
   "metadata": {},
   "outputs": [
    {
     "data": {
      "image/png": "[encoded data removed]",
      "text/plain": [
       "<matplotlib.figure.Figure at 0x1fe37dc8470>"
      ]
     },
     "metadata": {},
     "output_type": "display_data"
    }
   ],
   "source": [
    "# by setting minute delays less than 10\n",
    "df_q5 = df_q5[df_q5[\"Min Delay\"] < 10]\n",
    "\n",
    "x = df_q5[\"Frequency of delays\"]\n",
    "y = df_q5[\"Min Delay\"]\n",
    "# now we can replot the data\n",
    "plt.scatter(df_q5[\"Frequency of delays\"], df_q5[\"Min Delay\"])\n",
    "plt.xlabel(\"Frequency of delays\")\n",
    "plt.ylabel(\"Average Delay\")\n",
    "plt.title(\"Average Delay per day and the frequency of delays in January 2018\")\n",
    "plt.plot(np.unique(x), np.poly1d(np.polyfit(x, y, 1))(np.unique(x)), color = \"orange\")\n",
    "plt.show()"
   ]
  },
  {
   "cell_type": "markdown",
   "metadata": {},
   "source": [
    "Now we want to find the correlation coefficient"
   ]
  },
  {
   "cell_type": "code",
   "execution_count": 274,
   "metadata": {},
   "outputs": [
    {
     "data": {
      "text/html": [
       "<div>\n",
       "<style>\n",
       "    .dataframe thead tr:only-child th {\n",
       "        text-align: right;\n",
       "    }\n",
       "\n",
       "    .dataframe thead th {\n",
       "        text-align: left;\n",
       "    }\n",
       "\n",
       "    .dataframe tbody tr th {\n",
       "        vertical-align: top;\n",
       "    }\n",
       "</style>\n",
       "<table border=\"1\" class=\"dataframe\">\n",
       "  <thead>\n",
       "    <tr style=\"text-align: right;\">\n",
       "      <th></th>\n",
       "      <th>Min Delay</th>\n",
       "      <th>Min Gap</th>\n",
       "      <th>Vehicle</th>\n",
       "      <th>Frequency of delays</th>\n",
       "    </tr>\n",
       "  </thead>\n",
       "  <tbody>\n",
       "    <tr>\n",
       "      <th>Min Delay</th>\n",
       "      <td>1.000000</td>\n",
       "      <td>0.928551</td>\n",
       "      <td>0.071239</td>\n",
       "      <td>0.188295</td>\n",
       "    </tr>\n",
       "    <tr>\n",
       "      <th>Min Gap</th>\n",
       "      <td>0.928551</td>\n",
       "      <td>1.000000</td>\n",
       "      <td>0.053520</td>\n",
       "      <td>0.010898</td>\n",
       "    </tr>\n",
       "    <tr>\n",
       "      <th>Vehicle</th>\n",
       "      <td>0.071239</td>\n",
       "      <td>0.053520</td>\n",
       "      <td>1.000000</td>\n",
       "      <td>0.080066</td>\n",
       "    </tr>\n",
       "    <tr>\n",
       "      <th>Frequency of delays</th>\n",
       "      <td>0.188295</td>\n",
       "      <td>0.010898</td>\n",
       "      <td>0.080066</td>\n",
       "      <td>1.000000</td>\n",
       "    </tr>\n",
       "  </tbody>\n",
       "</table>\n",
       "</div>"
      ],
      "text/plain": [
       "                     Min Delay   Min Gap   Vehicle  Frequency of delays\n",
       "Min Delay             1.000000  0.928551  0.071239             0.188295\n",
       "Min Gap               0.928551  1.000000  0.053520             0.010898\n",
       "Vehicle               0.071239  0.053520  1.000000             0.080066\n",
       "Frequency of delays   0.188295  0.010898  0.080066             1.000000"
      ]
     },
     "execution_count": 274,
     "metadata": {},
     "output_type": "execute_result"
    }
   ],
   "source": [
    "# We can just easily do so by using the matrix from the following\n",
    "df_q5.corr('pearson')"
   ]
  },
  {
   "cell_type": "markdown",
   "metadata": {},
   "source": [
    "It's a fairly weak correlation, and more historical data may be needed. However, future considerations of hypothesizing that \"the further there are delays, there is less delay time per delay\" may be plausible"
   ]
  },
  {
   "cell_type": "markdown",
   "metadata": {},
   "source": [
    "# Question 6: Is there a correlation between day of the week and the total number of delays?"
   ]
  },
  {
   "cell_type": "code",
   "execution_count": 275,
   "metadata": {
    "scrolled": true
   },
   "outputs": [
    {
     "name": "stdout",
     "output_type": "stream",
     "text": [
      "Our data looks like:\n"
     ]
    },
    {
     "data": {
      "text/html": [
       "<div>\n",
       "<style>\n",
       "    .dataframe thead tr:only-child th {\n",
       "        text-align: right;\n",
       "    }\n",
       "\n",
       "    .dataframe thead th {\n",
       "        text-align: left;\n",
       "    }\n",
       "\n",
       "    .dataframe tbody tr th {\n",
       "        vertical-align: top;\n",
       "    }\n",
       "</style>\n",
       "<table border=\"1\" class=\"dataframe\">\n",
       "  <thead>\n",
       "    <tr style=\"text-align: right;\">\n",
       "      <th></th>\n",
       "      <th>Frequency of delays</th>\n",
       "      <th>Days (number representation)</th>\n",
       "      <th>Frequency of days in January</th>\n",
       "      <th>Average frequency of delays</th>\n",
       "    </tr>\n",
       "    <tr>\n",
       "      <th>Day</th>\n",
       "      <th></th>\n",
       "      <th></th>\n",
       "      <th></th>\n",
       "      <th></th>\n",
       "    </tr>\n",
       "  </thead>\n",
       "  <tbody>\n",
       "    <tr>\n",
       "      <th>Monday</th>\n",
       "      <td>315</td>\n",
       "      <td>1</td>\n",
       "      <td>5</td>\n",
       "      <td>63.00</td>\n",
       "    </tr>\n",
       "    <tr>\n",
       "      <th>Tuesday</th>\n",
       "      <td>371</td>\n",
       "      <td>2</td>\n",
       "      <td>5</td>\n",
       "      <td>74.20</td>\n",
       "    </tr>\n",
       "    <tr>\n",
       "      <th>Wednesday</th>\n",
       "      <td>345</td>\n",
       "      <td>3</td>\n",
       "      <td>5</td>\n",
       "      <td>69.00</td>\n",
       "    </tr>\n",
       "    <tr>\n",
       "      <th>Thursday</th>\n",
       "      <td>259</td>\n",
       "      <td>4</td>\n",
       "      <td>4</td>\n",
       "      <td>64.75</td>\n",
       "    </tr>\n",
       "    <tr>\n",
       "      <th>Friday</th>\n",
       "      <td>288</td>\n",
       "      <td>5</td>\n",
       "      <td>4</td>\n",
       "      <td>72.00</td>\n",
       "    </tr>\n",
       "    <tr>\n",
       "      <th>Saturday</th>\n",
       "      <td>176</td>\n",
       "      <td>6</td>\n",
       "      <td>4</td>\n",
       "      <td>44.00</td>\n",
       "    </tr>\n",
       "    <tr>\n",
       "      <th>Sunday</th>\n",
       "      <td>119</td>\n",
       "      <td>7</td>\n",
       "      <td>4</td>\n",
       "      <td>29.75</td>\n",
       "    </tr>\n",
       "  </tbody>\n",
       "</table>\n",
       "</div>"
      ],
      "text/plain": [
       "           Frequency of delays  Days (number representation)  \\\n",
       "Day                                                            \n",
       "Monday                     315                             1   \n",
       "Tuesday                    371                             2   \n",
       "Wednesday                  345                             3   \n",
       "Thursday                   259                             4   \n",
       "Friday                     288                             5   \n",
       "Saturday                   176                             6   \n",
       "Sunday                     119                             7   \n",
       "\n",
       "           Frequency of days in January  Average frequency of delays  \n",
       "Day                                                                   \n",
       "Monday                                5                        63.00  \n",
       "Tuesday                               5                        74.20  \n",
       "Wednesday                             5                        69.00  \n",
       "Thursday                              4                        64.75  \n",
       "Friday                                4                        72.00  \n",
       "Saturday                              4                        44.00  \n",
       "Sunday                                4                        29.75  "
      ]
     },
     "metadata": {},
     "output_type": "display_data"
    },
    {
     "name": "stdout",
     "output_type": "stream",
     "text": [
      "We can visually see the data above:\n"
     ]
    },
    {
     "data": {
      "image/png": "[encoded data removed]",
      "text/plain": [
       "<matplotlib.figure.Figure at 0x1fe37b27780>"
      ]
     },
     "metadata": {},
     "output_type": "display_data"
    }
   ],
   "source": [
    "# What we can do is group our data by the day of the week\n",
    "# and the question only specified number of delays (frequency)\n",
    "# not total length of the delay. So we will be using the \n",
    "# count method\n",
    "df_q6 = df_ttc_original[:].groupby(\"Day\").count()\n",
    "# what pandas cleverly does is sort alphabetically... which\n",
    "# can be a problem for this question, however, it can be\n",
    "# sufficient for us to insert a new (hardcoded) column,\n",
    "# later displaying a scatter plot\n",
    "\n",
    "# in this case:\n",
    "#     Monday is 1\n",
    "#     Tuesday is 2\n",
    "#     Wednesday is 3\n",
    "#     Thursday is 4\n",
    "#     Friday is 5\n",
    "#     Saturday is 6\n",
    "#     Sunday is 7\n",
    "days = [5, 1, 6, 7, 4, 2, 3]\n",
    "df_q6.loc[:, \"Days (number representation)\"] = days\n",
    "# What we have to also consider is that if we were to \n",
    "# proceed with our dataframe, our data would be skewed \n",
    "# (i.e. Monday Tuesday and Wednesday) have one more extra day\n",
    "# in January, so it makes much more sense to add two more columns\n",
    "# one representing the number of \"Days\" there are in the week in\n",
    "# January\n",
    "# and the other representing averages\n",
    "\n",
    "# ...sort this by our new column\n",
    "df_q6 = df_q6.sort_values(by=\"Days (number representation)\")\n",
    "# then insert the frequency of the days in January\n",
    "num_days = [5, 5, 5, 4, 4, 4, 4]\n",
    "df_q6.loc[:, \"Frequency of days\"] = num_days\n",
    "\n",
    "\n",
    "# since time doesn't have any null values, we will be using it as our frequency of delays\n",
    "# only get our relevant data\n",
    "df_q6 = df_q6[[\"Time\", \"Days (number representation)\", \"Frequency of days\"]]\n",
    "# and I want to rename the columns\n",
    "cols = [\"Frequency of delays\", \"Days (number representation)\", \"Frequency of days in January\"]\n",
    "df_q6.columns = cols\n",
    "\n",
    "# now we can add an average column\n",
    "df_q6.loc[:, \"Average frequency of delays\"] = df_q6[\"Frequency of delays\"] / df_q6[\"Frequency of days in January\"]\n",
    "print(\"Our data looks like:\")\n",
    "display(df_q6)\n",
    "\n",
    "x = df_q6[\"Days (number representation)\"]\n",
    "y = df_q6[\"Average frequency of delays\"]\n",
    "# now we can approach this problem by drawing a scatter plot\n",
    "print(\"We can visually see the data above:\")\n",
    "plt.scatter(df_q6[\"Days (number representation)\"], df_q6[\"Average frequency of delays\"], color=\"blue\")\n",
    "plt.xlabel(\"Day of the week (number representation)\")\n",
    "plt.ylabel(\"Average frequency of delays\")\n",
    "plt.title(\"Day of the week and average frequency of delays\")\n",
    "plt.plot(np.unique(x), np.poly1d(np.polyfit(x, y, 1))(np.unique(x)), color = \"orange\")\n",
    "plt.show()"
   ]
  },
  {
   "cell_type": "markdown",
   "metadata": {},
   "source": [
    "Now we can compute the correlation coefficient"
   ]
  },
  {
   "cell_type": "code",
   "execution_count": 276,
   "metadata": {},
   "outputs": [
    {
     "data": {
      "text/html": [
       "<div>\n",
       "<style>\n",
       "    .dataframe thead tr:only-child th {\n",
       "        text-align: right;\n",
       "    }\n",
       "\n",
       "    .dataframe thead th {\n",
       "        text-align: left;\n",
       "    }\n",
       "\n",
       "    .dataframe tbody tr th {\n",
       "        vertical-align: top;\n",
       "    }\n",
       "</style>\n",
       "<table border=\"1\" class=\"dataframe\">\n",
       "  <thead>\n",
       "    <tr style=\"text-align: right;\">\n",
       "      <th></th>\n",
       "      <th>Frequency of delays</th>\n",
       "      <th>Days (number representation)</th>\n",
       "      <th>Frequency of days in January</th>\n",
       "      <th>Average frequency of delays</th>\n",
       "    </tr>\n",
       "  </thead>\n",
       "  <tbody>\n",
       "    <tr>\n",
       "      <th>Frequency of delays</th>\n",
       "      <td>1.000000</td>\n",
       "      <td>-0.875683</td>\n",
       "      <td>0.780590</td>\n",
       "      <td>0.940085</td>\n",
       "    </tr>\n",
       "    <tr>\n",
       "      <th>Days (number representation)</th>\n",
       "      <td>-0.875683</td>\n",
       "      <td>1.000000</td>\n",
       "      <td>-0.866025</td>\n",
       "      <td>-0.736117</td>\n",
       "    </tr>\n",
       "    <tr>\n",
       "      <th>Frequency of days in January</th>\n",
       "      <td>0.780590</td>\n",
       "      <td>-0.866025</td>\n",
       "      <td>1.000000</td>\n",
       "      <td>0.522762</td>\n",
       "    </tr>\n",
       "    <tr>\n",
       "      <th>Average frequency of delays</th>\n",
       "      <td>0.940085</td>\n",
       "      <td>-0.736117</td>\n",
       "      <td>0.522762</td>\n",
       "      <td>1.000000</td>\n",
       "    </tr>\n",
       "  </tbody>\n",
       "</table>\n",
       "</div>"
      ],
      "text/plain": [
       "                              Frequency of delays  \\\n",
       "Frequency of delays                      1.000000   \n",
       "Days (number representation)            -0.875683   \n",
       "Frequency of days in January             0.780590   \n",
       "Average frequency of delays              0.940085   \n",
       "\n",
       "                              Days (number representation)  \\\n",
       "Frequency of delays                              -0.875683   \n",
       "Days (number representation)                      1.000000   \n",
       "Frequency of days in January                     -0.866025   \n",
       "Average frequency of delays                      -0.736117   \n",
       "\n",
       "                              Frequency of days in January  \\\n",
       "Frequency of delays                               0.780590   \n",
       "Days (number representation)                     -0.866025   \n",
       "Frequency of days in January                      1.000000   \n",
       "Average frequency of delays                       0.522762   \n",
       "\n",
       "                              Average frequency of delays  \n",
       "Frequency of delays                              0.940085  \n",
       "Days (number representation)                    -0.736117  \n",
       "Frequency of days in January                     0.522762  \n",
       "Average frequency of delays                      1.000000  "
      ]
     },
     "execution_count": 276,
     "metadata": {},
     "output_type": "execute_result"
    }
   ],
   "source": [
    "df_q6.corr(\"pearson\")"
   ]
  },
  {
   "cell_type": "markdown",
   "metadata": {},
   "source": [
    "# Question 7: Is there a correlation between day of the week and average delay time? How about time of the day and minimum gaps?"
   ]
  },
  {
   "cell_type": "markdown",
   "metadata": {},
   "source": [
    "## Day of the week and average delay time"
   ]
  },
  {
   "cell_type": "code",
   "execution_count": 277,
   "metadata": {},
   "outputs": [
    {
     "name": "stdout",
     "output_type": "stream",
     "text": [
      "Data needed for day of the week and delay time:\n"
     ]
    },
    {
     "data": {
      "text/html": [
       "<div>\n",
       "<style>\n",
       "    .dataframe thead tr:only-child th {\n",
       "        text-align: right;\n",
       "    }\n",
       "\n",
       "    .dataframe thead th {\n",
       "        text-align: left;\n",
       "    }\n",
       "\n",
       "    .dataframe tbody tr th {\n",
       "        vertical-align: top;\n",
       "    }\n",
       "</style>\n",
       "<table border=\"1\" class=\"dataframe\">\n",
       "  <thead>\n",
       "    <tr style=\"text-align: right;\">\n",
       "      <th></th>\n",
       "      <th>Min Delay</th>\n",
       "      <th>Min Gap</th>\n",
       "      <th>Vehicle</th>\n",
       "      <th>Days (number representation)</th>\n",
       "    </tr>\n",
       "    <tr>\n",
       "      <th>Day</th>\n",
       "      <th></th>\n",
       "      <th></th>\n",
       "      <th></th>\n",
       "      <th></th>\n",
       "    </tr>\n",
       "  </thead>\n",
       "  <tbody>\n",
       "    <tr>\n",
       "      <th>Friday</th>\n",
       "      <td>2.597222</td>\n",
       "      <td>3.829861</td>\n",
       "      <td>4105.534722</td>\n",
       "      <td>5</td>\n",
       "    </tr>\n",
       "    <tr>\n",
       "      <th>Monday</th>\n",
       "      <td>2.987302</td>\n",
       "      <td>4.139683</td>\n",
       "      <td>4044.476190</td>\n",
       "      <td>1</td>\n",
       "    </tr>\n",
       "    <tr>\n",
       "      <th>Saturday</th>\n",
       "      <td>4.880682</td>\n",
       "      <td>6.869318</td>\n",
       "      <td>4178.079545</td>\n",
       "      <td>6</td>\n",
       "    </tr>\n",
       "    <tr>\n",
       "      <th>Sunday</th>\n",
       "      <td>1.857143</td>\n",
       "      <td>3.134454</td>\n",
       "      <td>4028.193277</td>\n",
       "      <td>7</td>\n",
       "    </tr>\n",
       "    <tr>\n",
       "      <th>Thursday</th>\n",
       "      <td>2.374517</td>\n",
       "      <td>3.374517</td>\n",
       "      <td>3907.888031</td>\n",
       "      <td>4</td>\n",
       "    </tr>\n",
       "    <tr>\n",
       "      <th>Tuesday</th>\n",
       "      <td>2.870620</td>\n",
       "      <td>3.897574</td>\n",
       "      <td>4066.420485</td>\n",
       "      <td>2</td>\n",
       "    </tr>\n",
       "    <tr>\n",
       "      <th>Wednesday</th>\n",
       "      <td>2.257971</td>\n",
       "      <td>3.321739</td>\n",
       "      <td>4167.640580</td>\n",
       "      <td>3</td>\n",
       "    </tr>\n",
       "  </tbody>\n",
       "</table>\n",
       "</div>"
      ],
      "text/plain": [
       "           Min Delay   Min Gap      Vehicle  Days (number representation)\n",
       "Day                                                                      \n",
       "Friday      2.597222  3.829861  4105.534722                             5\n",
       "Monday      2.987302  4.139683  4044.476190                             1\n",
       "Saturday    4.880682  6.869318  4178.079545                             6\n",
       "Sunday      1.857143  3.134454  4028.193277                             7\n",
       "Thursday    2.374517  3.374517  3907.888031                             4\n",
       "Tuesday     2.870620  3.897574  4066.420485                             2\n",
       "Wednesday   2.257971  3.321739  4167.640580                             3"
      ]
     },
     "metadata": {},
     "output_type": "display_data"
    },
    {
     "name": "stdout",
     "output_type": "stream",
     "text": [
      "Visual representation of data:\n"
     ]
    },
    {
     "data": {
      "image/png": "[encoded data removed]",
      "text/plain": [
       "<matplotlib.figure.Figure at 0x1fe37d30400>"
      ]
     },
     "metadata": {},
     "output_type": "display_data"
    },
    {
     "name": "stdout",
     "output_type": "stream",
     "text": [
      "Correlation coefficient matrix:\n"
     ]
    },
    {
     "data": {
      "text/html": [
       "<div>\n",
       "<style>\n",
       "    .dataframe thead tr:only-child th {\n",
       "        text-align: right;\n",
       "    }\n",
       "\n",
       "    .dataframe thead th {\n",
       "        text-align: left;\n",
       "    }\n",
       "\n",
       "    .dataframe tbody tr th {\n",
       "        vertical-align: top;\n",
       "    }\n",
       "</style>\n",
       "<table border=\"1\" class=\"dataframe\">\n",
       "  <thead>\n",
       "    <tr style=\"text-align: right;\">\n",
       "      <th></th>\n",
       "      <th>Min Delay</th>\n",
       "      <th>Min Gap</th>\n",
       "      <th>Vehicle</th>\n",
       "      <th>Days (number representation)</th>\n",
       "    </tr>\n",
       "  </thead>\n",
       "  <tbody>\n",
       "    <tr>\n",
       "      <th>Min Delay</th>\n",
       "      <td>1.000000</td>\n",
       "      <td>0.989335</td>\n",
       "      <td>0.493108</td>\n",
       "      <td>0.076247</td>\n",
       "    </tr>\n",
       "    <tr>\n",
       "      <th>Min Gap</th>\n",
       "      <td>0.989335</td>\n",
       "      <td>1.000000</td>\n",
       "      <td>0.523510</td>\n",
       "      <td>0.206931</td>\n",
       "    </tr>\n",
       "    <tr>\n",
       "      <th>Vehicle</th>\n",
       "      <td>0.493108</td>\n",
       "      <td>0.523510</td>\n",
       "      <td>1.000000</td>\n",
       "      <td>0.093881</td>\n",
       "    </tr>\n",
       "    <tr>\n",
       "      <th>Days (number representation)</th>\n",
       "      <td>0.076247</td>\n",
       "      <td>0.206931</td>\n",
       "      <td>0.093881</td>\n",
       "      <td>1.000000</td>\n",
       "    </tr>\n",
       "  </tbody>\n",
       "</table>\n",
       "</div>"
      ],
      "text/plain": [
       "                              Min Delay   Min Gap   Vehicle  \\\n",
       "Min Delay                      1.000000  0.989335  0.493108   \n",
       "Min Gap                        0.989335  1.000000  0.523510   \n",
       "Vehicle                        0.493108  0.523510  1.000000   \n",
       "Days (number representation)   0.076247  0.206931  0.093881   \n",
       "\n",
       "                              Days (number representation)  \n",
       "Min Delay                                         0.076247  \n",
       "Min Gap                                           0.206931  \n",
       "Vehicle                                           0.093881  \n",
       "Days (number representation)                      1.000000  "
      ]
     },
     "execution_count": 277,
     "metadata": {},
     "output_type": "execute_result"
    }
   ],
   "source": [
    "\n",
    "# what we can do is copy the original data and we want to group them by day\n",
    "df_q7 = df_ttc_original[:].groupby(\"Day\")\n",
    "# and we want the average delay time\n",
    "df_q7 = df_q7.mean()\n",
    "df_q7\n",
    "\n",
    "# pandas alphabetically orders the data\n",
    "# so what we'll do is similar to question 6, which is to provide \n",
    "# number representations of the data\n",
    "# in this case:\n",
    "#     Monday is 1\n",
    "#     Tuesday is 2\n",
    "#     Wednesday is 3\n",
    "#     Thursday is 4\n",
    "#     Friday is 5\n",
    "#     Saturday is 6\n",
    "#     Sunday is 7\n",
    "days = [5, 1, 6, 7, 4, 2, 3]\n",
    "df_q7.loc[:, \"Days (number representation)\"] = days\n",
    "\n",
    "print(\"Data needed for day of the week and delay time:\")\n",
    "display(df_q7)\n",
    "x = df_q7[\"Days (number representation)\"]\n",
    "y = df_q7[\"Min Delay\"]\n",
    "\n",
    "print(\"Visual representation of data:\")\n",
    "# now we can conduct a scatter plot of the data requested to see any outliers\n",
    "plt.scatter(df_q7[\"Days (number representation)\"], df_q7[\"Min Delay\"], color=\"blue\")\n",
    "plt.xlabel(\"Day of the week (number representation)\")\n",
    "plt.ylabel(\"Average Delay Time\")\n",
    "plt.title(\"Day of the week and average delay time\")\n",
    "plt.plot(np.unique(x), np.poly1d(np.polyfit(x, y, 1))(np.unique(x)), color = \"orange\")\n",
    "plt.show()\n",
    "\n",
    "# and we want to show if there is a correlation, by using the correlation coefficient matrix\n",
    "print(\"Correlation coefficient matrix:\")\n",
    "df_q7.corr('pearson')"
   ]
  },
  {
   "cell_type": "markdown",
   "metadata": {},
   "source": [
    "The scatter plot raises some suspicion. In this case, we may reimplement the data like we did above, but to first investigate why saturday is really high while the line of best fit is fairly elastic"
   ]
  },
  {
   "cell_type": "code",
   "execution_count": 278,
   "metadata": {},
   "outputs": [
    {
     "data": {
      "text/html": [
       "<div>\n",
       "<style>\n",
       "    .dataframe thead tr:only-child th {\n",
       "        text-align: right;\n",
       "    }\n",
       "\n",
       "    .dataframe thead th {\n",
       "        text-align: left;\n",
       "    }\n",
       "\n",
       "    .dataframe tbody tr th {\n",
       "        vertical-align: top;\n",
       "    }\n",
       "</style>\n",
       "<table border=\"1\" class=\"dataframe\">\n",
       "  <thead>\n",
       "    <tr style=\"text-align: right;\">\n",
       "      <th></th>\n",
       "      <th>Time</th>\n",
       "      <th>Day</th>\n",
       "      <th>Station</th>\n",
       "      <th>Code</th>\n",
       "      <th>Min Delay</th>\n",
       "      <th>Min Gap</th>\n",
       "      <th>Bound</th>\n",
       "      <th>Line</th>\n",
       "      <th>Vehicle</th>\n",
       "    </tr>\n",
       "    <tr>\n",
       "      <th>Date</th>\n",
       "      <th></th>\n",
       "      <th></th>\n",
       "      <th></th>\n",
       "      <th></th>\n",
       "      <th></th>\n",
       "      <th></th>\n",
       "      <th></th>\n",
       "      <th></th>\n",
       "      <th></th>\n",
       "    </tr>\n",
       "  </thead>\n",
       "  <tbody>\n",
       "    <tr>\n",
       "      <th>2018-01-13</th>\n",
       "      <td>19:19</td>\n",
       "      <td>Saturday</td>\n",
       "      <td>UNION STATION</td>\n",
       "      <td>PUTR</td>\n",
       "      <td>248</td>\n",
       "      <td>253</td>\n",
       "      <td>N</td>\n",
       "      <td>YU</td>\n",
       "      <td>5461</td>\n",
       "    </tr>\n",
       "    <tr>\n",
       "      <th>2018-01-27</th>\n",
       "      <td>11:34</td>\n",
       "      <td>Saturday</td>\n",
       "      <td>SHEPPARD WEST STATION</td>\n",
       "      <td>SUBT</td>\n",
       "      <td>59</td>\n",
       "      <td>64</td>\n",
       "      <td>N</td>\n",
       "      <td>YU</td>\n",
       "      <td>5756</td>\n",
       "    </tr>\n",
       "    <tr>\n",
       "      <th>2018-01-27</th>\n",
       "      <td>11:49</td>\n",
       "      <td>Saturday</td>\n",
       "      <td>FINCH WEST STATION</td>\n",
       "      <td>SUBT</td>\n",
       "      <td>44</td>\n",
       "      <td>49</td>\n",
       "      <td>S</td>\n",
       "      <td>YU</td>\n",
       "      <td>6106</td>\n",
       "    </tr>\n",
       "    <tr>\n",
       "      <th>2018-01-20</th>\n",
       "      <td>13:49</td>\n",
       "      <td>Saturday</td>\n",
       "      <td>YORK MILLS STATION</td>\n",
       "      <td>MUPLB</td>\n",
       "      <td>39</td>\n",
       "      <td>42</td>\n",
       "      <td>N</td>\n",
       "      <td>YU</td>\n",
       "      <td>5412</td>\n",
       "    </tr>\n",
       "    <tr>\n",
       "      <th>2018-01-27</th>\n",
       "      <td>18:52</td>\n",
       "      <td>Saturday</td>\n",
       "      <td>WOODBINE STATION</td>\n",
       "      <td>SUUT</td>\n",
       "      <td>22</td>\n",
       "      <td>26</td>\n",
       "      <td>W</td>\n",
       "      <td>BD</td>\n",
       "      <td>5127</td>\n",
       "    </tr>\n",
       "  </tbody>\n",
       "</table>\n",
       "</div>"
      ],
      "text/plain": [
       "             Time       Day                Station   Code  Min Delay  Min Gap  \\\n",
       "Date                                                                            \n",
       "2018-01-13  19:19  Saturday          UNION STATION   PUTR        248      253   \n",
       "2018-01-27  11:34  Saturday  SHEPPARD WEST STATION   SUBT         59       64   \n",
       "2018-01-27  11:49  Saturday     FINCH WEST STATION   SUBT         44       49   \n",
       "2018-01-20  13:49  Saturday     YORK MILLS STATION  MUPLB         39       42   \n",
       "2018-01-27  18:52  Saturday       WOODBINE STATION   SUUT         22       26   \n",
       "\n",
       "           Bound Line  Vehicle  \n",
       "Date                            \n",
       "2018-01-13     N   YU     5461  \n",
       "2018-01-27     N   YU     5756  \n",
       "2018-01-27     S   YU     6106  \n",
       "2018-01-20     N   YU     5412  \n",
       "2018-01-27     W   BD     5127  "
      ]
     },
     "metadata": {},
     "output_type": "display_data"
    },
    {
     "name": "stdout",
     "output_type": "stream",
     "text": [
      "There are 176\n"
     ]
    }
   ],
   "source": [
    "# What we would like to do is specifically get the saturday data\n",
    "df_sat = df_ttc_original[:]\n",
    "df_sat = df_sat[df_sat['Day']==\"Saturday\"]\n",
    "# we want to sort this by the minutes of the delay, from greatest\n",
    "# to least\n",
    "df_sat = df_sat.sort_values(by=\"Min Delay\", ascending=False)\n",
    "display(df_sat.head(5))\n",
    "print(\"There are \" + str(df_sat.shape[0]))"
   ]
  },
  {
   "cell_type": "markdown",
   "metadata": {},
   "source": [
    "We see that the highest minute delay is nearly 5 times from the second highest minute delay, so we will remove this piece of data and redo this process."
   ]
  },
  {
   "cell_type": "code",
   "execution_count": 279,
   "metadata": {},
   "outputs": [
    {
     "data": {
      "text/html": [
       "<div>\n",
       "<style>\n",
       "    .dataframe thead tr:only-child th {\n",
       "        text-align: right;\n",
       "    }\n",
       "\n",
       "    .dataframe thead th {\n",
       "        text-align: left;\n",
       "    }\n",
       "\n",
       "    .dataframe tbody tr th {\n",
       "        vertical-align: top;\n",
       "    }\n",
       "</style>\n",
       "<table border=\"1\" class=\"dataframe\">\n",
       "  <thead>\n",
       "    <tr style=\"text-align: right;\">\n",
       "      <th></th>\n",
       "      <th>Time</th>\n",
       "      <th>Day</th>\n",
       "      <th>Station</th>\n",
       "      <th>Code</th>\n",
       "      <th>Min Delay</th>\n",
       "      <th>Min Gap</th>\n",
       "      <th>Bound</th>\n",
       "      <th>Line</th>\n",
       "      <th>Vehicle</th>\n",
       "    </tr>\n",
       "    <tr>\n",
       "      <th>Date</th>\n",
       "      <th></th>\n",
       "      <th></th>\n",
       "      <th></th>\n",
       "      <th></th>\n",
       "      <th></th>\n",
       "      <th></th>\n",
       "      <th></th>\n",
       "      <th></th>\n",
       "      <th></th>\n",
       "    </tr>\n",
       "  </thead>\n",
       "  <tbody>\n",
       "    <tr>\n",
       "      <th>2018-01-13</th>\n",
       "      <td>19:19</td>\n",
       "      <td>Saturday</td>\n",
       "      <td>UNION STATION</td>\n",
       "      <td>PUTR</td>\n",
       "      <td>248</td>\n",
       "      <td>253</td>\n",
       "      <td>N</td>\n",
       "      <td>YU</td>\n",
       "      <td>5461</td>\n",
       "    </tr>\n",
       "    <tr>\n",
       "      <th>2018-01-16</th>\n",
       "      <td>21:21</td>\n",
       "      <td>Tuesday</td>\n",
       "      <td>LAWRENCE EAST TO ELLES</td>\n",
       "      <td>PRW</td>\n",
       "      <td>148</td>\n",
       "      <td>153</td>\n",
       "      <td>N</td>\n",
       "      <td>SRT</td>\n",
       "      <td>3013</td>\n",
       "    </tr>\n",
       "    <tr>\n",
       "      <th>2018-01-08</th>\n",
       "      <td>05:45</td>\n",
       "      <td>Monday</td>\n",
       "      <td>BLOOR DANFORTH SUBWAY</td>\n",
       "      <td>MUFM</td>\n",
       "      <td>131</td>\n",
       "      <td>134</td>\n",
       "      <td>E</td>\n",
       "      <td>BD</td>\n",
       "      <td>5212</td>\n",
       "    </tr>\n",
       "    <tr>\n",
       "      <th>2018-01-10</th>\n",
       "      <td>18:12</td>\n",
       "      <td>Wednesday</td>\n",
       "      <td>VAUGHAN MC STATION</td>\n",
       "      <td>MUATC</td>\n",
       "      <td>94</td>\n",
       "      <td>96</td>\n",
       "      <td>N</td>\n",
       "      <td>YU</td>\n",
       "      <td>5986</td>\n",
       "    </tr>\n",
       "    <tr>\n",
       "      <th>2018-01-08</th>\n",
       "      <td>15:28</td>\n",
       "      <td>Monday</td>\n",
       "      <td>WARDEN STATION</td>\n",
       "      <td>PUSSW</td>\n",
       "      <td>82</td>\n",
       "      <td>87</td>\n",
       "      <td>E</td>\n",
       "      <td>BD</td>\n",
       "      <td>5006</td>\n",
       "    </tr>\n",
       "  </tbody>\n",
       "</table>\n",
       "</div>"
      ],
      "text/plain": [
       "             Time        Day                 Station   Code  Min Delay  \\\n",
       "Date                                                                     \n",
       "2018-01-13  19:19   Saturday           UNION STATION   PUTR        248   \n",
       "2018-01-16  21:21    Tuesday  LAWRENCE EAST TO ELLES    PRW        148   \n",
       "2018-01-08  05:45     Monday   BLOOR DANFORTH SUBWAY   MUFM        131   \n",
       "2018-01-10  18:12  Wednesday      VAUGHAN MC STATION  MUATC         94   \n",
       "2018-01-08  15:28     Monday          WARDEN STATION  PUSSW         82   \n",
       "\n",
       "            Min Gap Bound Line  Vehicle  \n",
       "Date                                     \n",
       "2018-01-13      253     N   YU     5461  \n",
       "2018-01-16      153     N  SRT     3013  \n",
       "2018-01-08      134     E   BD     5212  \n",
       "2018-01-10       96     N   YU     5986  \n",
       "2018-01-08       87     E   BD     5006  "
      ]
     },
     "metadata": {},
     "output_type": "display_data"
    },
    {
     "data": {
      "text/html": [
       "<div>\n",
       "<style>\n",
       "    .dataframe thead tr:only-child th {\n",
       "        text-align: right;\n",
       "    }\n",
       "\n",
       "    .dataframe thead th {\n",
       "        text-align: left;\n",
       "    }\n",
       "\n",
       "    .dataframe tbody tr th {\n",
       "        vertical-align: top;\n",
       "    }\n",
       "</style>\n",
       "<table border=\"1\" class=\"dataframe\">\n",
       "  <thead>\n",
       "    <tr style=\"text-align: right;\">\n",
       "      <th></th>\n",
       "      <th>Time</th>\n",
       "      <th>Day</th>\n",
       "      <th>Station</th>\n",
       "      <th>Code</th>\n",
       "      <th>Min Delay</th>\n",
       "      <th>Min Gap</th>\n",
       "      <th>Bound</th>\n",
       "      <th>Line</th>\n",
       "      <th>Vehicle</th>\n",
       "    </tr>\n",
       "    <tr>\n",
       "      <th>Date</th>\n",
       "      <th></th>\n",
       "      <th></th>\n",
       "      <th></th>\n",
       "      <th></th>\n",
       "      <th></th>\n",
       "      <th></th>\n",
       "      <th></th>\n",
       "      <th></th>\n",
       "      <th></th>\n",
       "    </tr>\n",
       "  </thead>\n",
       "  <tbody>\n",
       "    <tr>\n",
       "      <th>2018-01-16</th>\n",
       "      <td>21:21</td>\n",
       "      <td>Tuesday</td>\n",
       "      <td>LAWRENCE EAST TO ELLES</td>\n",
       "      <td>PRW</td>\n",
       "      <td>148</td>\n",
       "      <td>153</td>\n",
       "      <td>N</td>\n",
       "      <td>SRT</td>\n",
       "      <td>3013</td>\n",
       "    </tr>\n",
       "    <tr>\n",
       "      <th>2018-01-08</th>\n",
       "      <td>05:45</td>\n",
       "      <td>Monday</td>\n",
       "      <td>BLOOR DANFORTH SUBWAY</td>\n",
       "      <td>MUFM</td>\n",
       "      <td>131</td>\n",
       "      <td>134</td>\n",
       "      <td>E</td>\n",
       "      <td>BD</td>\n",
       "      <td>5212</td>\n",
       "    </tr>\n",
       "    <tr>\n",
       "      <th>2018-01-10</th>\n",
       "      <td>18:12</td>\n",
       "      <td>Wednesday</td>\n",
       "      <td>VAUGHAN MC STATION</td>\n",
       "      <td>MUATC</td>\n",
       "      <td>94</td>\n",
       "      <td>96</td>\n",
       "      <td>N</td>\n",
       "      <td>YU</td>\n",
       "      <td>5986</td>\n",
       "    </tr>\n",
       "    <tr>\n",
       "      <th>2018-01-08</th>\n",
       "      <td>15:28</td>\n",
       "      <td>Monday</td>\n",
       "      <td>WARDEN STATION</td>\n",
       "      <td>PUSSW</td>\n",
       "      <td>82</td>\n",
       "      <td>87</td>\n",
       "      <td>E</td>\n",
       "      <td>BD</td>\n",
       "      <td>5006</td>\n",
       "    </tr>\n",
       "    <tr>\n",
       "      <th>2018-01-04</th>\n",
       "      <td>06:19</td>\n",
       "      <td>Thursday</td>\n",
       "      <td>KENNEDY SRT STATION</td>\n",
       "      <td>ERTC</td>\n",
       "      <td>76</td>\n",
       "      <td>82</td>\n",
       "      <td>N</td>\n",
       "      <td>SRT</td>\n",
       "      <td>3001</td>\n",
       "    </tr>\n",
       "  </tbody>\n",
       "</table>\n",
       "</div>"
      ],
      "text/plain": [
       "             Time        Day                 Station   Code  Min Delay  \\\n",
       "Date                                                                     \n",
       "2018-01-16  21:21    Tuesday  LAWRENCE EAST TO ELLES    PRW        148   \n",
       "2018-01-08  05:45     Monday   BLOOR DANFORTH SUBWAY   MUFM        131   \n",
       "2018-01-10  18:12  Wednesday      VAUGHAN MC STATION  MUATC         94   \n",
       "2018-01-08  15:28     Monday          WARDEN STATION  PUSSW         82   \n",
       "2018-01-04  06:19   Thursday     KENNEDY SRT STATION   ERTC         76   \n",
       "\n",
       "            Min Gap Bound Line  Vehicle  \n",
       "Date                                     \n",
       "2018-01-16      153     N  SRT     3013  \n",
       "2018-01-08      134     E   BD     5212  \n",
       "2018-01-10       96     N   YU     5986  \n",
       "2018-01-08       87     E   BD     5006  \n",
       "2018-01-04       82     N  SRT     3001  "
      ]
     },
     "execution_count": 279,
     "metadata": {},
     "output_type": "execute_result"
    }
   ],
   "source": [
    "# to remove that row specifically, we need to define that row with a list\n",
    "to_remove = ['2018-01-13', '19:19', 'Saturday', 'UNION STATION', 'PUTR', 248]\n",
    "# copy the data\n",
    "df_q7 = df_ttc_original[:]\n",
    "# and to make sure we remove the data, let's see the very top delays in minutes\n",
    "df_q7 = df_q7.sort_values(by=\"Min Delay\", ascending=False)\n",
    "display(df_q7.head())\n",
    "\n",
    "# now let's drop the row that we indicated and display our dataframe again\n",
    "df_q7 = df_q7.drop(to_remove)\n",
    "df_q7.head()"
   ]
  },
  {
   "cell_type": "markdown",
   "metadata": {},
   "source": [
    "We see that the outlier is now removed, so we can reapply our steps!"
   ]
  },
  {
   "cell_type": "code",
   "execution_count": 280,
   "metadata": {},
   "outputs": [
    {
     "name": "stdout",
     "output_type": "stream",
     "text": [
      "Data needed for day of the week and delay time:\n"
     ]
    },
    {
     "data": {
      "text/html": [
       "<div>\n",
       "<style>\n",
       "    .dataframe thead tr:only-child th {\n",
       "        text-align: right;\n",
       "    }\n",
       "\n",
       "    .dataframe thead th {\n",
       "        text-align: left;\n",
       "    }\n",
       "\n",
       "    .dataframe tbody tr th {\n",
       "        vertical-align: top;\n",
       "    }\n",
       "</style>\n",
       "<table border=\"1\" class=\"dataframe\">\n",
       "  <thead>\n",
       "    <tr style=\"text-align: right;\">\n",
       "      <th></th>\n",
       "      <th>Min Delay</th>\n",
       "      <th>Min Gap</th>\n",
       "      <th>Vehicle</th>\n",
       "      <th>Days (number representation)</th>\n",
       "    </tr>\n",
       "    <tr>\n",
       "      <th>Day</th>\n",
       "      <th></th>\n",
       "      <th></th>\n",
       "      <th></th>\n",
       "      <th></th>\n",
       "    </tr>\n",
       "  </thead>\n",
       "  <tbody>\n",
       "    <tr>\n",
       "      <th>Friday</th>\n",
       "      <td>2.597222</td>\n",
       "      <td>3.829861</td>\n",
       "      <td>4105.534722</td>\n",
       "      <td>5</td>\n",
       "    </tr>\n",
       "    <tr>\n",
       "      <th>Monday</th>\n",
       "      <td>2.987302</td>\n",
       "      <td>4.139683</td>\n",
       "      <td>4044.476190</td>\n",
       "      <td>1</td>\n",
       "    </tr>\n",
       "    <tr>\n",
       "      <th>Saturday</th>\n",
       "      <td>3.622378</td>\n",
       "      <td>5.538462</td>\n",
       "      <td>4175.741259</td>\n",
       "      <td>6</td>\n",
       "    </tr>\n",
       "    <tr>\n",
       "      <th>Sunday</th>\n",
       "      <td>1.857143</td>\n",
       "      <td>3.134454</td>\n",
       "      <td>4028.193277</td>\n",
       "      <td>7</td>\n",
       "    </tr>\n",
       "    <tr>\n",
       "      <th>Thursday</th>\n",
       "      <td>2.374517</td>\n",
       "      <td>3.374517</td>\n",
       "      <td>3907.888031</td>\n",
       "      <td>4</td>\n",
       "    </tr>\n",
       "    <tr>\n",
       "      <th>Tuesday</th>\n",
       "      <td>2.870620</td>\n",
       "      <td>3.897574</td>\n",
       "      <td>4066.420485</td>\n",
       "      <td>2</td>\n",
       "    </tr>\n",
       "    <tr>\n",
       "      <th>Wednesday</th>\n",
       "      <td>2.257971</td>\n",
       "      <td>3.321739</td>\n",
       "      <td>4167.640580</td>\n",
       "      <td>3</td>\n",
       "    </tr>\n",
       "  </tbody>\n",
       "</table>\n",
       "</div>"
      ],
      "text/plain": [
       "           Min Delay   Min Gap      Vehicle  Days (number representation)\n",
       "Day                                                                      \n",
       "Friday      2.597222  3.829861  4105.534722                             5\n",
       "Monday      2.987302  4.139683  4044.476190                             1\n",
       "Saturday    3.622378  5.538462  4175.741259                             6\n",
       "Sunday      1.857143  3.134454  4028.193277                             7\n",
       "Thursday    2.374517  3.374517  3907.888031                             4\n",
       "Tuesday     2.870620  3.897574  4066.420485                             2\n",
       "Wednesday   2.257971  3.321739  4167.640580                             3"
      ]
     },
     "metadata": {},
     "output_type": "display_data"
    },
    {
     "name": "stdout",
     "output_type": "stream",
     "text": [
      "Visual representation of data:\n"
     ]
    },
    {
     "data": {
      "image/png": "[encoded data removed]",
      "text/plain": [
       "<matplotlib.figure.Figure at 0x1fe37d1c6a0>"
      ]
     },
     "metadata": {},
     "output_type": "display_data"
    },
    {
     "name": "stdout",
     "output_type": "stream",
     "text": [
      "Correlation coefficient matrix:\n"
     ]
    },
    {
     "data": {
      "text/html": [
       "<div>\n",
       "<style>\n",
       "    .dataframe thead tr:only-child th {\n",
       "        text-align: right;\n",
       "    }\n",
       "\n",
       "    .dataframe thead th {\n",
       "        text-align: left;\n",
       "    }\n",
       "\n",
       "    .dataframe tbody tr th {\n",
       "        vertical-align: top;\n",
       "    }\n",
       "</style>\n",
       "<table border=\"1\" class=\"dataframe\">\n",
       "  <thead>\n",
       "    <tr style=\"text-align: right;\">\n",
       "      <th></th>\n",
       "      <th>Min Delay</th>\n",
       "      <th>Min Gap</th>\n",
       "      <th>Vehicle</th>\n",
       "      <th>Days (number representation)</th>\n",
       "    </tr>\n",
       "  </thead>\n",
       "  <tbody>\n",
       "    <tr>\n",
       "      <th>Min Delay</th>\n",
       "      <td>1.000000</td>\n",
       "      <td>0.953175</td>\n",
       "      <td>0.414956</td>\n",
       "      <td>-0.208448</td>\n",
       "    </tr>\n",
       "    <tr>\n",
       "      <th>Min Gap</th>\n",
       "      <td>0.953175</td>\n",
       "      <td>1.000000</td>\n",
       "      <td>0.504381</td>\n",
       "      <td>0.073684</td>\n",
       "    </tr>\n",
       "    <tr>\n",
       "      <th>Vehicle</th>\n",
       "      <td>0.414956</td>\n",
       "      <td>0.504381</td>\n",
       "      <td>1.000000</td>\n",
       "      <td>0.090413</td>\n",
       "    </tr>\n",
       "    <tr>\n",
       "      <th>Days (number representation)</th>\n",
       "      <td>-0.208448</td>\n",
       "      <td>0.073684</td>\n",
       "      <td>0.090413</td>\n",
       "      <td>1.000000</td>\n",
       "    </tr>\n",
       "  </tbody>\n",
       "</table>\n",
       "</div>"
      ],
      "text/plain": [
       "                              Min Delay   Min Gap   Vehicle  \\\n",
       "Min Delay                      1.000000  0.953175  0.414956   \n",
       "Min Gap                        0.953175  1.000000  0.504381   \n",
       "Vehicle                        0.414956  0.504381  1.000000   \n",
       "Days (number representation)  -0.208448  0.073684  0.090413   \n",
       "\n",
       "                              Days (number representation)  \n",
       "Min Delay                                        -0.208448  \n",
       "Min Gap                                           0.073684  \n",
       "Vehicle                                           0.090413  \n",
       "Days (number representation)                      1.000000  "
      ]
     },
     "execution_count": 280,
     "metadata": {},
     "output_type": "execute_result"
    }
   ],
   "source": [
    "# what we can do is copy the original data and we want to group them by day\n",
    "df_q7 = df_q7.groupby(\"Day\")\n",
    "# and we want the average delay time\n",
    "df_q7 = df_q7.mean()\n",
    "df_q7\n",
    "\n",
    "# pandas alphabetically orders the data\n",
    "# so what we'll do is similar to question 6, which is to provide \n",
    "# number representations of the data\n",
    "# in this case:\n",
    "#     Monday is 1\n",
    "#     Tuesday is 2\n",
    "#     Wednesday is 3\n",
    "#     Thursday is 4\n",
    "#     Friday is 5\n",
    "#     Saturday is 6\n",
    "#     Sunday is 7\n",
    "days = [5, 1, 6, 7, 4, 2, 3]\n",
    "df_q7.loc[:, \"Days (number representation)\"] = days\n",
    "\n",
    "print(\"Data needed for day of the week and delay time:\")\n",
    "display(df_q7)\n",
    "x = df_q7[\"Days (number representation)\"]\n",
    "y = df_q7[\"Min Delay\"]\n",
    "\n",
    "print(\"Visual representation of data:\")\n",
    "# now we can conduct a scatter plot of the data requested to see any outliers\n",
    "plt.scatter(df_q7[\"Days (number representation)\"], df_q7[\"Min Delay\"], color=\"blue\")\n",
    "plt.xlabel(\"Day of the week (number representation)\")\n",
    "plt.ylabel(\"Average Delay Time\")\n",
    "plt.title(\"Day of the week and average delay time\")\n",
    "plt.plot(np.unique(x), np.poly1d(np.polyfit(x, y, 1))(np.unique(x)), color = \"orange\")\n",
    "plt.show()\n",
    "\n",
    "# and we want to show if there is a correlation, by using the correlation coefficient matrix\n",
    "print(\"Correlation coefficient matrix:\")\n",
    "df_q7.corr('pearson')"
   ]
  },
  {
   "cell_type": "markdown",
   "metadata": {},
   "source": [
    "Correlation between days and minute delay seems much more stronger, having a moderate change of (8-[-21]) = 29. By this fact, we see that the outlier did weigh a lot, even in a large data set of 176 rows (on Saturday)"
   ]
  },
  {
   "cell_type": "markdown",
   "metadata": {},
   "source": [
    "## Time of Day and Gaps between trains"
   ]
  },
  {
   "cell_type": "code",
   "execution_count": 281,
   "metadata": {},
   "outputs": [
    {
     "name": "stdout",
     "output_type": "stream",
     "text": [
      "Our data in this question\n"
     ]
    },
    {
     "data": {
      "text/html": [
       "<div>\n",
       "<style>\n",
       "    .dataframe thead tr:only-child th {\n",
       "        text-align: right;\n",
       "    }\n",
       "\n",
       "    .dataframe thead th {\n",
       "        text-align: left;\n",
       "    }\n",
       "\n",
       "    .dataframe tbody tr th {\n",
       "        vertical-align: top;\n",
       "    }\n",
       "</style>\n",
       "<table border=\"1\" class=\"dataframe\">\n",
       "  <thead>\n",
       "    <tr style=\"text-align: right;\">\n",
       "      <th></th>\n",
       "      <th>Min Delay</th>\n",
       "      <th>Min Gap</th>\n",
       "      <th>Vehicle</th>\n",
       "      <th>Hour of the day</th>\n",
       "    </tr>\n",
       "    <tr>\n",
       "      <th>Hour</th>\n",
       "      <th></th>\n",
       "      <th></th>\n",
       "      <th></th>\n",
       "      <th></th>\n",
       "    </tr>\n",
       "  </thead>\n",
       "  <tbody>\n",
       "    <tr>\n",
       "      <th>0</th>\n",
       "      <td>3.634146</td>\n",
       "      <td>5.951220</td>\n",
       "      <td>4795.609756</td>\n",
       "      <td>0</td>\n",
       "    </tr>\n",
       "    <tr>\n",
       "      <th>1</th>\n",
       "      <td>2.295455</td>\n",
       "      <td>4.000000</td>\n",
       "      <td>4614.363636</td>\n",
       "      <td>1</td>\n",
       "    </tr>\n",
       "    <tr>\n",
       "      <th>2</th>\n",
       "      <td>0.351351</td>\n",
       "      <td>0.513514</td>\n",
       "      <td>1845.756757</td>\n",
       "      <td>2</td>\n",
       "    </tr>\n",
       "    <tr>\n",
       "      <th>3</th>\n",
       "      <td>0.333333</td>\n",
       "      <td>0.777778</td>\n",
       "      <td>3980.444444</td>\n",
       "      <td>3</td>\n",
       "    </tr>\n",
       "    <tr>\n",
       "      <th>4</th>\n",
       "      <td>0.000000</td>\n",
       "      <td>0.000000</td>\n",
       "      <td>949.333333</td>\n",
       "      <td>4</td>\n",
       "    </tr>\n",
       "  </tbody>\n",
       "</table>\n",
       "</div>"
      ],
      "text/plain": [
       "      Min Delay   Min Gap      Vehicle  Hour of the day\n",
       "Hour                                                   \n",
       "0      3.634146  5.951220  4795.609756                0\n",
       "1      2.295455  4.000000  4614.363636                1\n",
       "2      0.351351  0.513514  1845.756757                2\n",
       "3      0.333333  0.777778  3980.444444                3\n",
       "4      0.000000  0.000000   949.333333                4"
      ]
     },
     "metadata": {},
     "output_type": "display_data"
    },
    {
     "name": "stdout",
     "output_type": "stream",
     "text": [
      "Scatter plot representation:\n"
     ]
    },
    {
     "data": {
      "image/png": "[encoded data removed]",
      "text/plain": [
       "<matplotlib.figure.Figure at 0x1fe37bdd550>"
      ]
     },
     "metadata": {},
     "output_type": "display_data"
    },
    {
     "name": "stdout",
     "output_type": "stream",
     "text": [
      "Correlation coefficient matrix:\n"
     ]
    },
    {
     "data": {
      "text/html": [
       "<div>\n",
       "<style>\n",
       "    .dataframe thead tr:only-child th {\n",
       "        text-align: right;\n",
       "    }\n",
       "\n",
       "    .dataframe thead th {\n",
       "        text-align: left;\n",
       "    }\n",
       "\n",
       "    .dataframe tbody tr th {\n",
       "        vertical-align: top;\n",
       "    }\n",
       "</style>\n",
       "<table border=\"1\" class=\"dataframe\">\n",
       "  <thead>\n",
       "    <tr style=\"text-align: right;\">\n",
       "      <th></th>\n",
       "      <th>Min Delay</th>\n",
       "      <th>Min Gap</th>\n",
       "      <th>Vehicle</th>\n",
       "      <th>Hour of the day</th>\n",
       "    </tr>\n",
       "  </thead>\n",
       "  <tbody>\n",
       "    <tr>\n",
       "      <th>Min Delay</th>\n",
       "      <td>1.000000</td>\n",
       "      <td>0.919572</td>\n",
       "      <td>0.543298</td>\n",
       "      <td>0.271751</td>\n",
       "    </tr>\n",
       "    <tr>\n",
       "      <th>Min Gap</th>\n",
       "      <td>0.919572</td>\n",
       "      <td>1.000000</td>\n",
       "      <td>0.672003</td>\n",
       "      <td>0.321552</td>\n",
       "    </tr>\n",
       "    <tr>\n",
       "      <th>Vehicle</th>\n",
       "      <td>0.543298</td>\n",
       "      <td>0.672003</td>\n",
       "      <td>1.000000</td>\n",
       "      <td>0.040045</td>\n",
       "    </tr>\n",
       "    <tr>\n",
       "      <th>Hour of the day</th>\n",
       "      <td>0.271751</td>\n",
       "      <td>0.321552</td>\n",
       "      <td>0.040045</td>\n",
       "      <td>1.000000</td>\n",
       "    </tr>\n",
       "  </tbody>\n",
       "</table>\n",
       "</div>"
      ],
      "text/plain": [
       "                 Min Delay   Min Gap   Vehicle  Hour of the day\n",
       "Min Delay         1.000000  0.919572  0.543298         0.271751\n",
       "Min Gap           0.919572  1.000000  0.672003         0.321552\n",
       "Vehicle           0.543298  0.672003  1.000000         0.040045\n",
       "Hour of the day   0.271751  0.321552  0.040045         1.000000"
      ]
     },
     "execution_count": 281,
     "metadata": {},
     "output_type": "execute_result"
    }
   ],
   "source": [
    "# luckily we have q1's dataframe, so it is copied\n",
    "df_q7 = df_q1[:]\n",
    "# what we want to do is group the data by the hour\n",
    "# and we want to get the average because minimum of gaps\n",
    "# return 0 and is not meaningful\n",
    "\n",
    "df_q7 = df_q7.groupby(\"Hour\").mean()\n",
    "# because we are going to evenutally be doing a correlation\n",
    "# coefficient, we might as well add the indexed values as\n",
    "# a new column\n",
    "df_q7.loc[:, \"Hour of the day\"] = df_q7.index.values\n",
    "print(\"Our data in this question\")\n",
    "display(df_q7.head())\n",
    "\n",
    "# Thanks to question 2, we can use its function to make\n",
    "# a scatter plot\n",
    "print(\"Scatter plot representation:\")\n",
    "scatter_plot_me(df_q7, \"Min Gap\", \"Hour of the day\", \"Gap Between Delay\")\n",
    "# we'll keep our data as is\n",
    "\n",
    "# now we want the correlation coefficient\n",
    "print(\"Correlation coefficient matrix:\")\n",
    "df_q7.corr(\"pearson\")"
   ]
  },
  {
   "cell_type": "markdown",
   "metadata": {},
   "source": [
    "# Question 8: How has the number of delays progressed per week during January? That is, did the number of delays increase, decrease or remain stable during this month as weeks progressed?"
   ]
  },
  {
   "cell_type": "code",
   "execution_count": 282,
   "metadata": {
    "collapsed": true
   },
   "outputs": [],
   "source": [
    "def get_dates(df_general):\n",
    "    '''(DataFrame) -> list of ints\n",
    "\n",
    "    Returns a list of dates of only a specific month\n",
    "    '''\n",
    "    # make a returned list\n",
    "    new_dates = []\n",
    "    # and get all of the dates, indicated by our index\n",
    "    old_dates = df_general.index.values\n",
    "    for date in old_dates:\n",
    "        # We want to splice the data of the original date\n",
    "        # and since it's a string, we have to typecast it\n",
    "        num_date = int(date[-2:])\n",
    "        # then we can add it to our returning list\n",
    "        new_dates.append(num_date)\n",
    "    # and then return the dates\n",
    "    return new_dates"
   ]
  },
  {
   "cell_type": "code",
   "execution_count": 283,
   "metadata": {},
   "outputs": [
    {
     "name": "stdout",
     "output_type": "stream",
     "text": [
      "Data that we will be using:\n"
     ]
    },
    {
     "name": "stderr",
     "output_type": "stream",
     "text": [
      "C:\\Users\\Dann Justin\\Anaconda3\\lib\\site-packages\\pandas\\core\\indexing.py:337: SettingWithCopyWarning: \n",
      "A value is trying to be set on a copy of a slice from a DataFrame.\n",
      "Try using .loc[row_indexer,col_indexer] = value instead\n",
      "\n",
      "See the caveats in the documentation: http://pandas.pydata.org/pandas-docs/stable/indexing.html#indexing-view-versus-copy\n",
      "  self.obj[key] = _infer_fill_value(value)\n",
      "C:\\Users\\Dann Justin\\Anaconda3\\lib\\site-packages\\pandas\\core\\indexing.py:517: SettingWithCopyWarning: \n",
      "A value is trying to be set on a copy of a slice from a DataFrame.\n",
      "Try using .loc[row_indexer,col_indexer] = value instead\n",
      "\n",
      "See the caveats in the documentation: http://pandas.pydata.org/pandas-docs/stable/indexing.html#indexing-view-versus-copy\n",
      "  self.obj[item] = s\n"
     ]
    },
    {
     "data": {
      "text/html": [
       "<div>\n",
       "<style>\n",
       "    .dataframe thead tr:only-child th {\n",
       "        text-align: right;\n",
       "    }\n",
       "\n",
       "    .dataframe thead th {\n",
       "        text-align: left;\n",
       "    }\n",
       "\n",
       "    .dataframe tbody tr th {\n",
       "        vertical-align: top;\n",
       "    }\n",
       "</style>\n",
       "<table border=\"1\" class=\"dataframe\">\n",
       "  <thead>\n",
       "    <tr style=\"text-align: right;\">\n",
       "      <th></th>\n",
       "      <th>Time</th>\n",
       "      <th>Day</th>\n",
       "      <th>Station</th>\n",
       "      <th>Code</th>\n",
       "      <th>Min Delay</th>\n",
       "      <th>Min Gap</th>\n",
       "      <th>Bound</th>\n",
       "      <th>Line</th>\n",
       "      <th>Vehicle</th>\n",
       "      <th>Date (number representation)</th>\n",
       "      <th>Week</th>\n",
       "    </tr>\n",
       "    <tr>\n",
       "      <th>Date</th>\n",
       "      <th></th>\n",
       "      <th></th>\n",
       "      <th></th>\n",
       "      <th></th>\n",
       "      <th></th>\n",
       "      <th></th>\n",
       "      <th></th>\n",
       "      <th></th>\n",
       "      <th></th>\n",
       "      <th></th>\n",
       "      <th></th>\n",
       "    </tr>\n",
       "  </thead>\n",
       "  <tbody>\n",
       "    <tr>\n",
       "      <th>2018-01-01</th>\n",
       "      <td>00:29</td>\n",
       "      <td>Monday</td>\n",
       "      <td>SHEPPARD WEST STATION</td>\n",
       "      <td>MUATC</td>\n",
       "      <td>10</td>\n",
       "      <td>15</td>\n",
       "      <td>N</td>\n",
       "      <td>YU</td>\n",
       "      <td>5986</td>\n",
       "      <td>1</td>\n",
       "      <td>1</td>\n",
       "    </tr>\n",
       "    <tr>\n",
       "      <th>2018-01-01</th>\n",
       "      <td>01:07</td>\n",
       "      <td>Monday</td>\n",
       "      <td>DUNDAS STATION</td>\n",
       "      <td>MUNCA</td>\n",
       "      <td>0</td>\n",
       "      <td>0</td>\n",
       "      <td>NaN</td>\n",
       "      <td>YU</td>\n",
       "      <td>0</td>\n",
       "      <td>1</td>\n",
       "      <td>1</td>\n",
       "    </tr>\n",
       "    <tr>\n",
       "      <th>2018-01-01</th>\n",
       "      <td>01:22</td>\n",
       "      <td>Monday</td>\n",
       "      <td>MUSEUM STATION</td>\n",
       "      <td>MUSC</td>\n",
       "      <td>0</td>\n",
       "      <td>0</td>\n",
       "      <td>N</td>\n",
       "      <td>YU</td>\n",
       "      <td>5751</td>\n",
       "      <td>1</td>\n",
       "      <td>1</td>\n",
       "    </tr>\n",
       "    <tr>\n",
       "      <th>2018-01-01</th>\n",
       "      <td>01:28</td>\n",
       "      <td>Monday</td>\n",
       "      <td>BAY LOWER</td>\n",
       "      <td>EUOE</td>\n",
       "      <td>0</td>\n",
       "      <td>0</td>\n",
       "      <td>NaN</td>\n",
       "      <td>BD</td>\n",
       "      <td>5222</td>\n",
       "      <td>1</td>\n",
       "      <td>1</td>\n",
       "    </tr>\n",
       "    <tr>\n",
       "      <th>2018-01-01</th>\n",
       "      <td>01:39</td>\n",
       "      <td>Monday</td>\n",
       "      <td>MUSEUM STATION</td>\n",
       "      <td>MUO</td>\n",
       "      <td>6</td>\n",
       "      <td>11</td>\n",
       "      <td>S</td>\n",
       "      <td>YU</td>\n",
       "      <td>5781</td>\n",
       "      <td>1</td>\n",
       "      <td>1</td>\n",
       "    </tr>\n",
       "  </tbody>\n",
       "</table>\n",
       "</div>"
      ],
      "text/plain": [
       "             Time     Day                Station   Code  Min Delay  Min Gap  \\\n",
       "Date                                                                          \n",
       "2018-01-01  00:29  Monday  SHEPPARD WEST STATION  MUATC         10       15   \n",
       "2018-01-01  01:07  Monday         DUNDAS STATION  MUNCA          0        0   \n",
       "2018-01-01  01:22  Monday         MUSEUM STATION   MUSC          0        0   \n",
       "2018-01-01  01:28  Monday              BAY LOWER   EUOE          0        0   \n",
       "2018-01-01  01:39  Monday         MUSEUM STATION    MUO          6       11   \n",
       "\n",
       "           Bound Line  Vehicle  Date (number representation) Week  \n",
       "Date                                                               \n",
       "2018-01-01     N   YU     5986                             1    1  \n",
       "2018-01-01   NaN   YU        0                             1    1  \n",
       "2018-01-01     N   YU     5751                             1    1  \n",
       "2018-01-01   NaN   BD     5222                             1    1  \n",
       "2018-01-01     S   YU     5781                             1    1  "
      ]
     },
     "execution_count": 283,
     "metadata": {},
     "output_type": "execute_result"
    }
   ],
   "source": [
    "# what we want to do is add a new column, specifying date in January\n",
    "df_q8 = df_ttc_original[:]\n",
    "# we use the function that's from the above\n",
    "df_q8.loc[:, \"Date (number representation)\"] = get_dates(df_q8)\n",
    "\n",
    "# Now what we want to do is specify the week\n",
    "# We did these steps because weighing progress is tricky: there are\n",
    "# three extra days in January, making the data not uniform.\n",
    "\n",
    "# so:\n",
    "#     week 1: Jan 1-7\n",
    "#     week 2: Jan 8-14\n",
    "#     week 3: Jan 15-21\n",
    "#     week 4: Jan 22-28\n",
    "#     week 5: Jan 29-31\n",
    "\n",
    "# we define our range\n",
    "our_range = [0, 8, 15, 22, 29, 32]\n",
    "# make our buckets for the week\n",
    "our_buckets = [1, 2, 3, 4, 5]\n",
    "# use \"cut\" to get to label our buckets\n",
    "new_col = pd.cut(df_q8['Date (number representation)'], our_range, right=False, labels=our_buckets)\n",
    "# insert the new column to our DataFrame\n",
    "df_q8.loc[:, \"Week\"] = new_col\n",
    "print(\"Data that we will be using:\")\n",
    "df_q8.head()"
   ]
  },
  {
   "cell_type": "markdown",
   "metadata": {},
   "source": [
    "It makes much more sense to divide these into days rather than making an overall analysis. Keeping in mind that Monday, Tuesday and Wednesday have an extra week in January"
   ]
  },
  {
   "cell_type": "code",
   "execution_count": 284,
   "metadata": {
    "collapsed": true
   },
   "outputs": [],
   "source": [
    "def display_relevant_data(day):\n",
    "    '''\n",
    "    (str) -> None\n",
    "    \n",
    "    Shows all relative data to see progression\n",
    "    throughout the weeks of a specific day using\n",
    "    df_q8 as the base dataframe\n",
    "    '''\n",
    "    # copy all data from df_q8\n",
    "    df_day = df_q8[:]\n",
    "    # and we filter to the specified day\n",
    "    df_day = df_day[df_day[\"Day\"] == day]\n",
    "    # now we want to group the data by the week\n",
    "    df_day = df_day.groupby(\"Week\")\n",
    "    # and we want the total count since the question asks for \n",
    "    # number of delays per week\n",
    "    df_day = df_day.count()\n",
    "    \n",
    "    # For some reason, this still adds week 5 for days that\n",
    "    # don't have a week 5, so we will have to put this\n",
    "    # if statement to remove a week 5\n",
    "    if (df_day.iloc[4].values[0] == 0):\n",
    "        df_day = df_day.iloc[0:4]\n",
    "    \n",
    "    # we want to add an extra column to display our data later for \n",
    "    # correlation coefficients\n",
    "    df_day.loc[:, \"Week in January\"] = [int(i) for i in df_day.index.values]\n",
    "\n",
    "    # we want to strip the data to one specific column that does not contain null\n",
    "    df_day = df_day[[\"Time\", \"Week in January\"]]\n",
    "    # and we want to rename the columns\n",
    "    df_day.columns = [\"Frequency of Delays\", \"Week in January\"]\n",
    "    \n",
    "    # now we want to display our data for that day\n",
    "    print(\"Week Progression of \" + day + \":\")\n",
    "    display(pd.DataFrame(df_day[\"Frequency of Delays\"]))\n",
    "\n",
    "    # thanks to question 2, we can draw a scatterplot\n",
    "    print(\"Scatter plot representation of \" + day + \"s:\")\n",
    "    scatter_plot_me(df_day, \"Frequency of Delays\", \"Week in January\", \"Total frequency of delays for the week\")\n",
    "    \n",
    "    # and now we want to show the correlation coefficient\n",
    "    print(\"Correlation Coefficent Matrix:\")\n",
    "    display(df_day.corr(\"pearson\"))"
   ]
  },
  {
   "cell_type": "markdown",
   "metadata": {},
   "source": [
    "## Monday"
   ]
  },
  {
   "cell_type": "code",
   "execution_count": 285,
   "metadata": {},
   "outputs": [
    {
     "name": "stdout",
     "output_type": "stream",
     "text": [
      "Week Progression of Monday:\n"
     ]
    },
    {
     "data": {
      "text/html": [
       "<div>\n",
       "<style>\n",
       "    .dataframe thead tr:only-child th {\n",
       "        text-align: right;\n",
       "    }\n",
       "\n",
       "    .dataframe thead th {\n",
       "        text-align: left;\n",
       "    }\n",
       "\n",
       "    .dataframe tbody tr th {\n",
       "        vertical-align: top;\n",
       "    }\n",
       "</style>\n",
       "<table border=\"1\" class=\"dataframe\">\n",
       "  <thead>\n",
       "    <tr style=\"text-align: right;\">\n",
       "      <th></th>\n",
       "      <th>Frequency of Delays</th>\n",
       "    </tr>\n",
       "    <tr>\n",
       "      <th>Week</th>\n",
       "      <th></th>\n",
       "    </tr>\n",
       "  </thead>\n",
       "  <tbody>\n",
       "    <tr>\n",
       "      <th>1</th>\n",
       "      <td>58</td>\n",
       "    </tr>\n",
       "    <tr>\n",
       "      <th>2</th>\n",
       "      <td>88</td>\n",
       "    </tr>\n",
       "    <tr>\n",
       "      <th>3</th>\n",
       "      <td>63</td>\n",
       "    </tr>\n",
       "    <tr>\n",
       "      <th>4</th>\n",
       "      <td>56</td>\n",
       "    </tr>\n",
       "    <tr>\n",
       "      <th>5</th>\n",
       "      <td>50</td>\n",
       "    </tr>\n",
       "  </tbody>\n",
       "</table>\n",
       "</div>"
      ],
      "text/plain": [
       "      Frequency of Delays\n",
       "Week                     \n",
       "1                      58\n",
       "2                      88\n",
       "3                      63\n",
       "4                      56\n",
       "5                      50"
      ]
     },
     "metadata": {},
     "output_type": "display_data"
    },
    {
     "name": "stdout",
     "output_type": "stream",
     "text": [
      "Scatter plot representation of Mondays:\n"
     ]
    },
    {
     "data": {
      "image/png": "[encoded data removed]",
      "text/plain": [
       "<matplotlib.figure.Figure at 0x1fe37aa7470>"
      ]
     },
     "metadata": {},
     "output_type": "display_data"
    },
    {
     "name": "stdout",
     "output_type": "stream",
     "text": [
      "Correlation Coefficent Matrix:\n"
     ]
    },
    {
     "data": {
      "text/html": [
       "<div>\n",
       "<style>\n",
       "    .dataframe thead tr:only-child th {\n",
       "        text-align: right;\n",
       "    }\n",
       "\n",
       "    .dataframe thead th {\n",
       "        text-align: left;\n",
       "    }\n",
       "\n",
       "    .dataframe tbody tr th {\n",
       "        vertical-align: top;\n",
       "    }\n",
       "</style>\n",
       "<table border=\"1\" class=\"dataframe\">\n",
       "  <thead>\n",
       "    <tr style=\"text-align: right;\">\n",
       "      <th></th>\n",
       "      <th>Frequency of Delays</th>\n",
       "      <th>Week in January</th>\n",
       "    </tr>\n",
       "  </thead>\n",
       "  <tbody>\n",
       "    <tr>\n",
       "      <th>Frequency of Delays</th>\n",
       "      <td>1.000000</td>\n",
       "      <td>-0.515207</td>\n",
       "    </tr>\n",
       "    <tr>\n",
       "      <th>Week in January</th>\n",
       "      <td>-0.515207</td>\n",
       "      <td>1.000000</td>\n",
       "    </tr>\n",
       "  </tbody>\n",
       "</table>\n",
       "</div>"
      ],
      "text/plain": [
       "                     Frequency of Delays  Week in January\n",
       "Frequency of Delays             1.000000        -0.515207\n",
       "Week in January                -0.515207         1.000000"
      ]
     },
     "metadata": {},
     "output_type": "display_data"
    }
   ],
   "source": [
    "display_relevant_data(\"Monday\")"
   ]
  },
  {
   "cell_type": "markdown",
   "metadata": {},
   "source": [
    "## Tueday"
   ]
  },
  {
   "cell_type": "code",
   "execution_count": 286,
   "metadata": {},
   "outputs": [
    {
     "name": "stdout",
     "output_type": "stream",
     "text": [
      "Week Progression of Tuesday:\n"
     ]
    },
    {
     "data": {
      "text/html": [
       "<div>\n",
       "<style>\n",
       "    .dataframe thead tr:only-child th {\n",
       "        text-align: right;\n",
       "    }\n",
       "\n",
       "    .dataframe thead th {\n",
       "        text-align: left;\n",
       "    }\n",
       "\n",
       "    .dataframe tbody tr th {\n",
       "        vertical-align: top;\n",
       "    }\n",
       "</style>\n",
       "<table border=\"1\" class=\"dataframe\">\n",
       "  <thead>\n",
       "    <tr style=\"text-align: right;\">\n",
       "      <th></th>\n",
       "      <th>Frequency of Delays</th>\n",
       "    </tr>\n",
       "    <tr>\n",
       "      <th>Week</th>\n",
       "      <th></th>\n",
       "    </tr>\n",
       "  </thead>\n",
       "  <tbody>\n",
       "    <tr>\n",
       "      <th>1</th>\n",
       "      <td>75</td>\n",
       "    </tr>\n",
       "    <tr>\n",
       "      <th>2</th>\n",
       "      <td>66</td>\n",
       "    </tr>\n",
       "    <tr>\n",
       "      <th>3</th>\n",
       "      <td>70</td>\n",
       "    </tr>\n",
       "    <tr>\n",
       "      <th>4</th>\n",
       "      <td>79</td>\n",
       "    </tr>\n",
       "    <tr>\n",
       "      <th>5</th>\n",
       "      <td>81</td>\n",
       "    </tr>\n",
       "  </tbody>\n",
       "</table>\n",
       "</div>"
      ],
      "text/plain": [
       "      Frequency of Delays\n",
       "Week                     \n",
       "1                      75\n",
       "2                      66\n",
       "3                      70\n",
       "4                      79\n",
       "5                      81"
      ]
     },
     "metadata": {},
     "output_type": "display_data"
    },
    {
     "name": "stdout",
     "output_type": "stream",
     "text": [
      "Scatter plot representation of Tuesdays:\n"
     ]
    },
    {
     "data": {
      "image/png": "[encoded data removed]",
      "text/plain": [
       "<matplotlib.figure.Figure at 0x1fe37aa7240>"
      ]
     },
     "metadata": {},
     "output_type": "display_data"
    },
    {
     "name": "stdout",
     "output_type": "stream",
     "text": [
      "Correlation Coefficent Matrix:\n"
     ]
    },
    {
     "data": {
      "text/html": [
       "<div>\n",
       "<style>\n",
       "    .dataframe thead tr:only-child th {\n",
       "        text-align: right;\n",
       "    }\n",
       "\n",
       "    .dataframe thead th {\n",
       "        text-align: left;\n",
       "    }\n",
       "\n",
       "    .dataframe tbody tr th {\n",
       "        vertical-align: top;\n",
       "    }\n",
       "</style>\n",
       "<table border=\"1\" class=\"dataframe\">\n",
       "  <thead>\n",
       "    <tr style=\"text-align: right;\">\n",
       "      <th></th>\n",
       "      <th>Frequency of Delays</th>\n",
       "      <th>Week in January</th>\n",
       "    </tr>\n",
       "  </thead>\n",
       "  <tbody>\n",
       "    <tr>\n",
       "      <th>Frequency of Delays</th>\n",
       "      <td>1.000000</td>\n",
       "      <td>0.635411</td>\n",
       "    </tr>\n",
       "    <tr>\n",
       "      <th>Week in January</th>\n",
       "      <td>0.635411</td>\n",
       "      <td>1.000000</td>\n",
       "    </tr>\n",
       "  </tbody>\n",
       "</table>\n",
       "</div>"
      ],
      "text/plain": [
       "                     Frequency of Delays  Week in January\n",
       "Frequency of Delays             1.000000         0.635411\n",
       "Week in January                 0.635411         1.000000"
      ]
     },
     "metadata": {},
     "output_type": "display_data"
    }
   ],
   "source": [
    "display_relevant_data(\"Tuesday\")"
   ]
  },
  {
   "cell_type": "markdown",
   "metadata": {},
   "source": [
    "## Wednesday"
   ]
  },
  {
   "cell_type": "code",
   "execution_count": 287,
   "metadata": {},
   "outputs": [
    {
     "name": "stdout",
     "output_type": "stream",
     "text": [
      "Week Progression of Wednesday:\n"
     ]
    },
    {
     "data": {
      "text/html": [
       "<div>\n",
       "<style>\n",
       "    .dataframe thead tr:only-child th {\n",
       "        text-align: right;\n",
       "    }\n",
       "\n",
       "    .dataframe thead th {\n",
       "        text-align: left;\n",
       "    }\n",
       "\n",
       "    .dataframe tbody tr th {\n",
       "        vertical-align: top;\n",
       "    }\n",
       "</style>\n",
       "<table border=\"1\" class=\"dataframe\">\n",
       "  <thead>\n",
       "    <tr style=\"text-align: right;\">\n",
       "      <th></th>\n",
       "      <th>Frequency of Delays</th>\n",
       "    </tr>\n",
       "    <tr>\n",
       "      <th>Week</th>\n",
       "      <th></th>\n",
       "    </tr>\n",
       "  </thead>\n",
       "  <tbody>\n",
       "    <tr>\n",
       "      <th>1</th>\n",
       "      <td>67</td>\n",
       "    </tr>\n",
       "    <tr>\n",
       "      <th>2</th>\n",
       "      <td>58</td>\n",
       "    </tr>\n",
       "    <tr>\n",
       "      <th>3</th>\n",
       "      <td>81</td>\n",
       "    </tr>\n",
       "    <tr>\n",
       "      <th>4</th>\n",
       "      <td>77</td>\n",
       "    </tr>\n",
       "    <tr>\n",
       "      <th>5</th>\n",
       "      <td>62</td>\n",
       "    </tr>\n",
       "  </tbody>\n",
       "</table>\n",
       "</div>"
      ],
      "text/plain": [
       "      Frequency of Delays\n",
       "Week                     \n",
       "1                      67\n",
       "2                      58\n",
       "3                      81\n",
       "4                      77\n",
       "5                      62"
      ]
     },
     "metadata": {},
     "output_type": "display_data"
    },
    {
     "name": "stdout",
     "output_type": "stream",
     "text": [
      "Scatter plot representation of Wednesdays:\n"
     ]
    },
    {
     "data": {
      "image/png": "[encoded data removed]",
      "text/plain": [
       "<matplotlib.figure.Figure at 0x1fe37aaccc0>"
      ]
     },
     "metadata": {},
     "output_type": "display_data"
    },
    {
     "name": "stdout",
     "output_type": "stream",
     "text": [
      "Correlation Coefficent Matrix:\n"
     ]
    },
    {
     "data": {
      "text/html": [
       "<div>\n",
       "<style>\n",
       "    .dataframe thead tr:only-child th {\n",
       "        text-align: right;\n",
       "    }\n",
       "\n",
       "    .dataframe thead th {\n",
       "        text-align: left;\n",
       "    }\n",
       "\n",
       "    .dataframe tbody tr th {\n",
       "        vertical-align: top;\n",
       "    }\n",
       "</style>\n",
       "<table border=\"1\" class=\"dataframe\">\n",
       "  <thead>\n",
       "    <tr style=\"text-align: right;\">\n",
       "      <th></th>\n",
       "      <th>Frequency of Delays</th>\n",
       "      <th>Week in January</th>\n",
       "    </tr>\n",
       "  </thead>\n",
       "  <tbody>\n",
       "    <tr>\n",
       "      <th>Frequency of Delays</th>\n",
       "      <td>1.000000</td>\n",
       "      <td>0.145617</td>\n",
       "    </tr>\n",
       "    <tr>\n",
       "      <th>Week in January</th>\n",
       "      <td>0.145617</td>\n",
       "      <td>1.000000</td>\n",
       "    </tr>\n",
       "  </tbody>\n",
       "</table>\n",
       "</div>"
      ],
      "text/plain": [
       "                     Frequency of Delays  Week in January\n",
       "Frequency of Delays             1.000000         0.145617\n",
       "Week in January                 0.145617         1.000000"
      ]
     },
     "metadata": {},
     "output_type": "display_data"
    }
   ],
   "source": [
    "display_relevant_data(\"Wednesday\")"
   ]
  },
  {
   "cell_type": "markdown",
   "metadata": {},
   "source": [
    "## Thursday"
   ]
  },
  {
   "cell_type": "code",
   "execution_count": 288,
   "metadata": {},
   "outputs": [
    {
     "name": "stdout",
     "output_type": "stream",
     "text": [
      "Week Progression of Thursday:\n"
     ]
    },
    {
     "data": {
      "text/html": [
       "<div>\n",
       "<style>\n",
       "    .dataframe thead tr:only-child th {\n",
       "        text-align: right;\n",
       "    }\n",
       "\n",
       "    .dataframe thead th {\n",
       "        text-align: left;\n",
       "    }\n",
       "\n",
       "    .dataframe tbody tr th {\n",
       "        vertical-align: top;\n",
       "    }\n",
       "</style>\n",
       "<table border=\"1\" class=\"dataframe\">\n",
       "  <thead>\n",
       "    <tr style=\"text-align: right;\">\n",
       "      <th></th>\n",
       "      <th>Frequency of Delays</th>\n",
       "    </tr>\n",
       "    <tr>\n",
       "      <th>Week</th>\n",
       "      <th></th>\n",
       "    </tr>\n",
       "  </thead>\n",
       "  <tbody>\n",
       "    <tr>\n",
       "      <th>1</th>\n",
       "      <td>63</td>\n",
       "    </tr>\n",
       "    <tr>\n",
       "      <th>2</th>\n",
       "      <td>74</td>\n",
       "    </tr>\n",
       "    <tr>\n",
       "      <th>3</th>\n",
       "      <td>62</td>\n",
       "    </tr>\n",
       "    <tr>\n",
       "      <th>4</th>\n",
       "      <td>60</td>\n",
       "    </tr>\n",
       "  </tbody>\n",
       "</table>\n",
       "</div>"
      ],
      "text/plain": [
       "      Frequency of Delays\n",
       "Week                     \n",
       "1                      63\n",
       "2                      74\n",
       "3                      62\n",
       "4                      60"
      ]
     },
     "metadata": {},
     "output_type": "display_data"
    },
    {
     "name": "stdout",
     "output_type": "stream",
     "text": [
      "Scatter plot representation of Thursdays:\n"
     ]
    },
    {
     "data": {
      "image/png": "[encoded data removed]",
      "text/plain": [
       "<matplotlib.figure.Figure at 0x1fe36677908>"
      ]
     },
     "metadata": {},
     "output_type": "display_data"
    },
    {
     "name": "stdout",
     "output_type": "stream",
     "text": [
      "Correlation Coefficent Matrix:\n"
     ]
    },
    {
     "data": {
      "text/html": [
       "<div>\n",
       "<style>\n",
       "    .dataframe thead tr:only-child th {\n",
       "        text-align: right;\n",
       "    }\n",
       "\n",
       "    .dataframe thead th {\n",
       "        text-align: left;\n",
       "    }\n",
       "\n",
       "    .dataframe tbody tr th {\n",
       "        vertical-align: top;\n",
       "    }\n",
       "</style>\n",
       "<table border=\"1\" class=\"dataframe\">\n",
       "  <thead>\n",
       "    <tr style=\"text-align: right;\">\n",
       "      <th></th>\n",
       "      <th>Frequency of Delays</th>\n",
       "      <th>Week in January</th>\n",
       "    </tr>\n",
       "  </thead>\n",
       "  <tbody>\n",
       "    <tr>\n",
       "      <th>Frequency of Delays</th>\n",
       "      <td>1.000000</td>\n",
       "      <td>-0.430911</td>\n",
       "    </tr>\n",
       "    <tr>\n",
       "      <th>Week in January</th>\n",
       "      <td>-0.430911</td>\n",
       "      <td>1.000000</td>\n",
       "    </tr>\n",
       "  </tbody>\n",
       "</table>\n",
       "</div>"
      ],
      "text/plain": [
       "                     Frequency of Delays  Week in January\n",
       "Frequency of Delays             1.000000        -0.430911\n",
       "Week in January                -0.430911         1.000000"
      ]
     },
     "metadata": {},
     "output_type": "display_data"
    }
   ],
   "source": [
    "display_relevant_data(\"Thursday\")"
   ]
  },
  {
   "cell_type": "markdown",
   "metadata": {},
   "source": [
    "## Friday"
   ]
  },
  {
   "cell_type": "code",
   "execution_count": 289,
   "metadata": {},
   "outputs": [
    {
     "name": "stdout",
     "output_type": "stream",
     "text": [
      "Week Progression of Friday:\n"
     ]
    },
    {
     "data": {
      "text/html": [
       "<div>\n",
       "<style>\n",
       "    .dataframe thead tr:only-child th {\n",
       "        text-align: right;\n",
       "    }\n",
       "\n",
       "    .dataframe thead th {\n",
       "        text-align: left;\n",
       "    }\n",
       "\n",
       "    .dataframe tbody tr th {\n",
       "        vertical-align: top;\n",
       "    }\n",
       "</style>\n",
       "<table border=\"1\" class=\"dataframe\">\n",
       "  <thead>\n",
       "    <tr style=\"text-align: right;\">\n",
       "      <th></th>\n",
       "      <th>Frequency of Delays</th>\n",
       "    </tr>\n",
       "    <tr>\n",
       "      <th>Week</th>\n",
       "      <th></th>\n",
       "    </tr>\n",
       "  </thead>\n",
       "  <tbody>\n",
       "    <tr>\n",
       "      <th>1</th>\n",
       "      <td>78</td>\n",
       "    </tr>\n",
       "    <tr>\n",
       "      <th>2</th>\n",
       "      <td>87</td>\n",
       "    </tr>\n",
       "    <tr>\n",
       "      <th>3</th>\n",
       "      <td>74</td>\n",
       "    </tr>\n",
       "    <tr>\n",
       "      <th>4</th>\n",
       "      <td>49</td>\n",
       "    </tr>\n",
       "  </tbody>\n",
       "</table>\n",
       "</div>"
      ],
      "text/plain": [
       "      Frequency of Delays\n",
       "Week                     \n",
       "1                      78\n",
       "2                      87\n",
       "3                      74\n",
       "4                      49"
      ]
     },
     "metadata": {},
     "output_type": "display_data"
    },
    {
     "name": "stdout",
     "output_type": "stream",
     "text": [
      "Scatter plot representation of Fridays:\n"
     ]
    },
    {
     "data": {
      "image/png": "[encoded data removed]",
      "text/plain": [
       "<matplotlib.figure.Figure at 0x1fe37a9a438>"
      ]
     },
     "metadata": {},
     "output_type": "display_data"
    },
    {
     "name": "stdout",
     "output_type": "stream",
     "text": [
      "Correlation Coefficent Matrix:\n"
     ]
    },
    {
     "data": {
      "text/html": [
       "<div>\n",
       "<style>\n",
       "    .dataframe thead tr:only-child th {\n",
       "        text-align: right;\n",
       "    }\n",
       "\n",
       "    .dataframe thead th {\n",
       "        text-align: left;\n",
       "    }\n",
       "\n",
       "    .dataframe tbody tr th {\n",
       "        vertical-align: top;\n",
       "    }\n",
       "</style>\n",
       "<table border=\"1\" class=\"dataframe\">\n",
       "  <thead>\n",
       "    <tr style=\"text-align: right;\">\n",
       "      <th></th>\n",
       "      <th>Frequency of Delays</th>\n",
       "      <th>Week in January</th>\n",
       "    </tr>\n",
       "  </thead>\n",
       "  <tbody>\n",
       "    <tr>\n",
       "      <th>Frequency of Delays</th>\n",
       "      <td>1.000000</td>\n",
       "      <td>-0.793551</td>\n",
       "    </tr>\n",
       "    <tr>\n",
       "      <th>Week in January</th>\n",
       "      <td>-0.793551</td>\n",
       "      <td>1.000000</td>\n",
       "    </tr>\n",
       "  </tbody>\n",
       "</table>\n",
       "</div>"
      ],
      "text/plain": [
       "                     Frequency of Delays  Week in January\n",
       "Frequency of Delays             1.000000        -0.793551\n",
       "Week in January                -0.793551         1.000000"
      ]
     },
     "metadata": {},
     "output_type": "display_data"
    }
   ],
   "source": [
    "display_relevant_data(\"Friday\")"
   ]
  },
  {
   "cell_type": "markdown",
   "metadata": {},
   "source": [
    "## Saturday"
   ]
  },
  {
   "cell_type": "code",
   "execution_count": 290,
   "metadata": {},
   "outputs": [
    {
     "name": "stdout",
     "output_type": "stream",
     "text": [
      "Week Progression of Saturday:\n"
     ]
    },
    {
     "data": {
      "text/html": [
       "<div>\n",
       "<style>\n",
       "    .dataframe thead tr:only-child th {\n",
       "        text-align: right;\n",
       "    }\n",
       "\n",
       "    .dataframe thead th {\n",
       "        text-align: left;\n",
       "    }\n",
       "\n",
       "    .dataframe tbody tr th {\n",
       "        vertical-align: top;\n",
       "    }\n",
       "</style>\n",
       "<table border=\"1\" class=\"dataframe\">\n",
       "  <thead>\n",
       "    <tr style=\"text-align: right;\">\n",
       "      <th></th>\n",
       "      <th>Frequency of Delays</th>\n",
       "    </tr>\n",
       "    <tr>\n",
       "      <th>Week</th>\n",
       "      <th></th>\n",
       "    </tr>\n",
       "  </thead>\n",
       "  <tbody>\n",
       "    <tr>\n",
       "      <th>1</th>\n",
       "      <td>47</td>\n",
       "    </tr>\n",
       "    <tr>\n",
       "      <th>2</th>\n",
       "      <td>33</td>\n",
       "    </tr>\n",
       "    <tr>\n",
       "      <th>3</th>\n",
       "      <td>51</td>\n",
       "    </tr>\n",
       "    <tr>\n",
       "      <th>4</th>\n",
       "      <td>45</td>\n",
       "    </tr>\n",
       "  </tbody>\n",
       "</table>\n",
       "</div>"
      ],
      "text/plain": [
       "      Frequency of Delays\n",
       "Week                     \n",
       "1                      47\n",
       "2                      33\n",
       "3                      51\n",
       "4                      45"
      ]
     },
     "metadata": {},
     "output_type": "display_data"
    },
    {
     "name": "stdout",
     "output_type": "stream",
     "text": [
      "Scatter plot representation of Saturdays:\n"
     ]
    },
    {
     "data": {
      "image/png": "[encoded data removed]",
      "text/plain": [
       "<matplotlib.figure.Figure at 0x1fe37a8c208>"
      ]
     },
     "metadata": {},
     "output_type": "display_data"
    },
    {
     "name": "stdout",
     "output_type": "stream",
     "text": [
      "Correlation Coefficent Matrix:\n"
     ]
    },
    {
     "data": {
      "text/html": [
       "<div>\n",
       "<style>\n",
       "    .dataframe thead tr:only-child th {\n",
       "        text-align: right;\n",
       "    }\n",
       "\n",
       "    .dataframe thead th {\n",
       "        text-align: left;\n",
       "    }\n",
       "\n",
       "    .dataframe tbody tr th {\n",
       "        vertical-align: top;\n",
       "    }\n",
       "</style>\n",
       "<table border=\"1\" class=\"dataframe\">\n",
       "  <thead>\n",
       "    <tr style=\"text-align: right;\">\n",
       "      <th></th>\n",
       "      <th>Frequency of Delays</th>\n",
       "      <th>Week in January</th>\n",
       "    </tr>\n",
       "  </thead>\n",
       "  <tbody>\n",
       "    <tr>\n",
       "      <th>Frequency of Delays</th>\n",
       "      <td>1.0</td>\n",
       "      <td>0.2</td>\n",
       "    </tr>\n",
       "    <tr>\n",
       "      <th>Week in January</th>\n",
       "      <td>0.2</td>\n",
       "      <td>1.0</td>\n",
       "    </tr>\n",
       "  </tbody>\n",
       "</table>\n",
       "</div>"
      ],
      "text/plain": [
       "                     Frequency of Delays  Week in January\n",
       "Frequency of Delays                  1.0              0.2\n",
       "Week in January                      0.2              1.0"
      ]
     },
     "metadata": {},
     "output_type": "display_data"
    }
   ],
   "source": [
    "display_relevant_data(\"Saturday\")"
   ]
  },
  {
   "cell_type": "markdown",
   "metadata": {},
   "source": [
    "## Sunday"
   ]
  },
  {
   "cell_type": "code",
   "execution_count": 291,
   "metadata": {},
   "outputs": [
    {
     "name": "stdout",
     "output_type": "stream",
     "text": [
      "Week Progression of Sunday:\n"
     ]
    },
    {
     "data": {
      "text/html": [
       "<div>\n",
       "<style>\n",
       "    .dataframe thead tr:only-child th {\n",
       "        text-align: right;\n",
       "    }\n",
       "\n",
       "    .dataframe thead th {\n",
       "        text-align: left;\n",
       "    }\n",
       "\n",
       "    .dataframe tbody tr th {\n",
       "        vertical-align: top;\n",
       "    }\n",
       "</style>\n",
       "<table border=\"1\" class=\"dataframe\">\n",
       "  <thead>\n",
       "    <tr style=\"text-align: right;\">\n",
       "      <th></th>\n",
       "      <th>Frequency of Delays</th>\n",
       "    </tr>\n",
       "    <tr>\n",
       "      <th>Week</th>\n",
       "      <th></th>\n",
       "    </tr>\n",
       "  </thead>\n",
       "  <tbody>\n",
       "    <tr>\n",
       "      <th>1</th>\n",
       "      <td>33</td>\n",
       "    </tr>\n",
       "    <tr>\n",
       "      <th>2</th>\n",
       "      <td>34</td>\n",
       "    </tr>\n",
       "    <tr>\n",
       "      <th>3</th>\n",
       "      <td>30</td>\n",
       "    </tr>\n",
       "    <tr>\n",
       "      <th>4</th>\n",
       "      <td>22</td>\n",
       "    </tr>\n",
       "  </tbody>\n",
       "</table>\n",
       "</div>"
      ],
      "text/plain": [
       "      Frequency of Delays\n",
       "Week                     \n",
       "1                      33\n",
       "2                      34\n",
       "3                      30\n",
       "4                      22"
      ]
     },
     "metadata": {},
     "output_type": "display_data"
    },
    {
     "name": "stdout",
     "output_type": "stream",
     "text": [
      "Scatter plot representation of Sundays:\n"
     ]
    },
    {
     "data": {
      "image/png": "[encoded data removed]",
      "text/plain": [
       "<matplotlib.figure.Figure at 0x1fe36581ef0>"
      ]
     },
     "metadata": {},
     "output_type": "display_data"
    },
    {
     "name": "stdout",
     "output_type": "stream",
     "text": [
      "Correlation Coefficent Matrix:\n"
     ]
    },
    {
     "data": {
      "text/html": [
       "<div>\n",
       "<style>\n",
       "    .dataframe thead tr:only-child th {\n",
       "        text-align: right;\n",
       "    }\n",
       "\n",
       "    .dataframe thead th {\n",
       "        text-align: left;\n",
       "    }\n",
       "\n",
       "    .dataframe tbody tr th {\n",
       "        vertical-align: top;\n",
       "    }\n",
       "</style>\n",
       "<table border=\"1\" class=\"dataframe\">\n",
       "  <thead>\n",
       "    <tr style=\"text-align: right;\">\n",
       "      <th></th>\n",
       "      <th>Frequency of Delays</th>\n",
       "      <th>Week in January</th>\n",
       "    </tr>\n",
       "  </thead>\n",
       "  <tbody>\n",
       "    <tr>\n",
       "      <th>Frequency of Delays</th>\n",
       "      <td>1.000000</td>\n",
       "      <td>-0.878218</td>\n",
       "    </tr>\n",
       "    <tr>\n",
       "      <th>Week in January</th>\n",
       "      <td>-0.878218</td>\n",
       "      <td>1.000000</td>\n",
       "    </tr>\n",
       "  </tbody>\n",
       "</table>\n",
       "</div>"
      ],
      "text/plain": [
       "                     Frequency of Delays  Week in January\n",
       "Frequency of Delays             1.000000        -0.878218\n",
       "Week in January                -0.878218         1.000000"
      ]
     },
     "metadata": {},
     "output_type": "display_data"
    }
   ],
   "source": [
    "display_relevant_data(\"Sunday\")"
   ]
  },
  {
   "cell_type": "markdown",
   "metadata": {},
   "source": [
    "# Question 9: What was the worst day in January in terms of total delay time? What reason would you attribute to this phenomenon? Answer the question considering the best day in terms of total delay time."
   ]
  },
  {
   "cell_type": "code",
   "execution_count": 292,
   "metadata": {},
   "outputs": [
    {
     "name": "stdout",
     "output_type": "stream",
     "text": [
      "The top dates that have the worst delays are the following:\n"
     ]
    },
    {
     "data": {
      "text/html": [
       "<div>\n",
       "<style>\n",
       "    .dataframe thead tr:only-child th {\n",
       "        text-align: right;\n",
       "    }\n",
       "\n",
       "    .dataframe thead th {\n",
       "        text-align: left;\n",
       "    }\n",
       "\n",
       "    .dataframe tbody tr th {\n",
       "        vertical-align: top;\n",
       "    }\n",
       "</style>\n",
       "<table border=\"1\" class=\"dataframe\">\n",
       "  <thead>\n",
       "    <tr style=\"text-align: right;\">\n",
       "      <th></th>\n",
       "      <th>Min Delay</th>\n",
       "    </tr>\n",
       "    <tr>\n",
       "      <th>Date</th>\n",
       "      <th></th>\n",
       "    </tr>\n",
       "  </thead>\n",
       "  <tbody>\n",
       "    <tr>\n",
       "      <th>2018-01-08</th>\n",
       "      <td>356</td>\n",
       "    </tr>\n",
       "    <tr>\n",
       "      <th>2018-01-13</th>\n",
       "      <td>341</td>\n",
       "    </tr>\n",
       "    <tr>\n",
       "      <th>2018-01-16</th>\n",
       "      <td>289</td>\n",
       "    </tr>\n",
       "    <tr>\n",
       "      <th>2018-01-30</th>\n",
       "      <td>249</td>\n",
       "    </tr>\n",
       "    <tr>\n",
       "      <th>2018-01-01</th>\n",
       "      <td>238</td>\n",
       "    </tr>\n",
       "    <tr>\n",
       "      <th>2018-01-19</th>\n",
       "      <td>236</td>\n",
       "    </tr>\n",
       "    <tr>\n",
       "      <th>2018-01-12</th>\n",
       "      <td>223</td>\n",
       "    </tr>\n",
       "    <tr>\n",
       "      <th>2018-01-27</th>\n",
       "      <td>211</td>\n",
       "    </tr>\n",
       "    <tr>\n",
       "      <th>2018-01-04</th>\n",
       "      <td>210</td>\n",
       "    </tr>\n",
       "    <tr>\n",
       "      <th>2018-01-10</th>\n",
       "      <td>201</td>\n",
       "    </tr>\n",
       "  </tbody>\n",
       "</table>\n",
       "</div>"
      ],
      "text/plain": [
       "            Min Delay\n",
       "Date                 \n",
       "2018-01-08        356\n",
       "2018-01-13        341\n",
       "2018-01-16        289\n",
       "2018-01-30        249\n",
       "2018-01-01        238\n",
       "2018-01-19        236\n",
       "2018-01-12        223\n",
       "2018-01-27        211\n",
       "2018-01-04        210\n",
       "2018-01-10        201"
      ]
     },
     "metadata": {},
     "output_type": "display_data"
    },
    {
     "name": "stdout",
     "output_type": "stream",
     "text": [
      "A visual representation:\n"
     ]
    },
    {
     "data": {
      "image/png": "[encoded data removed]",
      "text/plain": [
       "<matplotlib.figure.Figure at 0x1fe37c5d390>"
      ]
     },
     "metadata": {},
     "output_type": "display_data"
    }
   ],
   "source": [
    "# What we want to do is group all of the data by its day\n",
    "df_q9_base = df_ttc_original[:].groupby(\"Date\")\n",
    "# and considering that the question asks in terms of total\n",
    "# delay time, we will be using the sum function\n",
    "df_q9_base = df_q9_base.sum()\n",
    "# and we would like to sort the data from greatest to\n",
    "# least\n",
    "df_q9 = df_q9_base[:].sort_values(by=\"Min Delay\", ascending=False)\n",
    "\n",
    "# now, we show the data that we're working with\n",
    "print(\"The top dates that have the worst delays are the following:\")\n",
    "# we want to only display the delays in minutes of a specified\n",
    "# date, but splicing it down to one column shows a series, which\n",
    "# is somewhat messy so it's typecasted into a DataFrame\n",
    "df_q9 = pd.DataFrame(df_q9[\"Min Delay\"].head(10))\n",
    "display(df_q9)\n",
    "\n",
    "print(\"A visual representation:\")\n",
    "df_q9[\"Min Delay\"].plot.bar()\n",
    "plt.ylabel(\"Total Delay (in minutes)\")\n",
    "plt.xlabel(\"Date\")\n",
    "plt.title(\"Date and Total Delay in minutes (January 2018)\")\n",
    "plt.show()"
   ]
  },
  {
   "cell_type": "markdown",
   "metadata": {},
   "source": [
    "What I would like to do is to see if there is a correlation between the weather and the delay, so I have prepared another csv file relating to weather to complement our data above"
   ]
  },
  {
   "cell_type": "code",
   "execution_count": 293,
   "metadata": {
    "collapsed": true
   },
   "outputs": [],
   "source": [
    "df_weather = pd.read_csv('toronto_weather_january.csv', index_col=0, header=0)\n",
    "df_q9_base.loc[:, \"Temperature\"] = df_weather[\"Temperature\"]"
   ]
  },
  {
   "cell_type": "markdown",
   "metadata": {},
   "source": [
    "Let's focus on the weather days prior to the day with the highest delay"
   ]
  },
  {
   "cell_type": "code",
   "execution_count": 294,
   "metadata": {},
   "outputs": [
    {
     "data": {
      "image/png": "[encoded data removed]",
      "text/plain": [
       "<matplotlib.figure.Figure at 0x1fe37a8cba8>"
      ]
     },
     "metadata": {},
     "output_type": "display_data"
    }
   ],
   "source": [
    "days = [\"2018-01-04\", \"2018-01-05\", \"2018-01-06\", \"2018-01-07\", \"2018-01-08\"]\n",
    "df_highest = df_q9_base.loc[days]\n",
    "\n",
    "df_highest[\"Temperature\"].plot.bar()\n",
    "plt.xlabel(\"Date\")\n",
    "plt.ylabel(\"Temperature\")\n",
    "plt.title(\"Temperature prior and during January 8\")\n",
    "plt.show()"
   ]
  },
  {
   "cell_type": "markdown",
   "metadata": {},
   "source": [
    "Perhaps a lot of slush or a lot of ice that may have caused unsafe conditions. We can also try to find the top causes on January 8"
   ]
  },
  {
   "cell_type": "code",
   "execution_count": 295,
   "metadata": {},
   "outputs": [
    {
     "name": "stdout",
     "output_type": "stream",
     "text": [
      "Top 5 instances of the delays:\n"
     ]
    },
    {
     "data": {
      "text/html": [
       "<div>\n",
       "<style>\n",
       "    .dataframe thead tr:only-child th {\n",
       "        text-align: right;\n",
       "    }\n",
       "\n",
       "    .dataframe thead th {\n",
       "        text-align: left;\n",
       "    }\n",
       "\n",
       "    .dataframe tbody tr th {\n",
       "        vertical-align: top;\n",
       "    }\n",
       "</style>\n",
       "<table border=\"1\" class=\"dataframe\">\n",
       "  <thead>\n",
       "    <tr style=\"text-align: right;\">\n",
       "      <th></th>\n",
       "      <th>Time</th>\n",
       "      <th>Day</th>\n",
       "      <th>Station</th>\n",
       "      <th>Code</th>\n",
       "      <th>Min Delay</th>\n",
       "      <th>Min Gap</th>\n",
       "      <th>Bound</th>\n",
       "      <th>Line</th>\n",
       "      <th>Vehicle</th>\n",
       "    </tr>\n",
       "    <tr>\n",
       "      <th>Date</th>\n",
       "      <th></th>\n",
       "      <th></th>\n",
       "      <th></th>\n",
       "      <th></th>\n",
       "      <th></th>\n",
       "      <th></th>\n",
       "      <th></th>\n",
       "      <th></th>\n",
       "      <th></th>\n",
       "    </tr>\n",
       "  </thead>\n",
       "  <tbody>\n",
       "    <tr>\n",
       "      <th>2018-01-08</th>\n",
       "      <td>05:45</td>\n",
       "      <td>Monday</td>\n",
       "      <td>BLOOR DANFORTH SUBWAY</td>\n",
       "      <td>MUFM</td>\n",
       "      <td>131</td>\n",
       "      <td>134</td>\n",
       "      <td>E</td>\n",
       "      <td>BD</td>\n",
       "      <td>5212</td>\n",
       "    </tr>\n",
       "    <tr>\n",
       "      <th>2018-01-08</th>\n",
       "      <td>15:28</td>\n",
       "      <td>Monday</td>\n",
       "      <td>WARDEN STATION</td>\n",
       "      <td>PUSSW</td>\n",
       "      <td>82</td>\n",
       "      <td>87</td>\n",
       "      <td>E</td>\n",
       "      <td>BD</td>\n",
       "      <td>5006</td>\n",
       "    </tr>\n",
       "    <tr>\n",
       "      <th>2018-01-08</th>\n",
       "      <td>05:36</td>\n",
       "      <td>Monday</td>\n",
       "      <td>WILSON STATION</td>\n",
       "      <td>EUTL</td>\n",
       "      <td>17</td>\n",
       "      <td>0</td>\n",
       "      <td>S</td>\n",
       "      <td>YU</td>\n",
       "      <td>5411</td>\n",
       "    </tr>\n",
       "    <tr>\n",
       "      <th>2018-01-08</th>\n",
       "      <td>22:11</td>\n",
       "      <td>Monday</td>\n",
       "      <td>CHESTER STATION</td>\n",
       "      <td>MUDD</td>\n",
       "      <td>12</td>\n",
       "      <td>16</td>\n",
       "      <td>E</td>\n",
       "      <td>BD</td>\n",
       "      <td>5085</td>\n",
       "    </tr>\n",
       "    <tr>\n",
       "      <th>2018-01-08</th>\n",
       "      <td>13:54</td>\n",
       "      <td>Monday</td>\n",
       "      <td>COXWELL STATION</td>\n",
       "      <td>TUNOA</td>\n",
       "      <td>8</td>\n",
       "      <td>11</td>\n",
       "      <td>W</td>\n",
       "      <td>BD</td>\n",
       "      <td>5276</td>\n",
       "    </tr>\n",
       "  </tbody>\n",
       "</table>\n",
       "</div>"
      ],
      "text/plain": [
       "             Time     Day                Station   Code  Min Delay  Min Gap  \\\n",
       "Date                                                                          \n",
       "2018-01-08  05:45  Monday  BLOOR DANFORTH SUBWAY   MUFM        131      134   \n",
       "2018-01-08  15:28  Monday         WARDEN STATION  PUSSW         82       87   \n",
       "2018-01-08  05:36  Monday         WILSON STATION   EUTL         17        0   \n",
       "2018-01-08  22:11  Monday        CHESTER STATION   MUDD         12       16   \n",
       "2018-01-08  13:54  Monday        COXWELL STATION  TUNOA          8       11   \n",
       "\n",
       "           Bound Line  Vehicle  \n",
       "Date                            \n",
       "2018-01-08     E   BD     5212  \n",
       "2018-01-08     E   BD     5006  \n",
       "2018-01-08     S   YU     5411  \n",
       "2018-01-08     E   BD     5085  \n",
       "2018-01-08     W   BD     5276  "
      ]
     },
     "metadata": {},
     "output_type": "display_data"
    },
    {
     "data": {
      "image/png": "[encoded data removed]",
      "text/plain": [
       "<matplotlib.figure.Figure at 0x1fe36581978>"
      ]
     },
     "metadata": {},
     "output_type": "display_data"
    }
   ],
   "source": [
    "df_jn8 = df_ttc_original[:]\n",
    "# we specifically want data from january 8\n",
    "df_jn8 = df_jn8.loc['2018-01-08']\n",
    "# now we want to order our data by the top delays\n",
    "# that attributed to January 8 being at the top date that \n",
    "# has delays\n",
    "df_jn8 = df_jn8.sort_values(by=\"Min Delay\", ascending=False)\n",
    "df_jn8 = df_jn8.head()\n",
    "print(\"Top 5 instances of the delays:\")\n",
    "display(df_jn8)\n",
    "\n",
    "# making of a bar graph\n",
    "df_jn8.plot(x='Station', y='Min Delay', kind='bar')\n",
    "plt.xlabel(\"Station\")\n",
    "plt.ylabel(\"Delay (in minutes)\")\n",
    "plt.title(\"Station and respective minute delay\")\n",
    "plt.show()"
   ]
  },
  {
   "cell_type": "markdown",
   "metadata": {},
   "source": [
    "We find that the two stations that attribute the most is Bloor Danforth and Warden Station."
   ]
  },
  {
   "cell_type": "markdown",
   "metadata": {},
   "source": [
    "## The best day"
   ]
  },
  {
   "cell_type": "code",
   "execution_count": 296,
   "metadata": {},
   "outputs": [
    {
     "data": {
      "image/png": "[encoded data removed]",
      "text/plain": [
       "<matplotlib.figure.Figure at 0x1fe3657b1d0>"
      ]
     },
     "metadata": {},
     "output_type": "display_data"
    }
   ],
   "source": [
    "# first we want to get the data of our base dataframe\n",
    "# and order it in ascending order\n",
    "df_q9 = df_q9_base[:].sort_values(by=\"Min Delay\")\n",
    "# of which, we just want the top 5 days to display visually\n",
    "df_q9 = df_q9.head()\n",
    "\n",
    "#df_weather\n",
    "df_q9[\"Min Delay\"].plot.bar()\n",
    "plt.ylabel(\"Total Delay (in minutes)\")\n",
    "plt.xlabel(\"Date\")\n",
    "plt.title(\"Date and Total Delay in minutes (January 2018)\")\n",
    "plt.show()"
   ]
  },
  {
   "cell_type": "code",
   "execution_count": 297,
   "metadata": {
    "scrolled": true
   },
   "outputs": [
    {
     "data": {
      "image/png": "[encoded data removed]",
      "text/plain": [
       "<matplotlib.figure.Figure at 0x1fe36647518>"
      ]
     },
     "metadata": {},
     "output_type": "display_data"
    }
   ],
   "source": [
    "# and then we want the weather prior to and during January 28\n",
    "days = [\"2018-01-24\", \"2018-01-25\", \"2018-01-26\", \"2018-01-27\", \"2018-01-28\"]\n",
    "df_highest = df_q9_base.loc[days]\n",
    "\n",
    "df_highest[\"Temperature\"].plot.bar()\n",
    "plt.xlabel(\"Date\")\n",
    "plt.ylabel(\"Temperature\")\n",
    "plt.title(\"Temperature prior and during January 28\")\n",
    "plt.show()"
   ]
  },
  {
   "cell_type": "markdown",
   "metadata": {},
   "source": [
    "# Question 10: What are the top 10 vehicles associated with longer delays? That is, is there any link between the delays and vehicles? What reason could you attribute to this longer delay time?"
   ]
  },
  {
   "cell_type": "code",
   "execution_count": 298,
   "metadata": {
    "collapsed": true
   },
   "outputs": [],
   "source": [
    "# As discussed in initialization, we need to remove/impute some data\n",
    "\n",
    "# What's really unique is that if a vehicle is strictly on the SRT line, then it's in the 3000 series\n",
    "# to which we will just use the average of SRTs\n",
    "\n",
    "# if the vehicle is strictly on the bloor danforth line, then it's in the 5000 series\n",
    "\n",
    "# The younge union line is really difficult to say\n",
    "\n",
    "# In this case, we can use SQL or strip-edit-add back\n",
    "# since we don't have a proper database, we'll just\n",
    "# strip-edit-add back"
   ]
  },
  {
   "cell_type": "code",
   "execution_count": 299,
   "metadata": {
    "collapsed": true
   },
   "outputs": [],
   "source": [
    "# get the original data\n",
    "df_q10 = df_ttc_original[:]\n",
    "\n",
    "\n",
    "df_srt = df_q10[:]\n",
    "# get the srt specific data\n",
    "df_srt = df_srt[df_srt[\"Line\"]==\"SRT\"]\n",
    "# now we can drop the srt specific data in df_q10, as we will be adding it later\n",
    "df_q10 = df_q10[df_q10[\"Line\"] != \"SRT\"]\n",
    "\n",
    "# we use describe (temporary use) to find the average SRT vehicle\n",
    "# we also need this to get the data that doesn't have an SRT vehicle number\n",
    "df_temp = df_srt[df_srt[\"Vehicle\"] != 0]\n",
    "df_temp.describe()\n",
    "# Average is 3015.\n",
    "\n",
    "# Now we want to get the vehicles that only has a SRT vehicle number of 0\n",
    "# and replace their vehicle number if 3015\n",
    "df_srt[\"Vehicle\"] = df_srt[\"Vehicle\"].map({0:3015})\n",
    "# after the code above, all vehicles that do have a SRT vehicle number that\n",
    "# is not 0 is listed as null. in this case, we remove those vehicles\n",
    "df_srt = df_srt.dropna(axis=0, subset=['Vehicle'])\n",
    "# we append all srt data\n",
    "df_srt = df_srt.append(df_temp)\n",
    "\n",
    "\n",
    "# we can do the same thing for the blood danforth line\n",
    "df_bd = df_q10[:]\n",
    "df_bd = df_bd[df_bd[\"Line\"] == \"BD\"]\n",
    "# we can now drop the blood danforth line rows, we will be adding our data later\n",
    "df_q10 = df_q10[df_q10[\"Line\"] != \"BD\"]\n",
    "\n",
    "# by temporary use, we will get the vehicles to find the average bloor danforth\n",
    "# vehicle\n",
    "df_temp = df_bd[df_bd[\"Vehicle\"] != 0]\n",
    "df_temp.describe()\n",
    "# average is 5185\n",
    "\n",
    "\n",
    "# Now we want to get the vehicles that only has a vehicle number of 0\n",
    "# and replace it with 5185\n",
    "df_bd[\"Vehicle\"] = df_bd[\"Vehicle\"].map({0:5185})\n",
    "# after the code above, all vehicles that did have a vehicle number is\n",
    "# listed as null. We remove those vehicles to only get rows whose\n",
    "# vehicle number is 0\n",
    "df_bd = df_bd.dropna(axis=0, subset=[\"Vehicle\"])\n",
    "# we append all bloor danforth data\n",
    "df_bd = df_bd.append(df_temp)\n",
    "\n",
    "# now we can add back our data to the original q10 dataframe\n",
    "df_q10 = df_q10.append(df_srt)\n",
    "df_q10 = df_q10.append(df_bd)\n",
    "\n",
    "# we now just want to remove all vehicles whose vehicle number is 0\n",
    "# as it is difficult to tell where they should be placed at\n",
    "df_q10 = df_q10[df_q10[\"Vehicle\"] != 0]"
   ]
  },
  {
   "cell_type": "markdown",
   "metadata": {},
   "source": [
    "Now we can tackle the question: What are the top 10 vehicles associated with longer delays? That is, is there any link between the delays and vehicles?"
   ]
  },
  {
   "cell_type": "markdown",
   "metadata": {},
   "source": [
    "There's probably hundreds of different vehicle numbers to pick. Considering how I have imputated the data above, it may be really skewed to two specific vehicle numbers if we were to use the sum function, so in this case, it may be best to view performance of delays as an average through the vehicle number"
   ]
  },
  {
   "cell_type": "code",
   "execution_count": 300,
   "metadata": {
    "collapsed": true
   },
   "outputs": [],
   "source": [
    "# in this case, we want to group the data by the vehicle number\n",
    "df_q10 = df_q10.groupby(\"Vehicle\")\n",
    "# and as described above, I will be using the mean function instead\n",
    "# of the sum function\n",
    "df_q10 = df_q10.mean()"
   ]
  },
  {
   "cell_type": "markdown",
   "metadata": {},
   "source": [
    "Now we want to determine the vehicles with the highest amount of delay"
   ]
  },
  {
   "cell_type": "code",
   "execution_count": 301,
   "metadata": {},
   "outputs": [
    {
     "name": "stdout",
     "output_type": "stream",
     "text": [
      "The top 10 vehicles that have the highest delay times are the following:\n"
     ]
    },
    {
     "data": {
      "text/html": [
       "<div>\n",
       "<style>\n",
       "    .dataframe thead tr:only-child th {\n",
       "        text-align: right;\n",
       "    }\n",
       "\n",
       "    .dataframe thead th {\n",
       "        text-align: left;\n",
       "    }\n",
       "\n",
       "    .dataframe tbody tr th {\n",
       "        vertical-align: top;\n",
       "    }\n",
       "</style>\n",
       "<table border=\"1\" class=\"dataframe\">\n",
       "  <thead>\n",
       "    <tr style=\"text-align: right;\">\n",
       "      <th></th>\n",
       "      <th>Min Delay</th>\n",
       "    </tr>\n",
       "    <tr>\n",
       "      <th>Vehicle</th>\n",
       "      <th></th>\n",
       "    </tr>\n",
       "  </thead>\n",
       "  <tbody>\n",
       "    <tr>\n",
       "      <th>3013.0</th>\n",
       "      <td>77.500000</td>\n",
       "    </tr>\n",
       "    <tr>\n",
       "      <th>5225.0</th>\n",
       "      <td>62.000000</td>\n",
       "    </tr>\n",
       "    <tr>\n",
       "      <th>5212.0</th>\n",
       "      <td>46.333333</td>\n",
       "    </tr>\n",
       "    <tr>\n",
       "      <th>3001.0</th>\n",
       "      <td>39.500000</td>\n",
       "    </tr>\n",
       "    <tr>\n",
       "      <th>5412.0</th>\n",
       "      <td>39.000000</td>\n",
       "    </tr>\n",
       "    <tr>\n",
       "      <th>5461.0</th>\n",
       "      <td>33.875000</td>\n",
       "    </tr>\n",
       "    <tr>\n",
       "      <th>5006.0</th>\n",
       "      <td>27.333333</td>\n",
       "    </tr>\n",
       "    <tr>\n",
       "      <th>5291.0</th>\n",
       "      <td>23.000000</td>\n",
       "    </tr>\n",
       "    <tr>\n",
       "      <th>5127.0</th>\n",
       "      <td>22.000000</td>\n",
       "    </tr>\n",
       "    <tr>\n",
       "      <th>6106.0</th>\n",
       "      <td>22.000000</td>\n",
       "    </tr>\n",
       "  </tbody>\n",
       "</table>\n",
       "</div>"
      ],
      "text/plain": [
       "         Min Delay\n",
       "Vehicle           \n",
       "3013.0   77.500000\n",
       "5225.0   62.000000\n",
       "5212.0   46.333333\n",
       "3001.0   39.500000\n",
       "5412.0   39.000000\n",
       "5461.0   33.875000\n",
       "5006.0   27.333333\n",
       "5291.0   23.000000\n",
       "5127.0   22.000000\n",
       "6106.0   22.000000"
      ]
     },
     "execution_count": 301,
     "metadata": {},
     "output_type": "execute_result"
    }
   ],
   "source": [
    "df_q10 = df_q10.sort_values(by=\"Min Delay\", ascending=False)\n",
    "print(\"The top 10 vehicles that have the highest delay times are the following:\")\n",
    "df_q10_top10 = pd.DataFrame(df_q10[\"Min Delay\"].head(10))\n",
    "df_q10_top10"
   ]
  },
  {
   "cell_type": "code",
   "execution_count": 302,
   "metadata": {},
   "outputs": [
    {
     "name": "stdout",
     "output_type": "stream",
     "text": [
      "Visually, we can see the comparison\n"
     ]
    },
    {
     "data": {
      "image/png": "[encoded data removed]",
      "text/plain": [
       "<matplotlib.figure.Figure at 0x1fe37d92fd0>"
      ]
     },
     "metadata": {},
     "output_type": "display_data"
    }
   ],
   "source": [
    "print(\"Visually, we can see the comparison\")\n",
    "# thanks to Question 2, we can see the comparison\n",
    "# making of a bar graph\n",
    "\n",
    "df_q10_top10[\"Min Delay\"].plot.bar()\n",
    "plt.xlabel(\"Vehicle\")\n",
    "plt.ylabel(\"Delay (in minutes)\")\n",
    "plt.title(\"Vehicle and Average minute delay\")\n",
    "plt.show()"
   ]
  },
  {
   "cell_type": "markdown",
   "metadata": {},
   "source": [
    "Answering the second question: Is there any link between delays and vehicles?\n",
    "\n",
    "There's going to be two approaches to this, the first being SRT only and the second being everything but SRT. However, let's start off with all data"
   ]
  },
  {
   "cell_type": "code",
   "execution_count": 303,
   "metadata": {},
   "outputs": [
    {
     "data": {
      "image/png": "[encoded data removed]",
      "text/plain": [
       "<matplotlib.figure.Figure at 0x1fe37ce9630>"
      ]
     },
     "metadata": {},
     "output_type": "display_data"
    },
    {
     "data": {
      "text/html": [
       "<div>\n",
       "<style>\n",
       "    .dataframe thead tr:only-child th {\n",
       "        text-align: right;\n",
       "    }\n",
       "\n",
       "    .dataframe thead th {\n",
       "        text-align: left;\n",
       "    }\n",
       "\n",
       "    .dataframe tbody tr th {\n",
       "        vertical-align: top;\n",
       "    }\n",
       "</style>\n",
       "<table border=\"1\" class=\"dataframe\">\n",
       "  <thead>\n",
       "    <tr style=\"text-align: right;\">\n",
       "      <th></th>\n",
       "      <th>Min Delay</th>\n",
       "      <th>Min Gap</th>\n",
       "      <th>Vehicle Number</th>\n",
       "    </tr>\n",
       "  </thead>\n",
       "  <tbody>\n",
       "    <tr>\n",
       "      <th>Min Delay</th>\n",
       "      <td>1.000000</td>\n",
       "      <td>0.984256</td>\n",
       "      <td>-0.148336</td>\n",
       "    </tr>\n",
       "    <tr>\n",
       "      <th>Min Gap</th>\n",
       "      <td>0.984256</td>\n",
       "      <td>1.000000</td>\n",
       "      <td>-0.185282</td>\n",
       "    </tr>\n",
       "    <tr>\n",
       "      <th>Vehicle Number</th>\n",
       "      <td>-0.148336</td>\n",
       "      <td>-0.185282</td>\n",
       "      <td>1.000000</td>\n",
       "    </tr>\n",
       "  </tbody>\n",
       "</table>\n",
       "</div>"
      ],
      "text/plain": [
       "                Min Delay   Min Gap  Vehicle Number\n",
       "Min Delay        1.000000  0.984256       -0.148336\n",
       "Min Gap          0.984256  1.000000       -0.185282\n",
       "Vehicle Number  -0.148336 -0.185282        1.000000"
      ]
     },
     "execution_count": 303,
     "metadata": {},
     "output_type": "execute_result"
    }
   ],
   "source": [
    "# Many thanks to question 2, we can do a scatter plot easily\n",
    "scatter_plot_me(df_q10, \"Min Delay\", \"Vehicle\", \"Delay (in minutes)\")\n",
    "# we want to add another column for vehicle numbers, specifically for\n",
    "# the correlation coefficient\n",
    "df_q10.loc[:, \"Vehicle Number\"] = df_q10.index.values\n",
    "df_q10.corr(\"pearson\")"
   ]
  },
  {
   "cell_type": "markdown",
   "metadata": {},
   "source": [
    "We see that there is very little correlation. We also see that in our scatter plot, there's two vertical concentrations. To my knowledge, SRT only consists of the 3000 series, so we will be filtering"
   ]
  },
  {
   "cell_type": "markdown",
   "metadata": {},
   "source": [
    "## SRT Only"
   ]
  },
  {
   "cell_type": "code",
   "execution_count": 304,
   "metadata": {},
   "outputs": [
    {
     "data": {
      "image/png": "[encoded data removed]",
      "text/plain": [
       "<matplotlib.figure.Figure at 0x1fe3657b390>"
      ]
     },
     "metadata": {},
     "output_type": "display_data"
    },
    {
     "data": {
      "text/html": [
       "<div>\n",
       "<style>\n",
       "    .dataframe thead tr:only-child th {\n",
       "        text-align: right;\n",
       "    }\n",
       "\n",
       "    .dataframe thead th {\n",
       "        text-align: left;\n",
       "    }\n",
       "\n",
       "    .dataframe tbody tr th {\n",
       "        vertical-align: top;\n",
       "    }\n",
       "</style>\n",
       "<table border=\"1\" class=\"dataframe\">\n",
       "  <thead>\n",
       "    <tr style=\"text-align: right;\">\n",
       "      <th></th>\n",
       "      <th>Min Delay</th>\n",
       "      <th>Min Gap</th>\n",
       "      <th>Vehicle Number</th>\n",
       "    </tr>\n",
       "  </thead>\n",
       "  <tbody>\n",
       "    <tr>\n",
       "      <th>Min Delay</th>\n",
       "      <td>1.000000</td>\n",
       "      <td>0.993237</td>\n",
       "      <td>-0.237778</td>\n",
       "    </tr>\n",
       "    <tr>\n",
       "      <th>Min Gap</th>\n",
       "      <td>0.993237</td>\n",
       "      <td>1.000000</td>\n",
       "      <td>-0.224600</td>\n",
       "    </tr>\n",
       "    <tr>\n",
       "      <th>Vehicle Number</th>\n",
       "      <td>-0.237778</td>\n",
       "      <td>-0.224600</td>\n",
       "      <td>1.000000</td>\n",
       "    </tr>\n",
       "  </tbody>\n",
       "</table>\n",
       "</div>"
      ],
      "text/plain": [
       "                Min Delay   Min Gap  Vehicle Number\n",
       "Min Delay        1.000000  0.993237       -0.237778\n",
       "Min Gap          0.993237  1.000000       -0.224600\n",
       "Vehicle Number  -0.237778 -0.224600        1.000000"
      ]
     },
     "metadata": {},
     "output_type": "display_data"
    },
    {
     "name": "stdout",
     "output_type": "stream",
     "text": [
      "Consider removing the outlier\n"
     ]
    },
    {
     "data": {
      "image/png": "[encoded data removed]",
      "text/plain": [
       "<matplotlib.figure.Figure at 0x1fe37dd8828>"
      ]
     },
     "metadata": {},
     "output_type": "display_data"
    },
    {
     "data": {
      "text/html": [
       "<div>\n",
       "<style>\n",
       "    .dataframe thead tr:only-child th {\n",
       "        text-align: right;\n",
       "    }\n",
       "\n",
       "    .dataframe thead th {\n",
       "        text-align: left;\n",
       "    }\n",
       "\n",
       "    .dataframe tbody tr th {\n",
       "        vertical-align: top;\n",
       "    }\n",
       "</style>\n",
       "<table border=\"1\" class=\"dataframe\">\n",
       "  <thead>\n",
       "    <tr style=\"text-align: right;\">\n",
       "      <th></th>\n",
       "      <th>Min Delay</th>\n",
       "      <th>Min Gap</th>\n",
       "      <th>Vehicle Number</th>\n",
       "    </tr>\n",
       "  </thead>\n",
       "  <tbody>\n",
       "    <tr>\n",
       "      <th>Min Delay</th>\n",
       "      <td>1.000000</td>\n",
       "      <td>0.980724</td>\n",
       "      <td>-0.436981</td>\n",
       "    </tr>\n",
       "    <tr>\n",
       "      <th>Min Gap</th>\n",
       "      <td>0.980724</td>\n",
       "      <td>1.000000</td>\n",
       "      <td>-0.370227</td>\n",
       "    </tr>\n",
       "    <tr>\n",
       "      <th>Vehicle Number</th>\n",
       "      <td>-0.436981</td>\n",
       "      <td>-0.370227</td>\n",
       "      <td>1.000000</td>\n",
       "    </tr>\n",
       "  </tbody>\n",
       "</table>\n",
       "</div>"
      ],
      "text/plain": [
       "                Min Delay   Min Gap  Vehicle Number\n",
       "Min Delay        1.000000  0.980724       -0.436981\n",
       "Min Gap          0.980724  1.000000       -0.370227\n",
       "Vehicle Number  -0.436981 -0.370227        1.000000"
      ]
     },
     "execution_count": 304,
     "metadata": {},
     "output_type": "execute_result"
    }
   ],
   "source": [
    "# copy all the data from the modified dataframe\n",
    "df_srt_only = df_q10[:]\n",
    "# then we want to loc into only those vehicles in the\n",
    "# 3000 series\n",
    "t_range = range(3000, 4001)\n",
    "df_srt_only = df_srt_only.loc[t_range]\n",
    "df_srt_only = df_srt_only.dropna(axis=0, subset=[\"Min Delay\"])\n",
    "df_srt_only\n",
    "\n",
    "# We can draw a scatter plot, thanks to question 2\n",
    "# Many thanks to question 2, we can do a scatter plot easily\n",
    "scatter_plot_me(df_srt_only, \"Min Delay\", \"Vehicle\", \"Delay (in minutes)\")\n",
    "display(df_srt_only.corr(\"pearson\"))\n",
    "print(\"Consider removing the outlier\")\n",
    "df_srt_only = df_srt_only[df_srt_only[\"Min Delay\"] < 70]\n",
    "scatter_plot_me(df_srt_only, \"Min Delay\", \"Vehicle\", \"Delay (in minutes)\")\n",
    "df_srt_only.corr(\"pearson\")"
   ]
  },
  {
   "cell_type": "markdown",
   "metadata": {},
   "source": [
    "## Everything but SRT"
   ]
  },
  {
   "cell_type": "markdown",
   "metadata": {},
   "source": [
    "Due to scaling issues (and as seen with what we did with all data), finding a line of best fit from 1000 to 9000 is rather difficult. In this case, we will be focusing on the second concentrated piece that we have seen in all data (which consists of vehicle numbers between 5000 to 7000) as it does represent a great majority of \"other\""
   ]
  },
  {
   "cell_type": "code",
   "execution_count": 305,
   "metadata": {},
   "outputs": [
    {
     "data": {
      "image/png": "[encoded data removed]",
      "text/plain": [
       "<matplotlib.figure.Figure at 0x1fe3795bb00>"
      ]
     },
     "metadata": {},
     "output_type": "display_data"
    },
    {
     "data": {
      "text/html": [
       "<div>\n",
       "<style>\n",
       "    .dataframe thead tr:only-child th {\n",
       "        text-align: right;\n",
       "    }\n",
       "\n",
       "    .dataframe thead th {\n",
       "        text-align: left;\n",
       "    }\n",
       "\n",
       "    .dataframe tbody tr th {\n",
       "        vertical-align: top;\n",
       "    }\n",
       "</style>\n",
       "<table border=\"1\" class=\"dataframe\">\n",
       "  <thead>\n",
       "    <tr style=\"text-align: right;\">\n",
       "      <th></th>\n",
       "      <th>Min Delay</th>\n",
       "      <th>Min Gap</th>\n",
       "      <th>Vehicle Number</th>\n",
       "    </tr>\n",
       "  </thead>\n",
       "  <tbody>\n",
       "    <tr>\n",
       "      <th>Min Delay</th>\n",
       "      <td>1.000000</td>\n",
       "      <td>0.981517</td>\n",
       "      <td>0.046144</td>\n",
       "    </tr>\n",
       "    <tr>\n",
       "      <th>Min Gap</th>\n",
       "      <td>0.981517</td>\n",
       "      <td>1.000000</td>\n",
       "      <td>0.060814</td>\n",
       "    </tr>\n",
       "    <tr>\n",
       "      <th>Vehicle Number</th>\n",
       "      <td>0.046144</td>\n",
       "      <td>0.060814</td>\n",
       "      <td>1.000000</td>\n",
       "    </tr>\n",
       "  </tbody>\n",
       "</table>\n",
       "</div>"
      ],
      "text/plain": [
       "                Min Delay   Min Gap  Vehicle Number\n",
       "Min Delay        1.000000  0.981517        0.046144\n",
       "Min Gap          0.981517  1.000000        0.060814\n",
       "Vehicle Number   0.046144  0.060814        1.000000"
      ]
     },
     "execution_count": 305,
     "metadata": {},
     "output_type": "execute_result"
    }
   ],
   "source": [
    "# copy all the data from the modified dataframe\n",
    "df_no_srt = df_q10[:]\n",
    "# then we want to loc into only those vehicles in the\n",
    "# 5000 to 6000 series\n",
    "t_range = range(5000, 7001)\n",
    "df_no_srt = df_no_srt.loc[t_range]\n",
    "df_no_srt = df_no_srt.dropna(axis=0, subset=[\"Min Delay\"])\n",
    "\n",
    "# We can draw a scatter plot, thanks to question 2\n",
    "# Many thanks to question 2, we can do a scatter plot easily\n",
    "scatter_plot_me(df_no_srt, \"Min Delay\", \"Vehicle\", \"Delay (in minutes)\")\n",
    "df_no_srt.corr(\"pearson\")"
   ]
  }
 ],
 "metadata": {
  "kernelspec": {
   "display_name": "Python 3",
   "language": "python",
   "name": "python3"
  },
  "language_info": {
   "codemirror_mode": {
    "name": "ipython",
    "version": 3
   },
   "file_extension": ".py",
   "mimetype": "text/x-python",
   "name": "python",
   "nbconvert_exporter": "python",
   "pygments_lexer": "ipython3",
   "version": "3.6.3"
  }
 },
 "nbformat": 4,
 "nbformat_minor": 2
}
